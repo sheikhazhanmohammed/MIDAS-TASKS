{
  "nbformat": 4,
  "nbformat_minor": 0,
  "metadata": {
    "colab": {
      "name": "trainerWithoutTransferLearning.ipynb",
      "provenance": []
    },
    "kernelspec": {
      "name": "python3",
      "display_name": "Python 3"
    },
    "language_info": {
      "name": "python"
    },
    "accelerator": "GPU",
    "widgets": {
      "application/vnd.jupyter.widget-state+json": {
        "72eaaa3627844ec58f96ddeee21b442a": {
          "model_module": "@jupyter-widgets/controls",
          "model_name": "HBoxModel",
          "state": {
            "_view_name": "HBoxView",
            "_dom_classes": [],
            "_model_name": "HBoxModel",
            "_view_module": "@jupyter-widgets/controls",
            "_model_module_version": "1.5.0",
            "_view_count": null,
            "_view_module_version": "1.5.0",
            "box_style": "",
            "layout": "IPY_MODEL_5cff106f5e75473cbafd95e5a789a830",
            "_model_module": "@jupyter-widgets/controls",
            "children": [
              "IPY_MODEL_c6809e96b5ff4fb6873da4c87c070760",
              "IPY_MODEL_064c47e7bee4482e9db23d441a424f9d"
            ]
          }
        },
        "5cff106f5e75473cbafd95e5a789a830": {
          "model_module": "@jupyter-widgets/base",
          "model_name": "LayoutModel",
          "state": {
            "_view_name": "LayoutView",
            "grid_template_rows": null,
            "right": null,
            "justify_content": null,
            "_view_module": "@jupyter-widgets/base",
            "overflow": null,
            "_model_module_version": "1.2.0",
            "_view_count": null,
            "flex_flow": null,
            "width": null,
            "min_width": null,
            "border": null,
            "align_items": null,
            "bottom": null,
            "_model_module": "@jupyter-widgets/base",
            "top": null,
            "grid_column": null,
            "overflow_y": null,
            "overflow_x": null,
            "grid_auto_flow": null,
            "grid_area": null,
            "grid_template_columns": null,
            "flex": null,
            "_model_name": "LayoutModel",
            "justify_items": null,
            "grid_row": null,
            "max_height": null,
            "align_content": null,
            "visibility": null,
            "align_self": null,
            "height": null,
            "min_height": null,
            "padding": null,
            "grid_auto_rows": null,
            "grid_gap": null,
            "max_width": null,
            "order": null,
            "_view_module_version": "1.2.0",
            "grid_template_areas": null,
            "object_position": null,
            "object_fit": null,
            "grid_auto_columns": null,
            "margin": null,
            "display": null,
            "left": null
          }
        },
        "c6809e96b5ff4fb6873da4c87c070760": {
          "model_module": "@jupyter-widgets/controls",
          "model_name": "FloatProgressModel",
          "state": {
            "_view_name": "ProgressView",
            "style": "IPY_MODEL_a439277fd1444dfcaaf6cf78b89d77d6",
            "_dom_classes": [],
            "description": "",
            "_model_name": "FloatProgressModel",
            "bar_style": "success",
            "max": 9912422,
            "_view_module": "@jupyter-widgets/controls",
            "_model_module_version": "1.5.0",
            "value": 9912422,
            "_view_count": null,
            "_view_module_version": "1.5.0",
            "orientation": "horizontal",
            "min": 0,
            "description_tooltip": null,
            "_model_module": "@jupyter-widgets/controls",
            "layout": "IPY_MODEL_7fdff32e9a5e4c948d41219df0bdc824"
          }
        },
        "064c47e7bee4482e9db23d441a424f9d": {
          "model_module": "@jupyter-widgets/controls",
          "model_name": "HTMLModel",
          "state": {
            "_view_name": "HTMLView",
            "style": "IPY_MODEL_385f5b3180b6449db27e4bb85e383f30",
            "_dom_classes": [],
            "description": "",
            "_model_name": "HTMLModel",
            "placeholder": "​",
            "_view_module": "@jupyter-widgets/controls",
            "_model_module_version": "1.5.0",
            "value": " 9913344/? [00:00&lt;00:00, 11274946.45it/s]",
            "_view_count": null,
            "_view_module_version": "1.5.0",
            "description_tooltip": null,
            "_model_module": "@jupyter-widgets/controls",
            "layout": "IPY_MODEL_8046145210b143a4bec0e02ee18ccdb6"
          }
        },
        "a439277fd1444dfcaaf6cf78b89d77d6": {
          "model_module": "@jupyter-widgets/controls",
          "model_name": "ProgressStyleModel",
          "state": {
            "_view_name": "StyleView",
            "_model_name": "ProgressStyleModel",
            "description_width": "initial",
            "_view_module": "@jupyter-widgets/base",
            "_model_module_version": "1.5.0",
            "_view_count": null,
            "_view_module_version": "1.2.0",
            "bar_color": null,
            "_model_module": "@jupyter-widgets/controls"
          }
        },
        "7fdff32e9a5e4c948d41219df0bdc824": {
          "model_module": "@jupyter-widgets/base",
          "model_name": "LayoutModel",
          "state": {
            "_view_name": "LayoutView",
            "grid_template_rows": null,
            "right": null,
            "justify_content": null,
            "_view_module": "@jupyter-widgets/base",
            "overflow": null,
            "_model_module_version": "1.2.0",
            "_view_count": null,
            "flex_flow": null,
            "width": null,
            "min_width": null,
            "border": null,
            "align_items": null,
            "bottom": null,
            "_model_module": "@jupyter-widgets/base",
            "top": null,
            "grid_column": null,
            "overflow_y": null,
            "overflow_x": null,
            "grid_auto_flow": null,
            "grid_area": null,
            "grid_template_columns": null,
            "flex": null,
            "_model_name": "LayoutModel",
            "justify_items": null,
            "grid_row": null,
            "max_height": null,
            "align_content": null,
            "visibility": null,
            "align_self": null,
            "height": null,
            "min_height": null,
            "padding": null,
            "grid_auto_rows": null,
            "grid_gap": null,
            "max_width": null,
            "order": null,
            "_view_module_version": "1.2.0",
            "grid_template_areas": null,
            "object_position": null,
            "object_fit": null,
            "grid_auto_columns": null,
            "margin": null,
            "display": null,
            "left": null
          }
        },
        "385f5b3180b6449db27e4bb85e383f30": {
          "model_module": "@jupyter-widgets/controls",
          "model_name": "DescriptionStyleModel",
          "state": {
            "_view_name": "StyleView",
            "_model_name": "DescriptionStyleModel",
            "description_width": "",
            "_view_module": "@jupyter-widgets/base",
            "_model_module_version": "1.5.0",
            "_view_count": null,
            "_view_module_version": "1.2.0",
            "_model_module": "@jupyter-widgets/controls"
          }
        },
        "8046145210b143a4bec0e02ee18ccdb6": {
          "model_module": "@jupyter-widgets/base",
          "model_name": "LayoutModel",
          "state": {
            "_view_name": "LayoutView",
            "grid_template_rows": null,
            "right": null,
            "justify_content": null,
            "_view_module": "@jupyter-widgets/base",
            "overflow": null,
            "_model_module_version": "1.2.0",
            "_view_count": null,
            "flex_flow": null,
            "width": null,
            "min_width": null,
            "border": null,
            "align_items": null,
            "bottom": null,
            "_model_module": "@jupyter-widgets/base",
            "top": null,
            "grid_column": null,
            "overflow_y": null,
            "overflow_x": null,
            "grid_auto_flow": null,
            "grid_area": null,
            "grid_template_columns": null,
            "flex": null,
            "_model_name": "LayoutModel",
            "justify_items": null,
            "grid_row": null,
            "max_height": null,
            "align_content": null,
            "visibility": null,
            "align_self": null,
            "height": null,
            "min_height": null,
            "padding": null,
            "grid_auto_rows": null,
            "grid_gap": null,
            "max_width": null,
            "order": null,
            "_view_module_version": "1.2.0",
            "grid_template_areas": null,
            "object_position": null,
            "object_fit": null,
            "grid_auto_columns": null,
            "margin": null,
            "display": null,
            "left": null
          }
        },
        "e3d9860b5f2b4be1b88c5e135d91d300": {
          "model_module": "@jupyter-widgets/controls",
          "model_name": "HBoxModel",
          "state": {
            "_view_name": "HBoxView",
            "_dom_classes": [],
            "_model_name": "HBoxModel",
            "_view_module": "@jupyter-widgets/controls",
            "_model_module_version": "1.5.0",
            "_view_count": null,
            "_view_module_version": "1.5.0",
            "box_style": "",
            "layout": "IPY_MODEL_7b0038cb06c64b55883e1b0ad0c73a56",
            "_model_module": "@jupyter-widgets/controls",
            "children": [
              "IPY_MODEL_3b34be2b41544b1795a73170ffdd470f",
              "IPY_MODEL_939ed810c20149a8a2520ef5d6a7cedb"
            ]
          }
        },
        "7b0038cb06c64b55883e1b0ad0c73a56": {
          "model_module": "@jupyter-widgets/base",
          "model_name": "LayoutModel",
          "state": {
            "_view_name": "LayoutView",
            "grid_template_rows": null,
            "right": null,
            "justify_content": null,
            "_view_module": "@jupyter-widgets/base",
            "overflow": null,
            "_model_module_version": "1.2.0",
            "_view_count": null,
            "flex_flow": null,
            "width": null,
            "min_width": null,
            "border": null,
            "align_items": null,
            "bottom": null,
            "_model_module": "@jupyter-widgets/base",
            "top": null,
            "grid_column": null,
            "overflow_y": null,
            "overflow_x": null,
            "grid_auto_flow": null,
            "grid_area": null,
            "grid_template_columns": null,
            "flex": null,
            "_model_name": "LayoutModel",
            "justify_items": null,
            "grid_row": null,
            "max_height": null,
            "align_content": null,
            "visibility": null,
            "align_self": null,
            "height": null,
            "min_height": null,
            "padding": null,
            "grid_auto_rows": null,
            "grid_gap": null,
            "max_width": null,
            "order": null,
            "_view_module_version": "1.2.0",
            "grid_template_areas": null,
            "object_position": null,
            "object_fit": null,
            "grid_auto_columns": null,
            "margin": null,
            "display": null,
            "left": null
          }
        },
        "3b34be2b41544b1795a73170ffdd470f": {
          "model_module": "@jupyter-widgets/controls",
          "model_name": "FloatProgressModel",
          "state": {
            "_view_name": "ProgressView",
            "style": "IPY_MODEL_9b687674fed9423e938b399d3b6e6a2a",
            "_dom_classes": [],
            "description": "",
            "_model_name": "FloatProgressModel",
            "bar_style": "success",
            "max": 28881,
            "_view_module": "@jupyter-widgets/controls",
            "_model_module_version": "1.5.0",
            "value": 28881,
            "_view_count": null,
            "_view_module_version": "1.5.0",
            "orientation": "horizontal",
            "min": 0,
            "description_tooltip": null,
            "_model_module": "@jupyter-widgets/controls",
            "layout": "IPY_MODEL_e70f0669d7a34acfbc841bac34e2bb5e"
          }
        },
        "939ed810c20149a8a2520ef5d6a7cedb": {
          "model_module": "@jupyter-widgets/controls",
          "model_name": "HTMLModel",
          "state": {
            "_view_name": "HTMLView",
            "style": "IPY_MODEL_3e81d264f74d4bde8e0f7b9fa7677c97",
            "_dom_classes": [],
            "description": "",
            "_model_name": "HTMLModel",
            "placeholder": "​",
            "_view_module": "@jupyter-widgets/controls",
            "_model_module_version": "1.5.0",
            "value": " 29696/? [00:36&lt;00:00, 809.53it/s]",
            "_view_count": null,
            "_view_module_version": "1.5.0",
            "description_tooltip": null,
            "_model_module": "@jupyter-widgets/controls",
            "layout": "IPY_MODEL_8bb730834a5549d5a044b64ed40642ac"
          }
        },
        "9b687674fed9423e938b399d3b6e6a2a": {
          "model_module": "@jupyter-widgets/controls",
          "model_name": "ProgressStyleModel",
          "state": {
            "_view_name": "StyleView",
            "_model_name": "ProgressStyleModel",
            "description_width": "initial",
            "_view_module": "@jupyter-widgets/base",
            "_model_module_version": "1.5.0",
            "_view_count": null,
            "_view_module_version": "1.2.0",
            "bar_color": null,
            "_model_module": "@jupyter-widgets/controls"
          }
        },
        "e70f0669d7a34acfbc841bac34e2bb5e": {
          "model_module": "@jupyter-widgets/base",
          "model_name": "LayoutModel",
          "state": {
            "_view_name": "LayoutView",
            "grid_template_rows": null,
            "right": null,
            "justify_content": null,
            "_view_module": "@jupyter-widgets/base",
            "overflow": null,
            "_model_module_version": "1.2.0",
            "_view_count": null,
            "flex_flow": null,
            "width": null,
            "min_width": null,
            "border": null,
            "align_items": null,
            "bottom": null,
            "_model_module": "@jupyter-widgets/base",
            "top": null,
            "grid_column": null,
            "overflow_y": null,
            "overflow_x": null,
            "grid_auto_flow": null,
            "grid_area": null,
            "grid_template_columns": null,
            "flex": null,
            "_model_name": "LayoutModel",
            "justify_items": null,
            "grid_row": null,
            "max_height": null,
            "align_content": null,
            "visibility": null,
            "align_self": null,
            "height": null,
            "min_height": null,
            "padding": null,
            "grid_auto_rows": null,
            "grid_gap": null,
            "max_width": null,
            "order": null,
            "_view_module_version": "1.2.0",
            "grid_template_areas": null,
            "object_position": null,
            "object_fit": null,
            "grid_auto_columns": null,
            "margin": null,
            "display": null,
            "left": null
          }
        },
        "3e81d264f74d4bde8e0f7b9fa7677c97": {
          "model_module": "@jupyter-widgets/controls",
          "model_name": "DescriptionStyleModel",
          "state": {
            "_view_name": "StyleView",
            "_model_name": "DescriptionStyleModel",
            "description_width": "",
            "_view_module": "@jupyter-widgets/base",
            "_model_module_version": "1.5.0",
            "_view_count": null,
            "_view_module_version": "1.2.0",
            "_model_module": "@jupyter-widgets/controls"
          }
        },
        "8bb730834a5549d5a044b64ed40642ac": {
          "model_module": "@jupyter-widgets/base",
          "model_name": "LayoutModel",
          "state": {
            "_view_name": "LayoutView",
            "grid_template_rows": null,
            "right": null,
            "justify_content": null,
            "_view_module": "@jupyter-widgets/base",
            "overflow": null,
            "_model_module_version": "1.2.0",
            "_view_count": null,
            "flex_flow": null,
            "width": null,
            "min_width": null,
            "border": null,
            "align_items": null,
            "bottom": null,
            "_model_module": "@jupyter-widgets/base",
            "top": null,
            "grid_column": null,
            "overflow_y": null,
            "overflow_x": null,
            "grid_auto_flow": null,
            "grid_area": null,
            "grid_template_columns": null,
            "flex": null,
            "_model_name": "LayoutModel",
            "justify_items": null,
            "grid_row": null,
            "max_height": null,
            "align_content": null,
            "visibility": null,
            "align_self": null,
            "height": null,
            "min_height": null,
            "padding": null,
            "grid_auto_rows": null,
            "grid_gap": null,
            "max_width": null,
            "order": null,
            "_view_module_version": "1.2.0",
            "grid_template_areas": null,
            "object_position": null,
            "object_fit": null,
            "grid_auto_columns": null,
            "margin": null,
            "display": null,
            "left": null
          }
        },
        "c6ee2962188e4bbe84474bdc319f6b60": {
          "model_module": "@jupyter-widgets/controls",
          "model_name": "HBoxModel",
          "state": {
            "_view_name": "HBoxView",
            "_dom_classes": [],
            "_model_name": "HBoxModel",
            "_view_module": "@jupyter-widgets/controls",
            "_model_module_version": "1.5.0",
            "_view_count": null,
            "_view_module_version": "1.5.0",
            "box_style": "",
            "layout": "IPY_MODEL_7c9c59009faa4852aa447221a0fefe6d",
            "_model_module": "@jupyter-widgets/controls",
            "children": [
              "IPY_MODEL_a900779b4223484aa531dae6115506c4",
              "IPY_MODEL_dce8ae236bf84375a399f36287974b25"
            ]
          }
        },
        "7c9c59009faa4852aa447221a0fefe6d": {
          "model_module": "@jupyter-widgets/base",
          "model_name": "LayoutModel",
          "state": {
            "_view_name": "LayoutView",
            "grid_template_rows": null,
            "right": null,
            "justify_content": null,
            "_view_module": "@jupyter-widgets/base",
            "overflow": null,
            "_model_module_version": "1.2.0",
            "_view_count": null,
            "flex_flow": null,
            "width": null,
            "min_width": null,
            "border": null,
            "align_items": null,
            "bottom": null,
            "_model_module": "@jupyter-widgets/base",
            "top": null,
            "grid_column": null,
            "overflow_y": null,
            "overflow_x": null,
            "grid_auto_flow": null,
            "grid_area": null,
            "grid_template_columns": null,
            "flex": null,
            "_model_name": "LayoutModel",
            "justify_items": null,
            "grid_row": null,
            "max_height": null,
            "align_content": null,
            "visibility": null,
            "align_self": null,
            "height": null,
            "min_height": null,
            "padding": null,
            "grid_auto_rows": null,
            "grid_gap": null,
            "max_width": null,
            "order": null,
            "_view_module_version": "1.2.0",
            "grid_template_areas": null,
            "object_position": null,
            "object_fit": null,
            "grid_auto_columns": null,
            "margin": null,
            "display": null,
            "left": null
          }
        },
        "a900779b4223484aa531dae6115506c4": {
          "model_module": "@jupyter-widgets/controls",
          "model_name": "FloatProgressModel",
          "state": {
            "_view_name": "ProgressView",
            "style": "IPY_MODEL_cb3acf159e974975ab392d365ee409bf",
            "_dom_classes": [],
            "description": "",
            "_model_name": "FloatProgressModel",
            "bar_style": "success",
            "max": 1648877,
            "_view_module": "@jupyter-widgets/controls",
            "_model_module_version": "1.5.0",
            "value": 1648877,
            "_view_count": null,
            "_view_module_version": "1.5.0",
            "orientation": "horizontal",
            "min": 0,
            "description_tooltip": null,
            "_model_module": "@jupyter-widgets/controls",
            "layout": "IPY_MODEL_10496964491347c09bf783c74bea794f"
          }
        },
        "dce8ae236bf84375a399f36287974b25": {
          "model_module": "@jupyter-widgets/controls",
          "model_name": "HTMLModel",
          "state": {
            "_view_name": "HTMLView",
            "style": "IPY_MODEL_cbb315df2fcc417292345d7c63d3558f",
            "_dom_classes": [],
            "description": "",
            "_model_name": "HTMLModel",
            "placeholder": "​",
            "_view_module": "@jupyter-widgets/controls",
            "_model_module_version": "1.5.0",
            "value": " 1649664/? [00:00&lt;00:00, 2351440.86it/s]",
            "_view_count": null,
            "_view_module_version": "1.5.0",
            "description_tooltip": null,
            "_model_module": "@jupyter-widgets/controls",
            "layout": "IPY_MODEL_4d02e25171a64e50a834290721ef15b7"
          }
        },
        "cb3acf159e974975ab392d365ee409bf": {
          "model_module": "@jupyter-widgets/controls",
          "model_name": "ProgressStyleModel",
          "state": {
            "_view_name": "StyleView",
            "_model_name": "ProgressStyleModel",
            "description_width": "initial",
            "_view_module": "@jupyter-widgets/base",
            "_model_module_version": "1.5.0",
            "_view_count": null,
            "_view_module_version": "1.2.0",
            "bar_color": null,
            "_model_module": "@jupyter-widgets/controls"
          }
        },
        "10496964491347c09bf783c74bea794f": {
          "model_module": "@jupyter-widgets/base",
          "model_name": "LayoutModel",
          "state": {
            "_view_name": "LayoutView",
            "grid_template_rows": null,
            "right": null,
            "justify_content": null,
            "_view_module": "@jupyter-widgets/base",
            "overflow": null,
            "_model_module_version": "1.2.0",
            "_view_count": null,
            "flex_flow": null,
            "width": null,
            "min_width": null,
            "border": null,
            "align_items": null,
            "bottom": null,
            "_model_module": "@jupyter-widgets/base",
            "top": null,
            "grid_column": null,
            "overflow_y": null,
            "overflow_x": null,
            "grid_auto_flow": null,
            "grid_area": null,
            "grid_template_columns": null,
            "flex": null,
            "_model_name": "LayoutModel",
            "justify_items": null,
            "grid_row": null,
            "max_height": null,
            "align_content": null,
            "visibility": null,
            "align_self": null,
            "height": null,
            "min_height": null,
            "padding": null,
            "grid_auto_rows": null,
            "grid_gap": null,
            "max_width": null,
            "order": null,
            "_view_module_version": "1.2.0",
            "grid_template_areas": null,
            "object_position": null,
            "object_fit": null,
            "grid_auto_columns": null,
            "margin": null,
            "display": null,
            "left": null
          }
        },
        "cbb315df2fcc417292345d7c63d3558f": {
          "model_module": "@jupyter-widgets/controls",
          "model_name": "DescriptionStyleModel",
          "state": {
            "_view_name": "StyleView",
            "_model_name": "DescriptionStyleModel",
            "description_width": "",
            "_view_module": "@jupyter-widgets/base",
            "_model_module_version": "1.5.0",
            "_view_count": null,
            "_view_module_version": "1.2.0",
            "_model_module": "@jupyter-widgets/controls"
          }
        },
        "4d02e25171a64e50a834290721ef15b7": {
          "model_module": "@jupyter-widgets/base",
          "model_name": "LayoutModel",
          "state": {
            "_view_name": "LayoutView",
            "grid_template_rows": null,
            "right": null,
            "justify_content": null,
            "_view_module": "@jupyter-widgets/base",
            "overflow": null,
            "_model_module_version": "1.2.0",
            "_view_count": null,
            "flex_flow": null,
            "width": null,
            "min_width": null,
            "border": null,
            "align_items": null,
            "bottom": null,
            "_model_module": "@jupyter-widgets/base",
            "top": null,
            "grid_column": null,
            "overflow_y": null,
            "overflow_x": null,
            "grid_auto_flow": null,
            "grid_area": null,
            "grid_template_columns": null,
            "flex": null,
            "_model_name": "LayoutModel",
            "justify_items": null,
            "grid_row": null,
            "max_height": null,
            "align_content": null,
            "visibility": null,
            "align_self": null,
            "height": null,
            "min_height": null,
            "padding": null,
            "grid_auto_rows": null,
            "grid_gap": null,
            "max_width": null,
            "order": null,
            "_view_module_version": "1.2.0",
            "grid_template_areas": null,
            "object_position": null,
            "object_fit": null,
            "grid_auto_columns": null,
            "margin": null,
            "display": null,
            "left": null
          }
        },
        "e5fa22918af842c5899f05c93393ced5": {
          "model_module": "@jupyter-widgets/controls",
          "model_name": "HBoxModel",
          "state": {
            "_view_name": "HBoxView",
            "_dom_classes": [],
            "_model_name": "HBoxModel",
            "_view_module": "@jupyter-widgets/controls",
            "_model_module_version": "1.5.0",
            "_view_count": null,
            "_view_module_version": "1.5.0",
            "box_style": "",
            "layout": "IPY_MODEL_0b3b3456281446528b744470aaa19b41",
            "_model_module": "@jupyter-widgets/controls",
            "children": [
              "IPY_MODEL_309c0a5d66c94a82a1cd9b2a60ae6865",
              "IPY_MODEL_6c9dffab9cda46c5a6265731bff40ccf"
            ]
          }
        },
        "0b3b3456281446528b744470aaa19b41": {
          "model_module": "@jupyter-widgets/base",
          "model_name": "LayoutModel",
          "state": {
            "_view_name": "LayoutView",
            "grid_template_rows": null,
            "right": null,
            "justify_content": null,
            "_view_module": "@jupyter-widgets/base",
            "overflow": null,
            "_model_module_version": "1.2.0",
            "_view_count": null,
            "flex_flow": null,
            "width": null,
            "min_width": null,
            "border": null,
            "align_items": null,
            "bottom": null,
            "_model_module": "@jupyter-widgets/base",
            "top": null,
            "grid_column": null,
            "overflow_y": null,
            "overflow_x": null,
            "grid_auto_flow": null,
            "grid_area": null,
            "grid_template_columns": null,
            "flex": null,
            "_model_name": "LayoutModel",
            "justify_items": null,
            "grid_row": null,
            "max_height": null,
            "align_content": null,
            "visibility": null,
            "align_self": null,
            "height": null,
            "min_height": null,
            "padding": null,
            "grid_auto_rows": null,
            "grid_gap": null,
            "max_width": null,
            "order": null,
            "_view_module_version": "1.2.0",
            "grid_template_areas": null,
            "object_position": null,
            "object_fit": null,
            "grid_auto_columns": null,
            "margin": null,
            "display": null,
            "left": null
          }
        },
        "309c0a5d66c94a82a1cd9b2a60ae6865": {
          "model_module": "@jupyter-widgets/controls",
          "model_name": "FloatProgressModel",
          "state": {
            "_view_name": "ProgressView",
            "style": "IPY_MODEL_88374e522f1e4878a80d830e6ab46954",
            "_dom_classes": [],
            "description": "",
            "_model_name": "FloatProgressModel",
            "bar_style": "success",
            "max": 4542,
            "_view_module": "@jupyter-widgets/controls",
            "_model_module_version": "1.5.0",
            "value": 4542,
            "_view_count": null,
            "_view_module_version": "1.5.0",
            "orientation": "horizontal",
            "min": 0,
            "description_tooltip": null,
            "_model_module": "@jupyter-widgets/controls",
            "layout": "IPY_MODEL_72a82804a9234b28ad46b37870fa12df"
          }
        },
        "6c9dffab9cda46c5a6265731bff40ccf": {
          "model_module": "@jupyter-widgets/controls",
          "model_name": "HTMLModel",
          "state": {
            "_view_name": "HTMLView",
            "style": "IPY_MODEL_89887254f982424b9b1c4c8c91469bb0",
            "_dom_classes": [],
            "description": "",
            "_model_name": "HTMLModel",
            "placeholder": "​",
            "_view_module": "@jupyter-widgets/controls",
            "_model_module_version": "1.5.0",
            "value": " 5120/? [00:00&lt;00:00, 19199.61it/s]",
            "_view_count": null,
            "_view_module_version": "1.5.0",
            "description_tooltip": null,
            "_model_module": "@jupyter-widgets/controls",
            "layout": "IPY_MODEL_c0ea387de74b428caefea5364f6705ed"
          }
        },
        "88374e522f1e4878a80d830e6ab46954": {
          "model_module": "@jupyter-widgets/controls",
          "model_name": "ProgressStyleModel",
          "state": {
            "_view_name": "StyleView",
            "_model_name": "ProgressStyleModel",
            "description_width": "initial",
            "_view_module": "@jupyter-widgets/base",
            "_model_module_version": "1.5.0",
            "_view_count": null,
            "_view_module_version": "1.2.0",
            "bar_color": null,
            "_model_module": "@jupyter-widgets/controls"
          }
        },
        "72a82804a9234b28ad46b37870fa12df": {
          "model_module": "@jupyter-widgets/base",
          "model_name": "LayoutModel",
          "state": {
            "_view_name": "LayoutView",
            "grid_template_rows": null,
            "right": null,
            "justify_content": null,
            "_view_module": "@jupyter-widgets/base",
            "overflow": null,
            "_model_module_version": "1.2.0",
            "_view_count": null,
            "flex_flow": null,
            "width": null,
            "min_width": null,
            "border": null,
            "align_items": null,
            "bottom": null,
            "_model_module": "@jupyter-widgets/base",
            "top": null,
            "grid_column": null,
            "overflow_y": null,
            "overflow_x": null,
            "grid_auto_flow": null,
            "grid_area": null,
            "grid_template_columns": null,
            "flex": null,
            "_model_name": "LayoutModel",
            "justify_items": null,
            "grid_row": null,
            "max_height": null,
            "align_content": null,
            "visibility": null,
            "align_self": null,
            "height": null,
            "min_height": null,
            "padding": null,
            "grid_auto_rows": null,
            "grid_gap": null,
            "max_width": null,
            "order": null,
            "_view_module_version": "1.2.0",
            "grid_template_areas": null,
            "object_position": null,
            "object_fit": null,
            "grid_auto_columns": null,
            "margin": null,
            "display": null,
            "left": null
          }
        },
        "89887254f982424b9b1c4c8c91469bb0": {
          "model_module": "@jupyter-widgets/controls",
          "model_name": "DescriptionStyleModel",
          "state": {
            "_view_name": "StyleView",
            "_model_name": "DescriptionStyleModel",
            "description_width": "",
            "_view_module": "@jupyter-widgets/base",
            "_model_module_version": "1.5.0",
            "_view_count": null,
            "_view_module_version": "1.2.0",
            "_model_module": "@jupyter-widgets/controls"
          }
        },
        "c0ea387de74b428caefea5364f6705ed": {
          "model_module": "@jupyter-widgets/base",
          "model_name": "LayoutModel",
          "state": {
            "_view_name": "LayoutView",
            "grid_template_rows": null,
            "right": null,
            "justify_content": null,
            "_view_module": "@jupyter-widgets/base",
            "overflow": null,
            "_model_module_version": "1.2.0",
            "_view_count": null,
            "flex_flow": null,
            "width": null,
            "min_width": null,
            "border": null,
            "align_items": null,
            "bottom": null,
            "_model_module": "@jupyter-widgets/base",
            "top": null,
            "grid_column": null,
            "overflow_y": null,
            "overflow_x": null,
            "grid_auto_flow": null,
            "grid_area": null,
            "grid_template_columns": null,
            "flex": null,
            "_model_name": "LayoutModel",
            "justify_items": null,
            "grid_row": null,
            "max_height": null,
            "align_content": null,
            "visibility": null,
            "align_self": null,
            "height": null,
            "min_height": null,
            "padding": null,
            "grid_auto_rows": null,
            "grid_gap": null,
            "max_width": null,
            "order": null,
            "_view_module_version": "1.2.0",
            "grid_template_areas": null,
            "object_position": null,
            "object_fit": null,
            "grid_auto_columns": null,
            "margin": null,
            "display": null,
            "left": null
          }
        }
      }
    }
  },
  "cells": [
    {
      "cell_type": "markdown",
      "metadata": {
        "id": "T4bcLV-N7aP8"
      },
      "source": [
        "Installing pre-requisites"
      ]
    },
    {
      "cell_type": "code",
      "metadata": {
        "colab": {
          "base_uri": "https://localhost:8080/"
        },
        "id": "qRYru1Du7NFF",
        "outputId": "728a91e8-d9e0-4fba-f7f2-ead31df32a48"
      },
      "source": [
        "!pip install pytorch-metric-learning\n",
        "!pip install faiss-gpu"
      ],
      "execution_count": 1,
      "outputs": [
        {
          "output_type": "stream",
          "text": [
            "Collecting pytorch-metric-learning\n",
            "\u001b[?25l  Downloading https://files.pythonhosted.org/packages/3e/ba/8e6c380f3b7b34e6dafe2392f5c79275f2245588a7dc0b690fc344491eed/pytorch_metric_learning-0.9.98-py3-none-any.whl (102kB)\n",
            "\r\u001b[K     |███▏                            | 10kB 16.6MB/s eta 0:00:01\r\u001b[K     |██████▍                         | 20kB 10.8MB/s eta 0:00:01\r\u001b[K     |█████████▋                      | 30kB 8.2MB/s eta 0:00:01\r\u001b[K     |████████████▉                   | 40kB 7.3MB/s eta 0:00:01\r\u001b[K     |████████████████                | 51kB 4.6MB/s eta 0:00:01\r\u001b[K     |███████████████████▏            | 61kB 5.1MB/s eta 0:00:01\r\u001b[K     |██████████████████████▍         | 71kB 5.2MB/s eta 0:00:01\r\u001b[K     |█████████████████████████▋      | 81kB 5.5MB/s eta 0:00:01\r\u001b[K     |████████████████████████████▉   | 92kB 5.6MB/s eta 0:00:01\r\u001b[K     |████████████████████████████████| 102kB 4.0MB/s \n",
            "\u001b[?25hRequirement already satisfied: torch>=1.6.0 in /usr/local/lib/python3.7/dist-packages (from pytorch-metric-learning) (1.8.1+cu101)\n",
            "Requirement already satisfied: numpy in /usr/local/lib/python3.7/dist-packages (from pytorch-metric-learning) (1.19.5)\n",
            "Requirement already satisfied: scikit-learn in /usr/local/lib/python3.7/dist-packages (from pytorch-metric-learning) (0.22.2.post1)\n",
            "Requirement already satisfied: torchvision in /usr/local/lib/python3.7/dist-packages (from pytorch-metric-learning) (0.9.1+cu101)\n",
            "Requirement already satisfied: tqdm in /usr/local/lib/python3.7/dist-packages (from pytorch-metric-learning) (4.41.1)\n",
            "Requirement already satisfied: typing-extensions in /usr/local/lib/python3.7/dist-packages (from torch>=1.6.0->pytorch-metric-learning) (3.7.4.3)\n",
            "Requirement already satisfied: joblib>=0.11 in /usr/local/lib/python3.7/dist-packages (from scikit-learn->pytorch-metric-learning) (1.0.1)\n",
            "Requirement already satisfied: scipy>=0.17.0 in /usr/local/lib/python3.7/dist-packages (from scikit-learn->pytorch-metric-learning) (1.4.1)\n",
            "Requirement already satisfied: pillow>=4.1.1 in /usr/local/lib/python3.7/dist-packages (from torchvision->pytorch-metric-learning) (7.1.2)\n",
            "Installing collected packages: pytorch-metric-learning\n",
            "Successfully installed pytorch-metric-learning-0.9.98\n",
            "Collecting faiss-gpu\n",
            "\u001b[?25l  Downloading https://files.pythonhosted.org/packages/5d/36/383911b8edf8c29cb7e9e8aee4e6b69b0f36c52237e3a06ce64a9551ef22/faiss_gpu-1.7.0-cp37-cp37m-manylinux2014_x86_64.whl (89.4MB)\n",
            "\u001b[K     |████████████████████████████████| 89.4MB 48kB/s \n",
            "\u001b[?25hInstalling collected packages: faiss-gpu\n",
            "Successfully installed faiss-gpu-1.7.0\n"
          ],
          "name": "stdout"
        }
      ]
    },
    {
      "cell_type": "code",
      "metadata": {
        "colab": {
          "base_uri": "https://localhost:8080/"
        },
        "id": "YqGtrU2j7nlS",
        "outputId": "f61cba03-c860-4515-9f3d-e92aead37999"
      },
      "source": [
        "from google.colab import drive\n",
        "drive.mount('/content/drive')"
      ],
      "execution_count": 2,
      "outputs": [
        {
          "output_type": "stream",
          "text": [
            "Mounted at /content/drive\n"
          ],
          "name": "stdout"
        }
      ]
    },
    {
      "cell_type": "markdown",
      "metadata": {
        "id": "fprj4w7A73wz"
      },
      "source": [
        "## Part 1: Data import and dataframe creation"
      ]
    },
    {
      "cell_type": "markdown",
      "metadata": {
        "id": "5MdVpoPZ77kD"
      },
      "source": [
        "Importing important libraries"
      ]
    },
    {
      "cell_type": "code",
      "metadata": {
        "id": "7lpG8Q1B7njE"
      },
      "source": [
        "import numpy as np\n",
        "import pandas as pd\n",
        "import os\n",
        "from PIL import Image\n",
        "import torch\n",
        "import matplotlib.pyplot as plt\n",
        "from sklearn.preprocessing import LabelEncoder\n",
        "from torch.utils.data import Dataset\n",
        "import torchvision.transforms as transforms\n",
        "from torch.utils.data.sampler import SubsetRandomSampler\n",
        "from torchvision import datasets"
      ],
      "execution_count": 4,
      "outputs": []
    },
    {
      "cell_type": "code",
      "metadata": {
        "id": "7PIsiD_D8L-L"
      },
      "source": [
        "transform = transforms.Compose(\n",
        "    [transforms.Resize(220),\n",
        "     transforms.ToTensor(),\n",
        "     transforms.Normalize(mean=[0.5], std=[0.5])])"
      ],
      "execution_count": 6,
      "outputs": []
    },
    {
      "cell_type": "code",
      "metadata": {
        "colab": {
          "base_uri": "https://localhost:8080/",
          "height": 837,
          "referenced_widgets": [
            "72eaaa3627844ec58f96ddeee21b442a",
            "5cff106f5e75473cbafd95e5a789a830",
            "c6809e96b5ff4fb6873da4c87c070760",
            "064c47e7bee4482e9db23d441a424f9d",
            "a439277fd1444dfcaaf6cf78b89d77d6",
            "7fdff32e9a5e4c948d41219df0bdc824",
            "385f5b3180b6449db27e4bb85e383f30",
            "8046145210b143a4bec0e02ee18ccdb6",
            "e3d9860b5f2b4be1b88c5e135d91d300",
            "7b0038cb06c64b55883e1b0ad0c73a56",
            "3b34be2b41544b1795a73170ffdd470f",
            "939ed810c20149a8a2520ef5d6a7cedb",
            "9b687674fed9423e938b399d3b6e6a2a",
            "e70f0669d7a34acfbc841bac34e2bb5e",
            "3e81d264f74d4bde8e0f7b9fa7677c97",
            "8bb730834a5549d5a044b64ed40642ac",
            "c6ee2962188e4bbe84474bdc319f6b60",
            "7c9c59009faa4852aa447221a0fefe6d",
            "a900779b4223484aa531dae6115506c4",
            "dce8ae236bf84375a399f36287974b25",
            "cb3acf159e974975ab392d365ee409bf",
            "10496964491347c09bf783c74bea794f",
            "cbb315df2fcc417292345d7c63d3558f",
            "4d02e25171a64e50a834290721ef15b7",
            "e5fa22918af842c5899f05c93393ced5",
            "0b3b3456281446528b744470aaa19b41",
            "309c0a5d66c94a82a1cd9b2a60ae6865",
            "6c9dffab9cda46c5a6265731bff40ccf",
            "88374e522f1e4878a80d830e6ab46954",
            "72a82804a9234b28ad46b37870fa12df",
            "89887254f982424b9b1c4c8c91469bb0",
            "c0ea387de74b428caefea5364f6705ed"
          ]
        },
        "id": "Zh-R9nZD7nhG",
        "outputId": "3a30ecbf-3c9e-40d7-f79b-b3e22f96ebd7"
      },
      "source": [
        "mnistTrain = datasets.MNIST('.', train=True, download=True, transform=transform)\n",
        "mnistTest = datasets.MNIST('.', train=False, transform=transform)\n",
        "mnistTrainLoader = torch.utils.data.DataLoader(mnistTrain, batch_size=128, shuffle=True)\n",
        "mnistTestLoader = torch.utils.data.DataLoader(mnistTest, batch_size=128)"
      ],
      "execution_count": 7,
      "outputs": [
        {
          "output_type": "stream",
          "text": [
            "Downloading http://yann.lecun.com/exdb/mnist/train-images-idx3-ubyte.gz\n",
            "Failed to download (trying next):\n",
            "HTTP Error 503: Service Unavailable\n",
            "\n",
            "Downloading https://ossci-datasets.s3.amazonaws.com/mnist/train-images-idx3-ubyte.gz\n",
            "Downloading https://ossci-datasets.s3.amazonaws.com/mnist/train-images-idx3-ubyte.gz to ./MNIST/raw/train-images-idx3-ubyte.gz\n"
          ],
          "name": "stdout"
        },
        {
          "output_type": "display_data",
          "data": {
            "application/vnd.jupyter.widget-view+json": {
              "model_id": "72eaaa3627844ec58f96ddeee21b442a",
              "version_minor": 0,
              "version_major": 2
            },
            "text/plain": [
              "HBox(children=(FloatProgress(value=0.0, max=9912422.0), HTML(value='')))"
            ]
          },
          "metadata": {
            "tags": []
          }
        },
        {
          "output_type": "stream",
          "text": [
            "\n",
            "Extracting ./MNIST/raw/train-images-idx3-ubyte.gz to ./MNIST/raw\n",
            "\n",
            "Downloading http://yann.lecun.com/exdb/mnist/train-labels-idx1-ubyte.gz\n",
            "Failed to download (trying next):\n",
            "HTTP Error 503: Service Unavailable\n",
            "\n",
            "Downloading https://ossci-datasets.s3.amazonaws.com/mnist/train-labels-idx1-ubyte.gz\n",
            "Downloading https://ossci-datasets.s3.amazonaws.com/mnist/train-labels-idx1-ubyte.gz to ./MNIST/raw/train-labels-idx1-ubyte.gz\n"
          ],
          "name": "stdout"
        },
        {
          "output_type": "display_data",
          "data": {
            "application/vnd.jupyter.widget-view+json": {
              "model_id": "e3d9860b5f2b4be1b88c5e135d91d300",
              "version_minor": 0,
              "version_major": 2
            },
            "text/plain": [
              "HBox(children=(FloatProgress(value=0.0, max=28881.0), HTML(value='')))"
            ]
          },
          "metadata": {
            "tags": []
          }
        },
        {
          "output_type": "stream",
          "text": [
            "\n",
            "Extracting ./MNIST/raw/train-labels-idx1-ubyte.gz to ./MNIST/raw\n",
            "\n",
            "Downloading http://yann.lecun.com/exdb/mnist/t10k-images-idx3-ubyte.gz\n",
            "Failed to download (trying next):\n",
            "HTTP Error 503: Service Unavailable\n",
            "\n",
            "Downloading https://ossci-datasets.s3.amazonaws.com/mnist/t10k-images-idx3-ubyte.gz\n",
            "Downloading https://ossci-datasets.s3.amazonaws.com/mnist/t10k-images-idx3-ubyte.gz to ./MNIST/raw/t10k-images-idx3-ubyte.gz\n"
          ],
          "name": "stdout"
        },
        {
          "output_type": "display_data",
          "data": {
            "application/vnd.jupyter.widget-view+json": {
              "model_id": "c6ee2962188e4bbe84474bdc319f6b60",
              "version_minor": 0,
              "version_major": 2
            },
            "text/plain": [
              "HBox(children=(FloatProgress(value=0.0, max=1648877.0), HTML(value='')))"
            ]
          },
          "metadata": {
            "tags": []
          }
        },
        {
          "output_type": "stream",
          "text": [
            "\n",
            "Extracting ./MNIST/raw/t10k-images-idx3-ubyte.gz to ./MNIST/raw\n",
            "\n",
            "Downloading http://yann.lecun.com/exdb/mnist/t10k-labels-idx1-ubyte.gz\n",
            "Failed to download (trying next):\n",
            "HTTP Error 503: Service Unavailable\n",
            "\n",
            "Downloading https://ossci-datasets.s3.amazonaws.com/mnist/t10k-labels-idx1-ubyte.gz\n",
            "Downloading https://ossci-datasets.s3.amazonaws.com/mnist/t10k-labels-idx1-ubyte.gz to ./MNIST/raw/t10k-labels-idx1-ubyte.gz\n"
          ],
          "name": "stdout"
        },
        {
          "output_type": "display_data",
          "data": {
            "application/vnd.jupyter.widget-view+json": {
              "model_id": "e5fa22918af842c5899f05c93393ced5",
              "version_minor": 0,
              "version_major": 2
            },
            "text/plain": [
              "HBox(children=(FloatProgress(value=0.0, max=4542.0), HTML(value='')))"
            ]
          },
          "metadata": {
            "tags": []
          }
        },
        {
          "output_type": "stream",
          "text": [
            "\n",
            "Extracting ./MNIST/raw/t10k-labels-idx1-ubyte.gz to ./MNIST/raw\n",
            "\n",
            "Processing...\n",
            "Done!\n"
          ],
          "name": "stdout"
        },
        {
          "output_type": "stream",
          "text": [
            "/usr/local/lib/python3.7/dist-packages/torchvision/datasets/mnist.py:502: UserWarning: The given NumPy array is not writeable, and PyTorch does not support non-writeable tensors. This means you can write to the underlying (supposedly non-writeable) NumPy array using the tensor. You may want to copy the array to protect its data or make it writeable before converting it to a tensor. This type of warning will be suppressed for the rest of this program. (Triggered internally at  /pytorch/torch/csrc/utils/tensor_numpy.cpp:143.)\n",
            "  return torch.from_numpy(parsed.astype(m[2], copy=False)).view(*s)\n"
          ],
          "name": "stderr"
        }
      ]
    },
    {
      "cell_type": "code",
      "metadata": {
        "id": "8YVqMjDL8U2b"
      },
      "source": [
        "def  displayImage(image):\n",
        "    image = image/2 + 0.5\n",
        "    image = image.numpy()\n",
        "    image = image.reshape(220,220)\n",
        "    return image"
      ],
      "execution_count": 8,
      "outputs": []
    },
    {
      "cell_type": "code",
      "metadata": {
        "colab": {
          "base_uri": "https://localhost:8080/",
          "height": 832
        },
        "id": "fKgDqJvm7ne0",
        "outputId": "959160f9-41f4-4809-b993-6dfb3124b0e3"
      },
      "source": [
        "dataIterator = iter(mnistTrainLoader)\n",
        "images, labels = dataIterator.next()\n",
        "figure, axis = plt.subplots(3,5, figsize=(16,16))\n",
        "for i, ax in enumerate(axis.flat):\n",
        "    with torch.no_grad():\n",
        "        image, label = images[i], labels[i]\n",
        "        ax.imshow(displayImage(image))\n",
        "        ax.set(title=f\"{label.item()}\")"
      ],
      "execution_count": 9,
      "outputs": [
        {
          "output_type": "display_data",
          "data": {
            "image/png": "[encoded data removed]",
            "text/plain": [
              "<Figure size 1152x1152 with 15 Axes>"
            ]
          },
          "metadata": {
            "tags": [],
            "needs_background": "light"
          }
        }
      ]
    },
    {
      "cell_type": "markdown",
      "metadata": {
        "id": "CHnNcuqE8cHa"
      },
      "source": [
        "## Part 2: Defining the neural network and initiating the training"
      ]
    },
    {
      "cell_type": "markdown",
      "metadata": {
        "id": "pE2Do7Cg8jnz"
      },
      "source": [
        "Importing libraries"
      ]
    },
    {
      "cell_type": "code",
      "metadata": {
        "id": "KT7SYbdd7naX"
      },
      "source": [
        "#the pytorch metric learning library comes with inbuilt methods for triplet mining and computing triplet losses between anchor, positive class and negative class\n",
        "from pytorch_metric_learning import losses, miners\n",
        "from pytorch_metric_learning.distances import CosineSimilarity\n",
        "from pytorch_metric_learning.reducers import ThresholdReducer\n",
        "from pytorch_metric_learning.regularizers import LpRegularizer\n",
        "\n",
        "from sklearn.neighbors import KNeighborsClassifier\n",
        "from sklearn.metrics import accuracy_score\n",
        "\n",
        "import torch\n",
        "import torch.nn as nn\n",
        "import torch.nn.functional as F\n",
        "import torchvision.models as models"
      ],
      "execution_count": 10,
      "outputs": []
    },
    {
      "cell_type": "code",
      "metadata": {
        "colab": {
          "base_uri": "https://localhost:8080/"
        },
        "id": "szXG3zu47nYF",
        "outputId": "3aa345a2-ce57-4fba-fa7b-dce99931af82"
      },
      "source": [
        "device = torch.device(\"cuda:0\" if torch.cuda.is_available() else \"cpu\")\n",
        "print(\"Training the model on: \",device, \" Available GPU: \", torch.cuda.get_device_name(0))"
      ],
      "execution_count": 11,
      "outputs": [
        {
          "output_type": "stream",
          "text": [
            "Training the model on:  cuda:0  Available GPU:  Tesla P100-PCIE-16GB\n"
          ],
          "name": "stdout"
        }
      ]
    },
    {
      "cell_type": "code",
      "metadata": {
        "id": "2txq8L1l7nWQ"
      },
      "source": [
        "class EmbeddingNetwork(nn.Module):\n",
        "    def __init__(self):\n",
        "        super(EmbeddingNetwork, self).__init__()\n",
        "        self.conv1 = nn.Sequential(\n",
        "            nn.Conv2d(1, 64, (7,7), stride=(2,2), padding=(3,3)),\n",
        "            nn.BatchNorm2d(64),\n",
        "            nn.LeakyReLU(0.001),\n",
        "            nn.MaxPool2d((3, 3), 2, padding=(1,1))\n",
        "        )\n",
        "        self.conv2 = nn.Sequential(\n",
        "            nn.Conv2d(64,64,(1,1), stride=(1,1)),\n",
        "            nn.BatchNorm2d(64),\n",
        "            nn.LeakyReLU(0.001),\n",
        "            nn.Conv2d(64,192, (3,3), stride=(1,1), padding=(1,1)),\n",
        "            nn.BatchNorm2d(192),\n",
        "            nn.LeakyReLU(0.001),\n",
        "            nn.MaxPool2d((3,3),2, padding=(1,1))\n",
        "        )\n",
        "        self.conv3 = nn.Sequential(\n",
        "            nn.Conv2d(192,192,(1,1), stride=(1,1)),\n",
        "            nn.BatchNorm2d(192),\n",
        "            nn.LeakyReLU(0.001),\n",
        "            nn.Conv2d(192,384,(3,3), stride=(1,1), padding=(1,1)),\n",
        "            nn.BatchNorm2d(384),\n",
        "            nn.LeakyReLU(0.001),\n",
        "            nn.MaxPool2d((3,3), 2, padding=(1,1))\n",
        "            )\n",
        "        self.conv4 = nn.Sequential(\n",
        "            nn.Conv2d(384,384,(1,1), stride=(1,1)),\n",
        "            nn.BatchNorm2d(384),\n",
        "            nn.LeakyReLU(0.001),\n",
        "            nn.Conv2d(384,256,(3,3), stride=(1,1), padding=(1,1)),\n",
        "            nn.BatchNorm2d(256),\n",
        "            nn.LeakyReLU(0.001)\n",
        "        )\n",
        "        self.conv5 = nn.Sequential(\n",
        "            nn.Conv2d(256,256,(1,1), stride=(1,1)),\n",
        "            nn.BatchNorm2d(256),\n",
        "            nn.LeakyReLU(0.001),\n",
        "            nn.Conv2d(256,256,(3,3), stride=(1,1), padding=(1,1)),\n",
        "            nn.BatchNorm2d(256),\n",
        "            nn.LeakyReLU(0.001)\n",
        "        )\n",
        "        self.conv6 = nn.Sequential(\n",
        "            nn.Conv2d(256,256,(1,1), stride=(1,1)),\n",
        "            nn.BatchNorm2d(256),\n",
        "            nn.LeakyReLU(0.001),\n",
        "            nn.Conv2d(256,256,(3,3), stride=(1,1), padding=(1,1)),\n",
        "            nn.BatchNorm2d(256),\n",
        "            nn.LeakyReLU(0.001),\n",
        "            nn.MaxPool2d((3,3),2, padding=(1,1)),\n",
        "            nn.Flatten()\n",
        "        )\n",
        "        self.fullyConnected = nn.Sequential(\n",
        "            nn.Linear(7*7*256,32*128),\n",
        "            nn.BatchNorm1d(32*128),\n",
        "            nn.LeakyReLU(0.001),\n",
        "            nn.Linear(32*128,128)\n",
        "        )\n",
        "    def forward(self,x):\n",
        "      x = self.conv1(x)\n",
        "      x = self.conv2(x)\n",
        "      x = self.conv3(x)\n",
        "      x = self.conv4(x)\n",
        "      x = self.conv5(x)\n",
        "      x = self.conv6(x)\n",
        "      x = self.fullyConnected(x)\n",
        "      return torch.nn.functional.normalize(x, p=2, dim=-1)"
      ],
      "execution_count": 12,
      "outputs": []
    },
    {
      "cell_type": "code",
      "metadata": {
        "colab": {
          "base_uri": "https://localhost:8080/"
        },
        "id": "_cEd6OrH7nT-",
        "outputId": "43d88e54-b1a9-45f5-b101-2fa3ee8689ea"
      },
      "source": [
        "embeddingNetwork = EmbeddingNetwork().to(device)\n",
        "print(embeddingNetwork)"
      ],
      "execution_count": 13,
      "outputs": [
        {
          "output_type": "stream",
          "text": [
            "EmbeddingNetwork(\n",
            "  (conv1): Sequential(\n",
            "    (0): Conv2d(1, 64, kernel_size=(7, 7), stride=(2, 2), padding=(3, 3))\n",
            "    (1): BatchNorm2d(64, eps=1e-05, momentum=0.1, affine=True, track_running_stats=True)\n",
            "    (2): LeakyReLU(negative_slope=0.001)\n",
            "    (3): MaxPool2d(kernel_size=(3, 3), stride=2, padding=(1, 1), dilation=1, ceil_mode=False)\n",
            "  )\n",
            "  (conv2): Sequential(\n",
            "    (0): Conv2d(64, 64, kernel_size=(1, 1), stride=(1, 1))\n",
            "    (1): BatchNorm2d(64, eps=1e-05, momentum=0.1, affine=True, track_running_stats=True)\n",
            "    (2): LeakyReLU(negative_slope=0.001)\n",
            "    (3): Conv2d(64, 192, kernel_size=(3, 3), stride=(1, 1), padding=(1, 1))\n",
            "    (4): BatchNorm2d(192, eps=1e-05, momentum=0.1, affine=True, track_running_stats=True)\n",
            "    (5): LeakyReLU(negative_slope=0.001)\n",
            "    (6): MaxPool2d(kernel_size=(3, 3), stride=2, padding=(1, 1), dilation=1, ceil_mode=False)\n",
            "  )\n",
            "  (conv3): Sequential(\n",
            "    (0): Conv2d(192, 192, kernel_size=(1, 1), stride=(1, 1))\n",
            "    (1): BatchNorm2d(192, eps=1e-05, momentum=0.1, affine=True, track_running_stats=True)\n",
            "    (2): LeakyReLU(negative_slope=0.001)\n",
            "    (3): Conv2d(192, 384, kernel_size=(3, 3), stride=(1, 1), padding=(1, 1))\n",
            "    (4): BatchNorm2d(384, eps=1e-05, momentum=0.1, affine=True, track_running_stats=True)\n",
            "    (5): LeakyReLU(negative_slope=0.001)\n",
            "    (6): MaxPool2d(kernel_size=(3, 3), stride=2, padding=(1, 1), dilation=1, ceil_mode=False)\n",
            "  )\n",
            "  (conv4): Sequential(\n",
            "    (0): Conv2d(384, 384, kernel_size=(1, 1), stride=(1, 1))\n",
            "    (1): BatchNorm2d(384, eps=1e-05, momentum=0.1, affine=True, track_running_stats=True)\n",
            "    (2): LeakyReLU(negative_slope=0.001)\n",
            "    (3): Conv2d(384, 256, kernel_size=(3, 3), stride=(1, 1), padding=(1, 1))\n",
            "    (4): BatchNorm2d(256, eps=1e-05, momentum=0.1, affine=True, track_running_stats=True)\n",
            "    (5): LeakyReLU(negative_slope=0.001)\n",
            "  )\n",
            "  (conv5): Sequential(\n",
            "    (0): Conv2d(256, 256, kernel_size=(1, 1), stride=(1, 1))\n",
            "    (1): BatchNorm2d(256, eps=1e-05, momentum=0.1, affine=True, track_running_stats=True)\n",
            "    (2): LeakyReLU(negative_slope=0.001)\n",
            "    (3): Conv2d(256, 256, kernel_size=(3, 3), stride=(1, 1), padding=(1, 1))\n",
            "    (4): BatchNorm2d(256, eps=1e-05, momentum=0.1, affine=True, track_running_stats=True)\n",
            "    (5): LeakyReLU(negative_slope=0.001)\n",
            "  )\n",
            "  (conv6): Sequential(\n",
            "    (0): Conv2d(256, 256, kernel_size=(1, 1), stride=(1, 1))\n",
            "    (1): BatchNorm2d(256, eps=1e-05, momentum=0.1, affine=True, track_running_stats=True)\n",
            "    (2): LeakyReLU(negative_slope=0.001)\n",
            "    (3): Conv2d(256, 256, kernel_size=(3, 3), stride=(1, 1), padding=(1, 1))\n",
            "    (4): BatchNorm2d(256, eps=1e-05, momentum=0.1, affine=True, track_running_stats=True)\n",
            "    (5): LeakyReLU(negative_slope=0.001)\n",
            "    (6): MaxPool2d(kernel_size=(3, 3), stride=2, padding=(1, 1), dilation=1, ceil_mode=False)\n",
            "    (7): Flatten(start_dim=1, end_dim=-1)\n",
            "  )\n",
            "  (fullyConnected): Sequential(\n",
            "    (0): Linear(in_features=12544, out_features=4096, bias=True)\n",
            "    (1): BatchNorm1d(4096, eps=1e-05, momentum=0.1, affine=True, track_running_stats=True)\n",
            "    (2): LeakyReLU(negative_slope=0.001)\n",
            "    (3): Linear(in_features=4096, out_features=128, bias=True)\n",
            "  )\n",
            ")\n"
          ],
          "name": "stdout"
        }
      ]
    },
    {
      "cell_type": "code",
      "metadata": {
        "id": "5bvauvOO7nR5"
      },
      "source": [
        "def trainMNIST(model, lossFunction, miningFunction, device, trainLoader, optimizer, epoch):\n",
        "    print(\"Training started for Epoch: \",epoch)\n",
        "    model.train()\n",
        "    for batchIndex, (data, labels) in enumerate(trainLoader):\n",
        "        data, labels = data.to(device), labels.to(device)\n",
        "        optimizer.zero_grad()\n",
        "        embeddings = model(data)\n",
        "        hardPairs = miningFunction(embeddings, labels)\n",
        "        loss = lossFunction(embeddings, labels, hardPairs)\n",
        "        loss.backward()\n",
        "        optimizer.step()\n",
        "        if batchIndex%300==0:\n",
        "            print(\"Training Stats for Epoch {} Iteration {}: Loss= {}, Number of mined triplets {}\".format(epoch, batchIndex, loss, miningFunction.num_triplets))"
      ],
      "execution_count": 14,
      "outputs": []
    },
    {
      "cell_type": "code",
      "metadata": {
        "id": "LM3FhQyl7nP0"
      },
      "source": [
        "#distance this tells the model how to calculate the distance between the  generated embeddings\n",
        "distance = CosineSimilarity()\n",
        "reducer = ThresholdReducer(low=0.0)\n",
        "lossFunction = losses.TripletMarginLoss(margin = 0.2, distance = distance, reducer = reducer)\n",
        "miningFunction = miners.TripletMarginMiner(margin = 0.2, distance = distance, type_of_triplets = \"semi-hard\")\n",
        "optimizer = torch.optim.Adam(embeddingNetwork.parameters(), lr=0.05)"
      ],
      "execution_count": 15,
      "outputs": []
    },
    {
      "cell_type": "code",
      "metadata": {
        "id": "aTx14jp47nNu"
      },
      "source": [
        "maxValidationAccuracyMNIST = 0.0\n",
        "def testerMNIST(maxValidationAccuracyMNIST):\n",
        "  trainEmbeddings = []\n",
        "  trainLabels = []\n",
        "  validationEmbeddings = []\n",
        "  validationLabels = []\n",
        "  with torch.no_grad():\n",
        "    embeddingNetwork.eval()\n",
        "    for (dataTr, labelTr) in (mnistTrainLoader):\n",
        "      dataTr, labelTr = dataTr.to(device), labelTr.to(device)\n",
        "      embeddingTr = embeddingNetwork(dataTr)\n",
        "      trainEmbeddings.append(embeddingTr.cpu().detach().numpy())\n",
        "      trainLabels.append(labelTr.cpu().detach().numpy())\n",
        "    for (dataTe, labelTe) in (mnistTestLoader):\n",
        "      dataTe, labelTe = dataTe.to(device), labelTe.to(device)\n",
        "      embeddingsTe = embeddingNetwork(dataTe)\n",
        "      validationEmbeddings.append(embeddingsTe.cpu().detach().numpy())\n",
        "      validationLabels.append(labelTe.cpu().detach().numpy())\n",
        "  trainEmbeddings1 = []\n",
        "  trainLabels1 = []\n",
        "  validationEmbeddings1 = []\n",
        "  validationLabels1 = []\n",
        "  for bat in trainEmbeddings:\n",
        "    for exm in bat:\n",
        "      trainEmbeddings1.append(exm)\n",
        "  for bat in trainLabels:\n",
        "    for exm in bat:\n",
        "      trainLabels1.append(exm)\n",
        "  for bat in validationEmbeddings:\n",
        "    for exm in bat:\n",
        "      validationEmbeddings1.append(exm)\n",
        "  for bat in validationLabels:\n",
        "    for exm in bat:\n",
        "      validationLabels1.append(exm)\n",
        "  neigh = KNeighborsClassifier(n_neighbors=13)\n",
        "  neigh.fit(trainEmbeddings1, trainLabels1)\n",
        "  prediction = neigh.predict(validationEmbeddings1)\n",
        "  currentAccuracy = accuracy_score(validationLabels1,prediction)\n",
        "  print(\"Accuracy: \",currentAccuracy)\n",
        "  if currentAccuracy > maxValidationAccuracyMNIST:\n",
        "    maxValidationAccuracyMNIST = currentAccuracy\n",
        "    print(\"New highest validation accuracy, saving the embedding model\")\n",
        "    torch.save(embeddingNetwork.state_dict(), \"embeddingNetworkMNISTWithoutTransfer.pt\")\n",
        "  return maxValidationAccuracyMNIST"
      ],
      "execution_count": 17,
      "outputs": []
    },
    {
      "cell_type": "markdown",
      "metadata": {
        "id": "fHFqry6R89Ss"
      },
      "source": [
        "Training the embedding model for 5 epochs, the same number of epochs the Transfer model was trained for"
      ]
    },
    {
      "cell_type": "code",
      "metadata": {
        "colab": {
          "base_uri": "https://localhost:8080/"
        },
        "id": "mqR987Ex7nLj",
        "outputId": "7f6878aa-3f2b-479f-dbe7-6a2f7cd3f009"
      },
      "source": [
        "maxValidationAccuracyMNIST = 0\n",
        "for epoch in range(1, 5):\n",
        "    trainMNIST(embeddingNetwork, lossFunction, miningFunction, device, mnistTrainLoader, optimizer, epoch)\n",
        "    print(\"Training completed for the Epoch:\", epoch)\n",
        "    maxValidationAccuracyMNIST = testerMNIST(maxValidationAccuracyMNIST)"
      ],
      "execution_count": 18,
      "outputs": [
        {
          "output_type": "stream",
          "text": [
            "Training started for Epoch:  1\n",
            "Training Stats for Epoch 1 Iteration 0: Loss= 0.16834841668605804, Number of mined triplets 160952\n",
            "Training Stats for Epoch 1 Iteration 300: Loss= 0.2209557294845581, Number of mined triplets 3663\n",
            "Training completed for the Epoch: 1\n",
            "Accuracy:  0.9882\n",
            "New highest validation accuracy, saving the embedding model\n",
            "Training started for Epoch:  2\n",
            "Training Stats for Epoch 2 Iteration 0: Loss= 0.14124679565429688, Number of mined triplets 1107\n",
            "Training Stats for Epoch 2 Iteration 300: Loss= 0.20393860340118408, Number of mined triplets 1463\n",
            "Training completed for the Epoch: 2\n",
            "Accuracy:  0.9925\n",
            "New highest validation accuracy, saving the embedding model\n",
            "Training started for Epoch:  3\n",
            "Training Stats for Epoch 3 Iteration 0: Loss= 0.21752680838108063, Number of mined triplets 625\n",
            "Training Stats for Epoch 3 Iteration 300: Loss= 0.19382375478744507, Number of mined triplets 1684\n",
            "Training completed for the Epoch: 3\n",
            "Accuracy:  0.9936\n",
            "New highest validation accuracy, saving the embedding model\n",
            "Training started for Epoch:  4\n",
            "Training Stats for Epoch 4 Iteration 0: Loss= 0.08982618898153305, Number of mined triplets 374\n",
            "Training Stats for Epoch 4 Iteration 300: Loss= 0.07567259669303894, Number of mined triplets 176\n",
            "Training completed for the Epoch: 4\n",
            "Accuracy:  0.9924\n"
          ],
          "name": "stdout"
        }
      ]
    },
    {
      "cell_type": "markdown",
      "metadata": {
        "id": "ka9JbmZa9YJs"
      },
      "source": [
        "Training the classifier model"
      ]
    },
    {
      "cell_type": "code",
      "metadata": {
        "id": "F5tyW6qX7nJb"
      },
      "source": [
        "class classifierNet(nn.Module):\n",
        "    def __init__(self, EmbeddingNet):\n",
        "        super(classifierNet, self).__init__()\n",
        "        self.embeddingLayer = EmbeddingNet\n",
        "        self.linearLayer = nn.Sequential(nn.Linear(128, 64), nn.ReLU())\n",
        "        self.classifierLayer = nn.Linear(64,10)\n",
        "        self.dropout = nn.Dropout(0.5)\n",
        "\n",
        "    def forward(self, x):\n",
        "        x = self.dropout(self.embeddingLayer(x))\n",
        "        x = self.dropout(self.linearLayer(x))\n",
        "        x = self.classifierLayer(x)\n",
        "        return F.log_softmax(x, dim=1)"
      ],
      "execution_count": 19,
      "outputs": []
    },
    {
      "cell_type": "code",
      "metadata": {
        "colab": {
          "base_uri": "https://localhost:8080/"
        },
        "id": "zn4ZrriB7nHe",
        "outputId": "e88fe8bb-a4b8-4918-ff1f-413e0acb5b2d"
      },
      "source": [
        "bestEmbeddingNetwork = EmbeddingNetwork().to(device)\n",
        "bestEmbeddingNetwork.load_state_dict(torch.load('embeddingNetworkMNISTWithoutTransfer.pt'))"
      ],
      "execution_count": 20,
      "outputs": [
        {
          "output_type": "execute_result",
          "data": {
            "text/plain": [
              "<All keys matched successfully>"
            ]
          },
          "metadata": {
            "tags": []
          },
          "execution_count": 20
        }
      ]
    },
    {
      "cell_type": "code",
      "metadata": {
        "colab": {
          "base_uri": "https://localhost:8080/"
        },
        "id": "-0ynmCiY7nFl",
        "outputId": "e9c6b7ff-fe7e-4a13-b6ce-007c24f21523"
      },
      "source": [
        "classifier = classifierNet(embeddingNetwork).to(device)\n",
        "print(classifier)"
      ],
      "execution_count": 26,
      "outputs": [
        {
          "output_type": "stream",
          "text": [
            "classifierNet(\n",
            "  (embeddingLayer): EmbeddingNetwork(\n",
            "    (conv1): Sequential(\n",
            "      (0): Conv2d(1, 64, kernel_size=(7, 7), stride=(2, 2), padding=(3, 3))\n",
            "      (1): BatchNorm2d(64, eps=1e-05, momentum=0.1, affine=True, track_running_stats=True)\n",
            "      (2): LeakyReLU(negative_slope=0.001)\n",
            "      (3): MaxPool2d(kernel_size=(3, 3), stride=2, padding=(1, 1), dilation=1, ceil_mode=False)\n",
            "    )\n",
            "    (conv2): Sequential(\n",
            "      (0): Conv2d(64, 64, kernel_size=(1, 1), stride=(1, 1))\n",
            "      (1): BatchNorm2d(64, eps=1e-05, momentum=0.1, affine=True, track_running_stats=True)\n",
            "      (2): LeakyReLU(negative_slope=0.001)\n",
            "      (3): Conv2d(64, 192, kernel_size=(3, 3), stride=(1, 1), padding=(1, 1))\n",
            "      (4): BatchNorm2d(192, eps=1e-05, momentum=0.1, affine=True, track_running_stats=True)\n",
            "      (5): LeakyReLU(negative_slope=0.001)\n",
            "      (6): MaxPool2d(kernel_size=(3, 3), stride=2, padding=(1, 1), dilation=1, ceil_mode=False)\n",
            "    )\n",
            "    (conv3): Sequential(\n",
            "      (0): Conv2d(192, 192, kernel_size=(1, 1), stride=(1, 1))\n",
            "      (1): BatchNorm2d(192, eps=1e-05, momentum=0.1, affine=True, track_running_stats=True)\n",
            "      (2): LeakyReLU(negative_slope=0.001)\n",
            "      (3): Conv2d(192, 384, kernel_size=(3, 3), stride=(1, 1), padding=(1, 1))\n",
            "      (4): BatchNorm2d(384, eps=1e-05, momentum=0.1, affine=True, track_running_stats=True)\n",
            "      (5): LeakyReLU(negative_slope=0.001)\n",
            "      (6): MaxPool2d(kernel_size=(3, 3), stride=2, padding=(1, 1), dilation=1, ceil_mode=False)\n",
            "    )\n",
            "    (conv4): Sequential(\n",
            "      (0): Conv2d(384, 384, kernel_size=(1, 1), stride=(1, 1))\n",
            "      (1): BatchNorm2d(384, eps=1e-05, momentum=0.1, affine=True, track_running_stats=True)\n",
            "      (2): LeakyReLU(negative_slope=0.001)\n",
            "      (3): Conv2d(384, 256, kernel_size=(3, 3), stride=(1, 1), padding=(1, 1))\n",
            "      (4): BatchNorm2d(256, eps=1e-05, momentum=0.1, affine=True, track_running_stats=True)\n",
            "      (5): LeakyReLU(negative_slope=0.001)\n",
            "    )\n",
            "    (conv5): Sequential(\n",
            "      (0): Conv2d(256, 256, kernel_size=(1, 1), stride=(1, 1))\n",
            "      (1): BatchNorm2d(256, eps=1e-05, momentum=0.1, affine=True, track_running_stats=True)\n",
            "      (2): LeakyReLU(negative_slope=0.001)\n",
            "      (3): Conv2d(256, 256, kernel_size=(3, 3), stride=(1, 1), padding=(1, 1))\n",
            "      (4): BatchNorm2d(256, eps=1e-05, momentum=0.1, affine=True, track_running_stats=True)\n",
            "      (5): LeakyReLU(negative_slope=0.001)\n",
            "    )\n",
            "    (conv6): Sequential(\n",
            "      (0): Conv2d(256, 256, kernel_size=(1, 1), stride=(1, 1))\n",
            "      (1): BatchNorm2d(256, eps=1e-05, momentum=0.1, affine=True, track_running_stats=True)\n",
            "      (2): LeakyReLU(negative_slope=0.001)\n",
            "      (3): Conv2d(256, 256, kernel_size=(3, 3), stride=(1, 1), padding=(1, 1))\n",
            "      (4): BatchNorm2d(256, eps=1e-05, momentum=0.1, affine=True, track_running_stats=True)\n",
            "      (5): LeakyReLU(negative_slope=0.001)\n",
            "      (6): MaxPool2d(kernel_size=(3, 3), stride=2, padding=(1, 1), dilation=1, ceil_mode=False)\n",
            "      (7): Flatten(start_dim=1, end_dim=-1)\n",
            "    )\n",
            "    (fullyConnected): Sequential(\n",
            "      (0): Linear(in_features=12544, out_features=4096, bias=True)\n",
            "      (1): BatchNorm1d(4096, eps=1e-05, momentum=0.1, affine=True, track_running_stats=True)\n",
            "      (2): LeakyReLU(negative_slope=0.001)\n",
            "      (3): Linear(in_features=4096, out_features=128, bias=True)\n",
            "    )\n",
            "  )\n",
            "  (linearLayer): Sequential(\n",
            "    (0): Linear(in_features=128, out_features=64, bias=True)\n",
            "    (1): ReLU()\n",
            "  )\n",
            "  (classifierLayer): Linear(in_features=64, out_features=10, bias=True)\n",
            "  (dropout): Dropout(p=0.5, inplace=False)\n",
            ")\n"
          ],
          "name": "stdout"
        }
      ]
    },
    {
      "cell_type": "markdown",
      "metadata": {
        "id": "1UHnmFu99mNz"
      },
      "source": [
        "Freezing the embedding generator layers"
      ]
    },
    {
      "cell_type": "code",
      "metadata": {
        "id": "AqtzO_Rg7nDD"
      },
      "source": [
        "for param in classifier.embeddingLayer.parameters():\n",
        "    param.requires_grad = False"
      ],
      "execution_count": 27,
      "outputs": []
    },
    {
      "cell_type": "code",
      "metadata": {
        "id": "eUpx0j4O7m_F"
      },
      "source": [
        "criterion = nn.NLLLoss()\n",
        "optimizer = torch.optim.Adam(classifier.parameters(), lr=0.01)\n",
        "def accuracy(output, labels):\n",
        "    _, predictions = torch.max(output, dim=1)\n",
        "    return torch.sum(predictions==labels).item()"
      ],
      "execution_count": 28,
      "outputs": []
    },
    {
      "cell_type": "code",
      "metadata": {
        "colab": {
          "base_uri": "https://localhost:8080/"
        },
        "id": "DITPZyhS7m9I",
        "outputId": "d857cae8-a7cb-42a2-a610-4fbd2b3f8f46"
      },
      "source": [
        "numberOfEpochs = 20\n",
        "validAccuracyMaxTransfer = 0.0\n",
        "validationLossTransfer = []\n",
        "validationAccuracyTransfer = []\n",
        "trainingLossTransfer = []\n",
        "trainingAccuracyTransfer = []\n",
        "totalSteps = len(mnistTrainLoader)\n",
        "for epoch in range(1, numberOfEpochs):\n",
        "    classifier.train()\n",
        "    runningLoss = 0.0\n",
        "    correct = 0\n",
        "    total = 0\n",
        "    print(\"Training started for Epoch: \",epoch)\n",
        "    for batchIndex, (data, target) in enumerate(mnistTrainLoader):\n",
        "        data, target = data.to(device), target.to(device)\n",
        "        optimizer.zero_grad()\n",
        "        outputs = classifier(data)\n",
        "        loss = criterion(outputs,target)\n",
        "        loss.backward()\n",
        "        optimizer.step()\n",
        "        runningLoss += loss.item()\n",
        "        _, pred = torch.max(outputs, dim=1)\n",
        "        correct += torch.sum(pred==target).item()\n",
        "        total += target.size(0)\n",
        "        if (batchIndex)%100 ==0:\n",
        "            print(\"Epoch [{}/{}] Step [{}/{}] Loss: {:.4f}\".format(epoch,numberOfEpochs,batchIndex,totalSteps,loss.item()))\n",
        "    trainingAccuracyTransfer.append(100*correct/total)\n",
        "    trainingLossTransfer.append(runningLoss/totalSteps)\n",
        "    print(\"Training Accuracy: \",(100*correct/total))\n",
        "    batchLoss = 0\n",
        "    totalV = 0\n",
        "    correctV = 0\n",
        "    with torch.no_grad():\n",
        "        classifier.eval()\n",
        "        for dataV, targetV in (mnistTestLoader):\n",
        "            dataV, targetV = dataV.to(device), targetV.to(device)\n",
        "            outputV = classifier(dataV)\n",
        "            lossV = criterion(outputV,targetV)\n",
        "            batchLoss += lossV.item()\n",
        "            _, predV = torch.max(outputV, dim=1)\n",
        "            correctV += torch.sum(predV==targetV).item()\n",
        "            totalV += targetV.size(0)\n",
        "        validationAccuracyTransfer.append(100*correctV/totalV)\n",
        "        validationLossTransfer.append(batchLoss/len(mnistTestLoader))\n",
        "        print(\"Validation Accuracy: \",(100*correctV/totalV))\n",
        "        if (100*correctV/totalV)>validAccuracyMaxTransfer:\n",
        "          validAccuracyMaxTransfer = 100*correctV/totalV\n",
        "          print(\"Validation accuracy improved, network improvement detected, saving network\")\n",
        "          torch.save(classifier.state_dict(), \"classifierNetworkTransferLearningTask2.pt\")\n",
        "\n",
        "    classifier.train()"
      ],
      "execution_count": 29,
      "outputs": [
        {
          "output_type": "stream",
          "text": [
            "Training started for Epoch:  1\n",
            "Epoch [1/20] Step [0/469] Loss: 2.3124\n",
            "Epoch [1/20] Step [100/469] Loss: 0.0205\n",
            "Epoch [1/20] Step [200/469] Loss: 0.0124\n",
            "Epoch [1/20] Step [300/469] Loss: 0.0115\n",
            "Epoch [1/20] Step [400/469] Loss: 0.1401\n",
            "Training Accuracy:  98.13\n",
            "Validation Accuracy:  99.31\n",
            "Validation accuracy improved, network improvement detected, saving network\n",
            "Training started for Epoch:  2\n",
            "Epoch [2/20] Step [0/469] Loss: 0.0724\n",
            "Epoch [2/20] Step [100/469] Loss: 0.1590\n",
            "Epoch [2/20] Step [200/469] Loss: 0.0080\n",
            "Epoch [2/20] Step [300/469] Loss: 0.0957\n",
            "Epoch [2/20] Step [400/469] Loss: 0.0047\n",
            "Training Accuracy:  98.81333333333333\n",
            "Validation Accuracy:  99.31\n",
            "Training started for Epoch:  3\n",
            "Epoch [3/20] Step [0/469] Loss: 0.0540\n",
            "Epoch [3/20] Step [100/469] Loss: 0.1283\n",
            "Epoch [3/20] Step [200/469] Loss: 0.0607\n",
            "Epoch [3/20] Step [300/469] Loss: 0.0197\n",
            "Epoch [3/20] Step [400/469] Loss: 0.0095\n",
            "Training Accuracy:  98.89166666666667\n",
            "Validation Accuracy:  99.23\n",
            "Training started for Epoch:  4\n",
            "Epoch [4/20] Step [0/469] Loss: 0.0136\n",
            "Epoch [4/20] Step [100/469] Loss: 0.0795\n",
            "Epoch [4/20] Step [200/469] Loss: 0.0476\n",
            "Epoch [4/20] Step [300/469] Loss: 0.0112\n",
            "Epoch [4/20] Step [400/469] Loss: 0.0642\n",
            "Training Accuracy:  98.90666666666667\n",
            "Validation Accuracy:  99.29\n",
            "Training started for Epoch:  5\n",
            "Epoch [5/20] Step [0/469] Loss: 0.0135\n",
            "Epoch [5/20] Step [100/469] Loss: 0.0128\n",
            "Epoch [5/20] Step [200/469] Loss: 0.0613\n",
            "Epoch [5/20] Step [300/469] Loss: 0.0153\n",
            "Epoch [5/20] Step [400/469] Loss: 0.0625\n",
            "Training Accuracy:  98.85833333333333\n",
            "Validation Accuracy:  99.25\n",
            "Training started for Epoch:  6\n",
            "Epoch [6/20] Step [0/469] Loss: 0.0918\n",
            "Epoch [6/20] Step [100/469] Loss: 0.0492\n",
            "Epoch [6/20] Step [200/469] Loss: 0.1114\n",
            "Epoch [6/20] Step [300/469] Loss: 0.0929\n",
            "Epoch [6/20] Step [400/469] Loss: 0.0269\n",
            "Training Accuracy:  98.90333333333334\n",
            "Validation Accuracy:  99.29\n",
            "Training started for Epoch:  7\n",
            "Epoch [7/20] Step [0/469] Loss: 0.0044\n",
            "Epoch [7/20] Step [100/469] Loss: 0.0216\n",
            "Epoch [7/20] Step [200/469] Loss: 0.0740\n",
            "Epoch [7/20] Step [300/469] Loss: 0.1185\n",
            "Epoch [7/20] Step [400/469] Loss: 0.0314\n",
            "Training Accuracy:  98.83666666666667\n",
            "Validation Accuracy:  99.28\n",
            "Training started for Epoch:  8\n",
            "Epoch [8/20] Step [0/469] Loss: 0.0126\n",
            "Epoch [8/20] Step [100/469] Loss: 0.0386\n",
            "Epoch [8/20] Step [200/469] Loss: 0.1119\n",
            "Epoch [8/20] Step [300/469] Loss: 0.0110\n",
            "Epoch [8/20] Step [400/469] Loss: 0.0082\n",
            "Training Accuracy:  98.87833333333333\n",
            "Validation Accuracy:  99.2\n",
            "Training started for Epoch:  9\n",
            "Epoch [9/20] Step [0/469] Loss: 0.0801\n",
            "Epoch [9/20] Step [100/469] Loss: 0.0160\n",
            "Epoch [9/20] Step [200/469] Loss: 0.0995\n",
            "Epoch [9/20] Step [300/469] Loss: 0.1043\n",
            "Epoch [9/20] Step [400/469] Loss: 0.0729\n",
            "Training Accuracy:  98.84666666666666\n",
            "Validation Accuracy:  99.27\n",
            "Training started for Epoch:  10\n",
            "Epoch [10/20] Step [0/469] Loss: 0.0506\n",
            "Epoch [10/20] Step [100/469] Loss: 0.0051\n",
            "Epoch [10/20] Step [200/469] Loss: 0.1462\n",
            "Epoch [10/20] Step [300/469] Loss: 0.0089\n",
            "Epoch [10/20] Step [400/469] Loss: 0.0127\n",
            "Training Accuracy:  98.92666666666666\n",
            "Validation Accuracy:  99.35\n",
            "Validation accuracy improved, network improvement detected, saving network\n",
            "Training started for Epoch:  11\n",
            "Epoch [11/20] Step [0/469] Loss: 0.0251\n",
            "Epoch [11/20] Step [100/469] Loss: 0.0720\n",
            "Epoch [11/20] Step [200/469] Loss: 0.0196\n",
            "Epoch [11/20] Step [300/469] Loss: 0.0126\n",
            "Epoch [11/20] Step [400/469] Loss: 0.0032\n",
            "Training Accuracy:  98.87\n",
            "Validation Accuracy:  99.29\n",
            "Training started for Epoch:  12\n",
            "Epoch [12/20] Step [0/469] Loss: 0.0465\n",
            "Epoch [12/20] Step [100/469] Loss: 0.1071\n",
            "Epoch [12/20] Step [200/469] Loss: 0.0296\n",
            "Epoch [12/20] Step [300/469] Loss: 0.0801\n",
            "Epoch [12/20] Step [400/469] Loss: 0.0557\n",
            "Training Accuracy:  98.84\n",
            "Validation Accuracy:  99.26\n",
            "Training started for Epoch:  13\n",
            "Epoch [13/20] Step [0/469] Loss: 0.0586\n",
            "Epoch [13/20] Step [100/469] Loss: 0.1021\n",
            "Epoch [13/20] Step [200/469] Loss: 0.0374\n",
            "Epoch [13/20] Step [300/469] Loss: 0.1728\n",
            "Epoch [13/20] Step [400/469] Loss: 0.0156\n",
            "Training Accuracy:  98.92166666666667\n",
            "Validation Accuracy:  99.3\n",
            "Training started for Epoch:  14\n",
            "Epoch [14/20] Step [0/469] Loss: 0.0182\n",
            "Epoch [14/20] Step [100/469] Loss: 0.0249\n",
            "Epoch [14/20] Step [200/469] Loss: 0.0914\n",
            "Epoch [14/20] Step [300/469] Loss: 0.0289\n",
            "Epoch [14/20] Step [400/469] Loss: 0.0316\n",
            "Training Accuracy:  98.87333333333333\n",
            "Validation Accuracy:  99.22\n",
            "Training started for Epoch:  15\n",
            "Epoch [15/20] Step [0/469] Loss: 0.0146\n",
            "Epoch [15/20] Step [100/469] Loss: 0.1053\n",
            "Epoch [15/20] Step [200/469] Loss: 0.1347\n",
            "Epoch [15/20] Step [300/469] Loss: 0.0574\n",
            "Epoch [15/20] Step [400/469] Loss: 0.0076\n",
            "Training Accuracy:  98.8\n",
            "Validation Accuracy:  99.23\n",
            "Training started for Epoch:  16\n",
            "Epoch [16/20] Step [0/469] Loss: 0.1923\n",
            "Epoch [16/20] Step [100/469] Loss: 0.0174\n",
            "Epoch [16/20] Step [200/469] Loss: 0.0528\n",
            "Epoch [16/20] Step [300/469] Loss: 0.0175\n",
            "Epoch [16/20] Step [400/469] Loss: 0.0127\n",
            "Training Accuracy:  98.76833333333333\n",
            "Validation Accuracy:  99.27\n",
            "Training started for Epoch:  17\n",
            "Epoch [17/20] Step [0/469] Loss: 0.0103\n",
            "Epoch [17/20] Step [100/469] Loss: 0.0066\n",
            "Epoch [17/20] Step [200/469] Loss: 0.0203\n",
            "Epoch [17/20] Step [300/469] Loss: 0.0829\n",
            "Epoch [17/20] Step [400/469] Loss: 0.0067\n",
            "Training Accuracy:  98.78833333333333\n",
            "Validation Accuracy:  99.29\n",
            "Training started for Epoch:  18\n",
            "Epoch [18/20] Step [0/469] Loss: 0.2345\n",
            "Epoch [18/20] Step [100/469] Loss: 0.0095\n",
            "Epoch [18/20] Step [200/469] Loss: 0.0532\n",
            "Epoch [18/20] Step [300/469] Loss: 0.0361\n",
            "Epoch [18/20] Step [400/469] Loss: 0.0679\n",
            "Training Accuracy:  98.80666666666667\n",
            "Validation Accuracy:  99.18\n",
            "Training started for Epoch:  19\n",
            "Epoch [19/20] Step [0/469] Loss: 0.0706\n",
            "Epoch [19/20] Step [100/469] Loss: 0.1260\n",
            "Epoch [19/20] Step [200/469] Loss: 0.0287\n",
            "Epoch [19/20] Step [300/469] Loss: 0.0597\n",
            "Epoch [19/20] Step [400/469] Loss: 0.0078\n",
            "Training Accuracy:  98.87666666666667\n",
            "Validation Accuracy:  99.33\n"
          ],
          "name": "stdout"
        }
      ]
    },
    {
      "cell_type": "code",
      "metadata": {
        "colab": {
          "base_uri": "https://localhost:8080/",
          "height": 607
        },
        "id": "E8PYXCSg7m7I",
        "outputId": "711c157d-4ccf-4489-8586-be9c49364987"
      },
      "source": [
        "fig = plt.figure(figsize=(20,10))\n",
        "plt.title(\"Transfer Learning Model Train-Validation Loss Plot\")\n",
        "plt.plot(trainingLossTransfer, label='training loss')\n",
        "plt.plot(validationLossTransfer, label='validation loss')\n",
        "plt.xlabel('Number of epochs')\n",
        "plt.ylabel('Loss')\n",
        "plt.legend(loc='best')"
      ],
      "execution_count": 30,
      "outputs": [
        {
          "output_type": "execute_result",
          "data": {
            "text/plain": [
              "<matplotlib.legend.Legend at 0x7ff08a243dd0>"
            ]
          },
          "metadata": {
            "tags": []
          },
          "execution_count": 30
        },
        {
          "output_type": "display_data",
          "data": {
            "image/png": "[encoded data removed]",
            "text/plain": [
              "<Figure size 1440x720 with 1 Axes>"
            ]
          },
          "metadata": {
            "tags": [],
            "needs_background": "light"
          }
        }
      ]
    },
    {
      "cell_type": "code",
      "metadata": {
        "colab": {
          "base_uri": "https://localhost:8080/",
          "height": 607
        },
        "id": "vZYu8q_S7m40",
        "outputId": "fdae0649-8c71-4acf-9656-4f3a37eac910"
      },
      "source": [
        "fig = plt.figure(figsize=(20,10))\n",
        "plt.title(\"Transfer Learning Train-Validation Accuracy Plot\")\n",
        "plt.plot(trainingAccuracyTransfer, label='training accuracy')\n",
        "plt.plot(validationAccuracyTransfer, label='validation accuracy')\n",
        "plt.xlabel('Number of epochs')\n",
        "plt.ylabel('Accuracy')\n",
        "plt.legend(loc='best')"
      ],
      "execution_count": 31,
      "outputs": [
        {
          "output_type": "execute_result",
          "data": {
            "text/plain": [
              "<matplotlib.legend.Legend at 0x7ff08a2ed490>"
            ]
          },
          "metadata": {
            "tags": []
          },
          "execution_count": 31
        },
        {
          "output_type": "display_data",
          "data": {
            "image/png": "[encoded data removed]",
            "text/plain": [
              "<Figure size 1440x720 with 1 Axes>"
            ]
          },
          "metadata": {
            "tags": [],
            "needs_background": "light"
          }
        }
      ]
    }
  ]
}