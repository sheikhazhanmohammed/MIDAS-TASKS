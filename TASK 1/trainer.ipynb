{
  "nbformat": 4,
  "nbformat_minor": 0,
  "metadata": {
    "colab": {
      "name": "trainer.ipynb",
      "provenance": [],
      "collapsed_sections": [],
      "toc_visible": true
    },
    "kernelspec": {
      "display_name": "Python 3",
      "language": "python",
      "name": "python3"
    },
    "language_info": {
      "codemirror_mode": {
        "name": "ipython",
        "version": 3
      },
      "file_extension": ".py",
      "mimetype": "text/x-python",
      "name": "python",
      "nbconvert_exporter": "python",
      "pygments_lexer": "ipython3",
      "version": "3.8.5"
    },
    "accelerator": "GPU"
  },
  "cells": [
    {
      "cell_type": "markdown",
      "metadata": {
        "id": "j2fx-O9BjFGn"
      },
      "source": [
        "Installing pre-requisites"
      ]
    },
    {
      "cell_type": "code",
      "metadata": {
        "colab": {
          "base_uri": "https://localhost:8080/"
        },
        "id": "C8-vKx-hVAQm",
        "outputId": "5c9c8e58-3163-42e0-a50a-286d29597384"
      },
      "source": [
        "!pip install pytorch-metric-learning\n",
        "!pip install faiss-gpu"
      ],
      "execution_count": 1,
      "outputs": [
        {
          "output_type": "stream",
          "text": [
            "Collecting pytorch-metric-learning\n",
            "\u001b[?25l  Downloading https://files.pythonhosted.org/packages/3e/ba/8e6c380f3b7b34e6dafe2392f5c79275f2245588a7dc0b690fc344491eed/pytorch_metric_learning-0.9.98-py3-none-any.whl (102kB)\n",
            "\r\u001b[K     |███▏                            | 10kB 15.7MB/s eta 0:00:01\r\u001b[K     |██████▍                         | 20kB 11.0MB/s eta 0:00:01\r\u001b[K     |█████████▋                      | 30kB 8.2MB/s eta 0:00:01\r\u001b[K     |████████████▉                   | 40kB 7.3MB/s eta 0:00:01\r\u001b[K     |████████████████                | 51kB 4.4MB/s eta 0:00:01\r\u001b[K     |███████████████████▏            | 61kB 4.9MB/s eta 0:00:01\r\u001b[K     |██████████████████████▍         | 71kB 5.0MB/s eta 0:00:01\r\u001b[K     |█████████████████████████▋      | 81kB 5.3MB/s eta 0:00:01\r\u001b[K     |████████████████████████████▉   | 92kB 5.7MB/s eta 0:00:01\r\u001b[K     |████████████████████████████████| 102kB 3.7MB/s \n",
            "\u001b[?25hRequirement already satisfied: torchvision in /usr/local/lib/python3.7/dist-packages (from pytorch-metric-learning) (0.9.1+cu101)\n",
            "Requirement already satisfied: numpy in /usr/local/lib/python3.7/dist-packages (from pytorch-metric-learning) (1.19.5)\n",
            "Requirement already satisfied: tqdm in /usr/local/lib/python3.7/dist-packages (from pytorch-metric-learning) (4.41.1)\n",
            "Requirement already satisfied: scikit-learn in /usr/local/lib/python3.7/dist-packages (from pytorch-metric-learning) (0.22.2.post1)\n",
            "Requirement already satisfied: torch>=1.6.0 in /usr/local/lib/python3.7/dist-packages (from pytorch-metric-learning) (1.8.1+cu101)\n",
            "Requirement already satisfied: pillow>=4.1.1 in /usr/local/lib/python3.7/dist-packages (from torchvision->pytorch-metric-learning) (7.1.2)\n",
            "Requirement already satisfied: joblib>=0.11 in /usr/local/lib/python3.7/dist-packages (from scikit-learn->pytorch-metric-learning) (1.0.1)\n",
            "Requirement already satisfied: scipy>=0.17.0 in /usr/local/lib/python3.7/dist-packages (from scikit-learn->pytorch-metric-learning) (1.4.1)\n",
            "Requirement already satisfied: typing-extensions in /usr/local/lib/python3.7/dist-packages (from torch>=1.6.0->pytorch-metric-learning) (3.7.4.3)\n",
            "Installing collected packages: pytorch-metric-learning\n",
            "Successfully installed pytorch-metric-learning-0.9.98\n",
            "Collecting faiss-gpu\n",
            "\u001b[?25l  Downloading https://files.pythonhosted.org/packages/5d/36/383911b8edf8c29cb7e9e8aee4e6b69b0f36c52237e3a06ce64a9551ef22/faiss_gpu-1.7.0-cp37-cp37m-manylinux2014_x86_64.whl (89.4MB)\n",
            "\u001b[K     |████████████████████████████████| 89.4MB 65kB/s \n",
            "\u001b[?25hInstalling collected packages: faiss-gpu\n",
            "Successfully installed faiss-gpu-1.7.0\n"
          ],
          "name": "stdout"
        }
      ]
    },
    {
      "cell_type": "code",
      "metadata": {
        "colab": {
          "base_uri": "https://localhost:8080/"
        },
        "id": "hOGD8APbVUL4",
        "outputId": "cf1bdc40-e420-4329-f89d-9231993f373a"
      },
      "source": [
        "from google.colab import drive\n",
        "drive.mount('/content/drive')"
      ],
      "execution_count": 2,
      "outputs": [
        {
          "output_type": "stream",
          "text": [
            "Mounted at /content/drive\n"
          ],
          "name": "stdout"
        }
      ]
    },
    {
      "cell_type": "markdown",
      "metadata": {
        "id": "iRs-P-VsU-zC"
      },
      "source": [
        "## Task 1\n"
      ]
    },
    {
      "cell_type": "markdown",
      "metadata": {
        "id": "jhAiRp1nU-zG"
      },
      "source": [
        "The notebook is divided into 3 parts:\n",
        "- In the first part we import the images and create the dataframe\n",
        "- In the second part we define our embedding network and train it on the given images\n",
        "- In the last part we use the embedding network to create a classifier and use it to classify the given images"
      ]
    },
    {
      "cell_type": "markdown",
      "metadata": {
        "id": "tuxspIyXU-zH"
      },
      "source": [
        "## Part 1: Data import and dataframe creation"
      ]
    },
    {
      "cell_type": "markdown",
      "metadata": {
        "id": "kFqIxU-XU-zI"
      },
      "source": [
        "Importing important libraries for the section"
      ]
    },
    {
      "cell_type": "code",
      "metadata": {
        "id": "DO6Z427EU-zJ"
      },
      "source": [
        "import numpy as np\n",
        "import pandas as pd\n",
        "import os\n",
        "from PIL import Image\n",
        "import matplotlib.pyplot as plt\n",
        "from sklearn.preprocessing import LabelEncoder\n",
        "import torch\n",
        "from torch.utils.data import Dataset\n",
        "import torchvision.transforms as transforms\n",
        "from torch.utils.data.sampler import SubsetRandomSampler"
      ],
      "execution_count": 3,
      "outputs": []
    },
    {
      "cell_type": "markdown",
      "metadata": {
        "id": "p3RTP6dTU-zK"
      },
      "source": [
        "Rather than importing all the images together, we shall create a dataframe with Image path and respective label \"string type\", and then encode the labels \"numeral type\". This makes the execution faster by only importing selected images at a time."
      ]
    },
    {
      "cell_type": "code",
      "metadata": {
        "id": "x8Ax7FPljNw5"
      },
      "source": [
        "#to replicate the results just replace the path below with the path to your train folder\n",
        "pathToDataset = '/content/drive/MyDrive/MIDAS/TASK 1/train/'"
      ],
      "execution_count": 4,
      "outputs": []
    },
    {
      "cell_type": "code",
      "metadata": {
        "colab": {
          "base_uri": "https://localhost:8080/",
          "height": 195
        },
        "id": "4cjXRRsuU-zL",
        "outputId": "fb7843c5-b719-4d60-8f53-8e7fff4defae"
      },
      "source": [
        "imagePath = []\n",
        "labels = []\n",
        "for folder in os.listdir(pathToDataset):\n",
        "    for images in os.listdir(os.path.join(pathToDataset,folder)):\n",
        "        image = os.path.join(pathToDataset,folder,images)\n",
        "        imagePath.append(image)\n",
        "        labels.append(folder)\n",
        "data = {'Images':imagePath, 'Labels':labels}\n",
        "data = pd.DataFrame(data)\n",
        "data.head()"
      ],
      "execution_count": 5,
      "outputs": [
        {
          "output_type": "execute_result",
          "data": {
            "text/html": [
              "<div>\n",
              "<style scoped>\n",
              "    .dataframe tbody tr th:only-of-type {\n",
              "        vertical-align: middle;\n",
              "    }\n",
              "\n",
              "    .dataframe tbody tr th {\n",
              "        vertical-align: top;\n",
              "    }\n",
              "\n",
              "    .dataframe thead th {\n",
              "        text-align: right;\n",
              "    }\n",
              "</style>\n",
              "<table border=\"1\" class=\"dataframe\">\n",
              "  <thead>\n",
              "    <tr style=\"text-align: right;\">\n",
              "      <th></th>\n",
              "      <th>Images</th>\n",
              "      <th>Labels</th>\n",
              "    </tr>\n",
              "  </thead>\n",
              "  <tbody>\n",
              "    <tr>\n",
              "      <th>0</th>\n",
              "      <td>/content/drive/MyDrive/MIDAS/TASK 1/train/Samp...</td>\n",
              "      <td>Sample006</td>\n",
              "    </tr>\n",
              "    <tr>\n",
              "      <th>1</th>\n",
              "      <td>/content/drive/MyDrive/MIDAS/TASK 1/train/Samp...</td>\n",
              "      <td>Sample006</td>\n",
              "    </tr>\n",
              "    <tr>\n",
              "      <th>2</th>\n",
              "      <td>/content/drive/MyDrive/MIDAS/TASK 1/train/Samp...</td>\n",
              "      <td>Sample006</td>\n",
              "    </tr>\n",
              "    <tr>\n",
              "      <th>3</th>\n",
              "      <td>/content/drive/MyDrive/MIDAS/TASK 1/train/Samp...</td>\n",
              "      <td>Sample006</td>\n",
              "    </tr>\n",
              "    <tr>\n",
              "      <th>4</th>\n",
              "      <td>/content/drive/MyDrive/MIDAS/TASK 1/train/Samp...</td>\n",
              "      <td>Sample006</td>\n",
              "    </tr>\n",
              "  </tbody>\n",
              "</table>\n",
              "</div>"
            ],
            "text/plain": [
              "                                              Images     Labels\n",
              "0  /content/drive/MyDrive/MIDAS/TASK 1/train/Samp...  Sample006\n",
              "1  /content/drive/MyDrive/MIDAS/TASK 1/train/Samp...  Sample006\n",
              "2  /content/drive/MyDrive/MIDAS/TASK 1/train/Samp...  Sample006\n",
              "3  /content/drive/MyDrive/MIDAS/TASK 1/train/Samp...  Sample006\n",
              "4  /content/drive/MyDrive/MIDAS/TASK 1/train/Samp...  Sample006"
            ]
          },
          "metadata": {
            "tags": []
          },
          "execution_count": 5
        }
      ]
    },
    {
      "cell_type": "markdown",
      "metadata": {
        "id": "oNyJ9jSdU-zM"
      },
      "source": [
        "Now that  we have the Image path and their respective labels, we shall encode these labels to their numerical counterparts for our deep learning model."
      ]
    },
    {
      "cell_type": "code",
      "metadata": {
        "colab": {
          "base_uri": "https://localhost:8080/",
          "height": 195
        },
        "id": "6WJ8HXKgU-zN",
        "outputId": "d5ecea71-8997-4a0b-99f7-70e594f06fc3"
      },
      "source": [
        "labelEncoder = LabelEncoder()\n",
        "data['Encoded Labels'] = labelEncoder.fit_transform(data['Labels'])\n",
        "data.head()"
      ],
      "execution_count": 6,
      "outputs": [
        {
          "output_type": "execute_result",
          "data": {
            "text/html": [
              "<div>\n",
              "<style scoped>\n",
              "    .dataframe tbody tr th:only-of-type {\n",
              "        vertical-align: middle;\n",
              "    }\n",
              "\n",
              "    .dataframe tbody tr th {\n",
              "        vertical-align: top;\n",
              "    }\n",
              "\n",
              "    .dataframe thead th {\n",
              "        text-align: right;\n",
              "    }\n",
              "</style>\n",
              "<table border=\"1\" class=\"dataframe\">\n",
              "  <thead>\n",
              "    <tr style=\"text-align: right;\">\n",
              "      <th></th>\n",
              "      <th>Images</th>\n",
              "      <th>Labels</th>\n",
              "      <th>Encoded Labels</th>\n",
              "    </tr>\n",
              "  </thead>\n",
              "  <tbody>\n",
              "    <tr>\n",
              "      <th>0</th>\n",
              "      <td>/content/drive/MyDrive/MIDAS/TASK 1/train/Samp...</td>\n",
              "      <td>Sample006</td>\n",
              "      <td>5</td>\n",
              "    </tr>\n",
              "    <tr>\n",
              "      <th>1</th>\n",
              "      <td>/content/drive/MyDrive/MIDAS/TASK 1/train/Samp...</td>\n",
              "      <td>Sample006</td>\n",
              "      <td>5</td>\n",
              "    </tr>\n",
              "    <tr>\n",
              "      <th>2</th>\n",
              "      <td>/content/drive/MyDrive/MIDAS/TASK 1/train/Samp...</td>\n",
              "      <td>Sample006</td>\n",
              "      <td>5</td>\n",
              "    </tr>\n",
              "    <tr>\n",
              "      <th>3</th>\n",
              "      <td>/content/drive/MyDrive/MIDAS/TASK 1/train/Samp...</td>\n",
              "      <td>Sample006</td>\n",
              "      <td>5</td>\n",
              "    </tr>\n",
              "    <tr>\n",
              "      <th>4</th>\n",
              "      <td>/content/drive/MyDrive/MIDAS/TASK 1/train/Samp...</td>\n",
              "      <td>Sample006</td>\n",
              "      <td>5</td>\n",
              "    </tr>\n",
              "  </tbody>\n",
              "</table>\n",
              "</div>"
            ],
            "text/plain": [
              "                                              Images     Labels  Encoded Labels\n",
              "0  /content/drive/MyDrive/MIDAS/TASK 1/train/Samp...  Sample006               5\n",
              "1  /content/drive/MyDrive/MIDAS/TASK 1/train/Samp...  Sample006               5\n",
              "2  /content/drive/MyDrive/MIDAS/TASK 1/train/Samp...  Sample006               5\n",
              "3  /content/drive/MyDrive/MIDAS/TASK 1/train/Samp...  Sample006               5\n",
              "4  /content/drive/MyDrive/MIDAS/TASK 1/train/Samp...  Sample006               5"
            ]
          },
          "metadata": {
            "tags": []
          },
          "execution_count": 6
        }
      ]
    },
    {
      "cell_type": "code",
      "metadata": {
        "colab": {
          "base_uri": "https://localhost:8080/",
          "height": 195
        },
        "id": "v8NFXhv7gX53",
        "outputId": "c501e66a-fe13-4d4b-9708-02ca4393caef"
      },
      "source": [
        "data.tail()"
      ],
      "execution_count": 7,
      "outputs": [
        {
          "output_type": "execute_result",
          "data": {
            "text/html": [
              "<div>\n",
              "<style scoped>\n",
              "    .dataframe tbody tr th:only-of-type {\n",
              "        vertical-align: middle;\n",
              "    }\n",
              "\n",
              "    .dataframe tbody tr th {\n",
              "        vertical-align: top;\n",
              "    }\n",
              "\n",
              "    .dataframe thead th {\n",
              "        text-align: right;\n",
              "    }\n",
              "</style>\n",
              "<table border=\"1\" class=\"dataframe\">\n",
              "  <thead>\n",
              "    <tr style=\"text-align: right;\">\n",
              "      <th></th>\n",
              "      <th>Images</th>\n",
              "      <th>Labels</th>\n",
              "      <th>Encoded Labels</th>\n",
              "    </tr>\n",
              "  </thead>\n",
              "  <tbody>\n",
              "    <tr>\n",
              "      <th>2475</th>\n",
              "      <td>/content/drive/MyDrive/MIDAS/TASK 1/train/Samp...</td>\n",
              "      <td>Sample059</td>\n",
              "      <td>58</td>\n",
              "    </tr>\n",
              "    <tr>\n",
              "      <th>2476</th>\n",
              "      <td>/content/drive/MyDrive/MIDAS/TASK 1/train/Samp...</td>\n",
              "      <td>Sample059</td>\n",
              "      <td>58</td>\n",
              "    </tr>\n",
              "    <tr>\n",
              "      <th>2477</th>\n",
              "      <td>/content/drive/MyDrive/MIDAS/TASK 1/train/Samp...</td>\n",
              "      <td>Sample059</td>\n",
              "      <td>58</td>\n",
              "    </tr>\n",
              "    <tr>\n",
              "      <th>2478</th>\n",
              "      <td>/content/drive/MyDrive/MIDAS/TASK 1/train/Samp...</td>\n",
              "      <td>Sample059</td>\n",
              "      <td>58</td>\n",
              "    </tr>\n",
              "    <tr>\n",
              "      <th>2479</th>\n",
              "      <td>/content/drive/MyDrive/MIDAS/TASK 1/train/Samp...</td>\n",
              "      <td>Sample059</td>\n",
              "      <td>58</td>\n",
              "    </tr>\n",
              "  </tbody>\n",
              "</table>\n",
              "</div>"
            ],
            "text/plain": [
              "                                                 Images  ... Encoded Labels\n",
              "2475  /content/drive/MyDrive/MIDAS/TASK 1/train/Samp...  ...             58\n",
              "2476  /content/drive/MyDrive/MIDAS/TASK 1/train/Samp...  ...             58\n",
              "2477  /content/drive/MyDrive/MIDAS/TASK 1/train/Samp...  ...             58\n",
              "2478  /content/drive/MyDrive/MIDAS/TASK 1/train/Samp...  ...             58\n",
              "2479  /content/drive/MyDrive/MIDAS/TASK 1/train/Samp...  ...             58\n",
              "\n",
              "[5 rows x 3 columns]"
            ]
          },
          "metadata": {
            "tags": []
          },
          "execution_count": 7
        }
      ]
    },
    {
      "cell_type": "markdown",
      "metadata": {
        "id": "p2kEn3TlU-zO"
      },
      "source": [
        "We now create the training and validation splits of the images."
      ]
    },
    {
      "cell_type": "code",
      "metadata": {
        "id": "g1L4HeNkU-zP"
      },
      "source": [
        "batchSize = 64\n",
        "validationSplit = 0.15\n",
        "shuffleDataset = True\n",
        "randomSeed = 17"
      ],
      "execution_count": 8,
      "outputs": []
    },
    {
      "cell_type": "code",
      "metadata": {
        "id": "JHuKGx7PU-zP"
      },
      "source": [
        "datasetSize = len(data)\n",
        "indices = list(range(datasetSize))\n",
        "split = int(np.floor(validationSplit*datasetSize))\n",
        "if shuffleDataset:\n",
        "    np.random.seed(randomSeed)\n",
        "    np.random.shuffle(indices)\n",
        "trainIndices, validationIndices = indices[split:], indices[:split]"
      ],
      "execution_count": 9,
      "outputs": []
    },
    {
      "cell_type": "code",
      "metadata": {
        "id": "I2Ycd2b9U-zQ"
      },
      "source": [
        "trainSampler = SubsetRandomSampler(trainIndices)\n",
        "validationSampler = SubsetRandomSampler(validationIndices)"
      ],
      "execution_count": 10,
      "outputs": []
    },
    {
      "cell_type": "code",
      "metadata": {
        "id": "auPHJxZuU-zQ"
      },
      "source": [
        "class CustomDataset(Dataset):\n",
        "    def __init__(self, imageData, imagePath, transform=None):\n",
        "        self.imagePath = imagePath\n",
        "        self.imageData = imageData\n",
        "        self.transform = transform\n",
        "    def __len__(self):\n",
        "        return len(self.imageData)\n",
        "    def __getitem__(self, index):\n",
        "        imageName = os.path.join(self.imagePath, self.imageData.loc[index, 'Labels'],self.imageData.loc[index,'Images'])\n",
        "        image = Image.open(imageName).convert('L')\n",
        "        image = image.resize((32,32))\n",
        "        label = torch.tensor(self.imageData.loc[index, 'Encoded Labels'])\n",
        "        if self.transform is not None:\n",
        "            image = self.transform(image)\n",
        "        return image,label"
      ],
      "execution_count": 11,
      "outputs": []
    },
    {
      "cell_type": "markdown",
      "metadata": {
        "id": "W_o5jtpDU-zR"
      },
      "source": [
        "We now create  the custom dataset using all the images"
      ]
    },
    {
      "cell_type": "code",
      "metadata": {
        "id": "hYPLQmJaV4X5"
      },
      "source": [
        "transform = transforms.Compose(\n",
        "    [transforms.Resize(220),\n",
        "     transforms.ToTensor(),\n",
        "     transforms.Normalize(mean=[0.5], std=[0.5])])"
      ],
      "execution_count": 12,
      "outputs": []
    },
    {
      "cell_type": "code",
      "metadata": {
        "id": "OIRFfFf7U-zS"
      },
      "source": [
        "dataset = CustomDataset(data,pathToDataset,transform)"
      ],
      "execution_count": 13,
      "outputs": []
    },
    {
      "cell_type": "markdown",
      "metadata": {
        "id": "egCqfIg-U-zS"
      },
      "source": [
        "We create train and validation loaders that will load batches of images for training and validation using the indices we created above"
      ]
    },
    {
      "cell_type": "code",
      "metadata": {
        "id": "NHnx_LdsU-zT"
      },
      "source": [
        "trainLoader = torch.utils.data.DataLoader(dataset, batch_size = batchSize, sampler = trainSampler)\n",
        "validationLoader = torch.utils.data.DataLoader(dataset, batch_size = batchSize, sampler = validationSampler)"
      ],
      "execution_count": 14,
      "outputs": []
    },
    {
      "cell_type": "markdown",
      "metadata": {
        "id": "gKgPMN2bU-zT"
      },
      "source": [
        "To visualize the images, we  first need to unormalize  them, this is performed in the function below"
      ]
    },
    {
      "cell_type": "code",
      "metadata": {
        "id": "JJd1DOKtU-zU"
      },
      "source": [
        "def  displayImage(image):\n",
        "    image = image/2 + 0.5\n",
        "    image = image.numpy()\n",
        "    image = image.reshape(220,220)\n",
        "    return image"
      ],
      "execution_count": 15,
      "outputs": []
    },
    {
      "cell_type": "markdown",
      "metadata": {
        "id": "7WRgUXUaU-zU"
      },
      "source": [
        "We now visualize some of our training images"
      ]
    },
    {
      "cell_type": "code",
      "metadata": {
        "colab": {
          "base_uri": "https://localhost:8080/",
          "height": 832
        },
        "id": "jW2LH3TAU-zV",
        "outputId": "69c165f2-014c-4a93-8061-e2bfecfa87dc"
      },
      "source": [
        "dataIterator = iter(trainLoader)\n",
        "images, labels = dataIterator.next()\n",
        "figure, axis = plt.subplots(3,5, figsize=(16,16))\n",
        "for i, ax in enumerate(axis.flat):\n",
        "    with torch.no_grad():\n",
        "        image, label = images[i], labels[i]\n",
        "        ax.imshow(displayImage(image))\n",
        "        ax.set(title=f\"{label.item()}\")"
      ],
      "execution_count": 16,
      "outputs": [
        {
          "output_type": "display_data",
          "data": {
            "image/png": "[encoded data removed]",
            "text/plain": [
              "<Figure size 1152x1152 with 15 Axes>"
            ]
          },
          "metadata": {
            "tags": [],
            "needs_background": "light"
          }
        }
      ]
    },
    {
      "cell_type": "markdown",
      "metadata": {
        "id": "GLGopImoU-zW"
      },
      "source": [
        "## Part 2: Embedding Network and its training"
      ]
    },
    {
      "cell_type": "markdown",
      "metadata": {
        "id": "7gvwPAm7U-zW"
      },
      "source": [
        "Importing important libraries for the section"
      ]
    },
    {
      "cell_type": "code",
      "metadata": {
        "id": "7hhs5SxCU-zW"
      },
      "source": [
        "#the pytorch metric learning library comes with inbuilt methods for triplet mining and computing triplet losses between anchor, positive class and negative class\n",
        "from pytorch_metric_learning import losses, miners\n",
        "from pytorch_metric_learning.distances import CosineSimilarity\n",
        "from pytorch_metric_learning.reducers import ThresholdReducer\n",
        "from pytorch_metric_learning.regularizers import LpRegularizer\n",
        "\n",
        "from sklearn.neighbors import KNeighborsClassifier\n",
        "from sklearn.metrics import accuracy_score\n",
        "\n",
        "import torch\n",
        "import torch.nn as nn\n",
        "import torch.nn.functional as F\n",
        "import torchvision.models as models"
      ],
      "execution_count": 17,
      "outputs": []
    },
    {
      "cell_type": "code",
      "metadata": {
        "colab": {
          "base_uri": "https://localhost:8080/"
        },
        "id": "v5rfF-tcGz_W",
        "outputId": "238c9512-6fa2-4f89-aa6d-397e1504c8dd"
      },
      "source": [
        "device = torch.device(\"cuda:0\" if torch.cuda.is_available() else \"cpu\")\n",
        "print(\"Training the model on: \",device)"
      ],
      "execution_count": 18,
      "outputs": [
        {
          "output_type": "stream",
          "text": [
            "Training the model on:  cuda:0\n"
          ],
          "name": "stdout"
        }
      ]
    },
    {
      "cell_type": "markdown",
      "metadata": {
        "id": "Oec-CPPwU-zX"
      },
      "source": [
        "We now define our embedding network, the network is based on ZFNet the Zeilur and Fergus Neural Network with a few modifications."
      ]
    },
    {
      "cell_type": "code",
      "metadata": {
        "id": "cLMMediuo1jr"
      },
      "source": [
        "class EmbeddingNetwork(nn.Module):\n",
        "    def __init__(self):\n",
        "        super(EmbeddingNetwork, self).__init__()\n",
        "        self.conv1 = nn.Sequential(\n",
        "            nn.Conv2d(1, 64, (7,7), stride=(2,2), padding=(3,3)),\n",
        "            nn.BatchNorm2d(64),\n",
        "            nn.LeakyReLU(0.001),\n",
        "            nn.MaxPool2d((3, 3), 2, padding=(1,1))\n",
        "        )\n",
        "        self.conv2 = nn.Sequential(\n",
        "            nn.Conv2d(64,64,(1,1), stride=(1,1)),\n",
        "            nn.BatchNorm2d(64),\n",
        "            nn.LeakyReLU(0.001),\n",
        "            nn.Conv2d(64,192, (3,3), stride=(1,1), padding=(1,1)),\n",
        "            nn.BatchNorm2d(192),\n",
        "            nn.LeakyReLU(0.001),\n",
        "            nn.MaxPool2d((3,3),2, padding=(1,1))\n",
        "        )\n",
        "        self.conv3 = nn.Sequential(\n",
        "            nn.Conv2d(192,192,(1,1), stride=(1,1)),\n",
        "            nn.BatchNorm2d(192),\n",
        "            nn.LeakyReLU(0.001),\n",
        "            nn.Conv2d(192,384,(3,3), stride=(1,1), padding=(1,1)),\n",
        "            nn.BatchNorm2d(384),\n",
        "            nn.LeakyReLU(0.001),\n",
        "            nn.MaxPool2d((3,3), 2, padding=(1,1))\n",
        "            )\n",
        "        self.conv4 = nn.Sequential(\n",
        "            nn.Conv2d(384,384,(1,1), stride=(1,1)),\n",
        "            nn.BatchNorm2d(384),\n",
        "            nn.LeakyReLU(0.001),\n",
        "            nn.Conv2d(384,256,(3,3), stride=(1,1), padding=(1,1)),\n",
        "            nn.BatchNorm2d(256),\n",
        "            nn.LeakyReLU(0.001)\n",
        "        )\n",
        "        self.conv5 = nn.Sequential(\n",
        "            nn.Conv2d(256,256,(1,1), stride=(1,1)),\n",
        "            nn.BatchNorm2d(256),\n",
        "            nn.LeakyReLU(0.001),\n",
        "            nn.Conv2d(256,256,(3,3), stride=(1,1), padding=(1,1)),\n",
        "            nn.BatchNorm2d(256),\n",
        "            nn.LeakyReLU(0.001)\n",
        "        )\n",
        "        self.conv6 = nn.Sequential(\n",
        "            nn.Conv2d(256,256,(1,1), stride=(1,1)),\n",
        "            nn.BatchNorm2d(256),\n",
        "            nn.LeakyReLU(0.001),\n",
        "            nn.Conv2d(256,256,(3,3), stride=(1,1), padding=(1,1)),\n",
        "            nn.BatchNorm2d(256),\n",
        "            nn.LeakyReLU(0.001),\n",
        "            nn.MaxPool2d((3,3),2, padding=(1,1)),\n",
        "            nn.Flatten()\n",
        "        )\n",
        "        self.fullyConnected = nn.Sequential(\n",
        "            nn.Linear(7*7*256,32*128),\n",
        "            nn.BatchNorm1d(32*128),\n",
        "            nn.LeakyReLU(0.001),\n",
        "            nn.Linear(32*128,128)\n",
        "        )\n",
        "    def forward(self,x):\n",
        "      x = self.conv1(x)\n",
        "      x = self.conv2(x)\n",
        "      x = self.conv3(x)\n",
        "      x = self.conv4(x)\n",
        "      x = self.conv5(x)\n",
        "      x = self.conv6(x)\n",
        "      x = self.fullyConnected(x)\n",
        "      return torch.nn.functional.normalize(x, p=2, dim=-1)"
      ],
      "execution_count": 19,
      "outputs": []
    },
    {
      "cell_type": "markdown",
      "metadata": {
        "id": "wzKy2UmkU-zZ"
      },
      "source": [
        "We shall now create the embedding model and print its layers"
      ]
    },
    {
      "cell_type": "code",
      "metadata": {
        "colab": {
          "base_uri": "https://localhost:8080/"
        },
        "id": "7-ipwFJqU-za",
        "outputId": "03a36132-ce93-4488-fd54-a04a058b79e5"
      },
      "source": [
        "embeddingNetwork = EmbeddingNetwork().to(device)\n",
        "print(embeddingNetwork)"
      ],
      "execution_count": 26,
      "outputs": [
        {
          "output_type": "stream",
          "text": [
            "EmbeddingNetwork(\n",
            "  (conv1): Sequential(\n",
            "    (0): Conv2d(1, 64, kernel_size=(7, 7), stride=(2, 2), padding=(3, 3))\n",
            "    (1): BatchNorm2d(64, eps=1e-05, momentum=0.1, affine=True, track_running_stats=True)\n",
            "    (2): LeakyReLU(negative_slope=0.001)\n",
            "    (3): MaxPool2d(kernel_size=(3, 3), stride=2, padding=(1, 1), dilation=1, ceil_mode=False)\n",
            "  )\n",
            "  (conv2): Sequential(\n",
            "    (0): Conv2d(64, 64, kernel_size=(1, 1), stride=(1, 1))\n",
            "    (1): BatchNorm2d(64, eps=1e-05, momentum=0.1, affine=True, track_running_stats=True)\n",
            "    (2): LeakyReLU(negative_slope=0.001)\n",
            "    (3): Conv2d(64, 192, kernel_size=(3, 3), stride=(1, 1), padding=(1, 1))\n",
            "    (4): BatchNorm2d(192, eps=1e-05, momentum=0.1, affine=True, track_running_stats=True)\n",
            "    (5): LeakyReLU(negative_slope=0.001)\n",
            "    (6): MaxPool2d(kernel_size=(3, 3), stride=2, padding=(1, 1), dilation=1, ceil_mode=False)\n",
            "  )\n",
            "  (conv3): Sequential(\n",
            "    (0): Conv2d(192, 192, kernel_size=(1, 1), stride=(1, 1))\n",
            "    (1): BatchNorm2d(192, eps=1e-05, momentum=0.1, affine=True, track_running_stats=True)\n",
            "    (2): LeakyReLU(negative_slope=0.001)\n",
            "    (3): Conv2d(192, 384, kernel_size=(3, 3), stride=(1, 1), padding=(1, 1))\n",
            "    (4): BatchNorm2d(384, eps=1e-05, momentum=0.1, affine=True, track_running_stats=True)\n",
            "    (5): LeakyReLU(negative_slope=0.001)\n",
            "    (6): MaxPool2d(kernel_size=(3, 3), stride=2, padding=(1, 1), dilation=1, ceil_mode=False)\n",
            "  )\n",
            "  (conv4): Sequential(\n",
            "    (0): Conv2d(384, 384, kernel_size=(1, 1), stride=(1, 1))\n",
            "    (1): BatchNorm2d(384, eps=1e-05, momentum=0.1, affine=True, track_running_stats=True)\n",
            "    (2): LeakyReLU(negative_slope=0.001)\n",
            "    (3): Conv2d(384, 256, kernel_size=(3, 3), stride=(1, 1), padding=(1, 1))\n",
            "    (4): BatchNorm2d(256, eps=1e-05, momentum=0.1, affine=True, track_running_stats=True)\n",
            "    (5): LeakyReLU(negative_slope=0.001)\n",
            "  )\n",
            "  (conv5): Sequential(\n",
            "    (0): Conv2d(256, 256, kernel_size=(1, 1), stride=(1, 1))\n",
            "    (1): BatchNorm2d(256, eps=1e-05, momentum=0.1, affine=True, track_running_stats=True)\n",
            "    (2): LeakyReLU(negative_slope=0.001)\n",
            "    (3): Conv2d(256, 256, kernel_size=(3, 3), stride=(1, 1), padding=(1, 1))\n",
            "    (4): BatchNorm2d(256, eps=1e-05, momentum=0.1, affine=True, track_running_stats=True)\n",
            "    (5): LeakyReLU(negative_slope=0.001)\n",
            "  )\n",
            "  (conv6): Sequential(\n",
            "    (0): Conv2d(256, 256, kernel_size=(1, 1), stride=(1, 1))\n",
            "    (1): BatchNorm2d(256, eps=1e-05, momentum=0.1, affine=True, track_running_stats=True)\n",
            "    (2): LeakyReLU(negative_slope=0.001)\n",
            "    (3): Conv2d(256, 256, kernel_size=(3, 3), stride=(1, 1), padding=(1, 1))\n",
            "    (4): BatchNorm2d(256, eps=1e-05, momentum=0.1, affine=True, track_running_stats=True)\n",
            "    (5): LeakyReLU(negative_slope=0.001)\n",
            "    (6): MaxPool2d(kernel_size=(3, 3), stride=2, padding=(1, 1), dilation=1, ceil_mode=False)\n",
            "    (7): Flatten(start_dim=1, end_dim=-1)\n",
            "  )\n",
            "  (fullyConnected): Sequential(\n",
            "    (0): Linear(in_features=12544, out_features=4096, bias=True)\n",
            "    (1): BatchNorm1d(4096, eps=1e-05, momentum=0.1, affine=True, track_running_stats=True)\n",
            "    (2): LeakyReLU(negative_slope=0.001)\n",
            "    (3): Linear(in_features=4096, out_features=128, bias=True)\n",
            "  )\n",
            ")\n"
          ],
          "name": "stdout"
        }
      ]
    },
    {
      "cell_type": "markdown",
      "metadata": {
        "id": "iUvteZ4SU-za"
      },
      "source": [
        "The train function below  takes this Embedding model along with the training loaded, the triplet miner and the triplet loss function to train the embedding network for a single epoch"
      ]
    },
    {
      "cell_type": "code",
      "metadata": {
        "id": "DkF49Y6tU-zb"
      },
      "source": [
        "def train(model, lossFunction, miningFunction, device, trainLoader, optimizer, epoch):\n",
        "    print(\"Training started for Epoch: \",epoch)\n",
        "    model.train()\n",
        "    for batchIndex, (data, labels) in enumerate(trainLoader):\n",
        "        data, labels = data.to(device), labels.to(device)\n",
        "        optimizer.zero_grad()\n",
        "        embeddings = model(data)\n",
        "        hardPairs = miningFunction(embeddings, labels)\n",
        "        loss = lossFunction(embeddings, labels, hardPairs)\n",
        "        loss.backward()\n",
        "        optimizer.step()\n",
        "        if batchIndex%20==0:\n",
        "            print(\"Training stats for Epoch {} Iteration {}: Loss= {}, Number of mined triplets {}\".format(epoch, batchIndex, loss, miningFunction.num_triplets))"
      ],
      "execution_count": 27,
      "outputs": []
    },
    {
      "cell_type": "markdown",
      "metadata": {
        "id": "hr-885tQU-zb"
      },
      "source": [
        "We now define the loss function, triplet miner, optimizer, and other important hyperparamters we will be using to trai the model"
      ]
    },
    {
      "cell_type": "code",
      "metadata": {
        "id": "qidHvrCGU-zc"
      },
      "source": [
        "#distance this tells the model how to calculate the distance between the  generated embeddings\n",
        "distance = CosineSimilarity()\n",
        "reducer = ThresholdReducer(low=0.0)\n",
        "lossFunction = losses.TripletMarginLoss(margin = 0.2, distance = distance, reducer = reducer)\n",
        "miningFunction = miners.TripletMarginMiner(margin = 0.2, distance = distance, type_of_triplets = \"semi-hard\")\n",
        "optimizer = torch.optim.Adam(embeddingNetwork.parameters(), lr=0.05)"
      ],
      "execution_count": 28,
      "outputs": []
    },
    {
      "cell_type": "markdown",
      "metadata": {
        "id": "GpQAbnQc00tg"
      },
      "source": [
        "The function below tests the embedding model using a simple KNN classifier and saves the weights for the best embedding model depending on the validation accuracy of the classifier. These embedding weights will be used later to create our classifier."
      ]
    },
    {
      "cell_type": "code",
      "metadata": {
        "id": "GqYOK4MURxft"
      },
      "source": [
        "def tester(maxValidationAccuracy):\n",
        "  trainEmbeddings = []\n",
        "  trainLabels = []\n",
        "  validationEmbeddings = []\n",
        "  validationLabels = []\n",
        "  with torch.no_grad():\n",
        "    embeddingNetwork.eval()\n",
        "    for (dataTr, labelTr) in (trainLoader):\n",
        "      dataTr, labelTr = dataTr.to(device), labelTr.to(device)\n",
        "      embeddingTr = embeddingNetwork(dataTr)\n",
        "      trainEmbeddings.append(embeddingTr.cpu().detach().numpy())\n",
        "      trainLabels.append(labelTr.cpu().detach().numpy())\n",
        "    for (dataTe, labelTe) in (validationLoader):\n",
        "      dataTe, labelTe = dataTe.to(device), labelTe.to(device)\n",
        "      embeddingsTe = embeddingNetwork(dataTe)\n",
        "      validationEmbeddings.append(embeddingsTe.cpu().detach().numpy())\n",
        "      validationLabels.append(labelTe.cpu().detach().numpy())\n",
        "  trainEmbeddings1 = []\n",
        "  trainLabels1 = []\n",
        "  validationEmbeddings1 = []\n",
        "  validationLabels1 = []\n",
        "  for bat in trainEmbeddings:\n",
        "    for exm in bat:\n",
        "      trainEmbeddings1.append(exm)\n",
        "  for bat in trainLabels:\n",
        "    for exm in bat:\n",
        "      trainLabels1.append(exm)\n",
        "  for bat in validationEmbeddings:\n",
        "    for exm in bat:\n",
        "      validationEmbeddings1.append(exm)\n",
        "  for bat in validationLabels:\n",
        "    for exm in bat:\n",
        "      validationLabels1.append(exm)\n",
        "  neigh = KNeighborsClassifier(n_neighbors=13)\n",
        "  neigh.fit(trainEmbeddings1, trainLabels1)\n",
        "  prediction = neigh.predict(validationEmbeddings1)\n",
        "  currentAccuracy = accuracy_score(validationLabels1,prediction)\n",
        "  print(\"Accuracy: \",currentAccuracy)\n",
        "  if currentAccuracy > maxValidationAccuracy:\n",
        "    maxValidationAccuracy = currentAccuracy\n",
        "    print(\"New highest validation accuracy, saving the embedding model\")\n",
        "    torch.save(embeddingNetwork.state_dict(), \"embeddingNetworkTask1.pt\")\n",
        "  return maxValidationAccuracy\n",
        "    "
      ],
      "execution_count": 29,
      "outputs": []
    },
    {
      "cell_type": "markdown",
      "metadata": {
        "id": "5IYwGHQhU-zc"
      },
      "source": [
        "The snippet below uses the above function to train the embedding model for 80 epochs or around 2000 iterations, while this is only about 2/5th of the total interations used in FaceNet, I had to cut the training short due to time shortage."
      ]
    },
    {
      "cell_type": "code",
      "metadata": {
        "colab": {
          "base_uri": "https://localhost:8080/"
        },
        "id": "z3m0DeBGU-zd",
        "outputId": "795f8a56-01d4-4a15-c10d-4ecfd462bbf2"
      },
      "source": [
        "maxValidationAccuracy = 0\n",
        "for epoch in range(1, 81):\n",
        "    train(embeddingNetwork, lossFunction, miningFunction, device, trainLoader, optimizer, epoch)\n",
        "    print(\"Training completed for the Epoch:\", epoch)\n",
        "    maxValidationAccuracy = tester(maxValidationAccuracy)"
      ],
      "execution_count": 30,
      "outputs": [
        {
          "output_type": "stream",
          "text": [
            "Training started for Epoch:  1\n",
            "Training stats for Epoch 1 Iteration 0: Loss= 0.18991973996162415, Number of mined triplets 2435\n",
            "Training stats for Epoch 1 Iteration 20: Loss= 0.20091450214385986, Number of mined triplets 2745\n",
            "Training completed for the Epoch: 1\n",
            "Accuracy:  0.13709677419354838\n",
            "New highest validation accuracy, saving the embedding model\n",
            "Training started for Epoch:  2\n",
            "Training stats for Epoch 2 Iteration 0: Loss= 0.19799074530601501, Number of mined triplets 2268\n",
            "Training stats for Epoch 2 Iteration 20: Loss= 0.23258289694786072, Number of mined triplets 1959\n",
            "Training completed for the Epoch: 2\n",
            "Accuracy:  0.20698924731182797\n",
            "New highest validation accuracy, saving the embedding model\n",
            "Training started for Epoch:  3\n",
            "Training stats for Epoch 3 Iteration 0: Loss= 0.21059928834438324, Number of mined triplets 1052\n",
            "Training stats for Epoch 3 Iteration 20: Loss= 0.22279299795627594, Number of mined triplets 1634\n",
            "Training completed for the Epoch: 3\n",
            "Accuracy:  0.2849462365591398\n",
            "New highest validation accuracy, saving the embedding model\n",
            "Training started for Epoch:  4\n",
            "Training stats for Epoch 4 Iteration 0: Loss= 0.20779834687709808, Number of mined triplets 1570\n",
            "Training stats for Epoch 4 Iteration 20: Loss= 0.20847323536872864, Number of mined triplets 1343\n",
            "Training completed for the Epoch: 4\n",
            "Accuracy:  0.3763440860215054\n",
            "New highest validation accuracy, saving the embedding model\n",
            "Training started for Epoch:  5\n",
            "Training stats for Epoch 5 Iteration 0: Loss= 0.17940284311771393, Number of mined triplets 1463\n",
            "Training stats for Epoch 5 Iteration 20: Loss= 0.23376944661140442, Number of mined triplets 1025\n",
            "Training completed for the Epoch: 5\n",
            "Accuracy:  0.40591397849462363\n",
            "New highest validation accuracy, saving the embedding model\n",
            "Training started for Epoch:  6\n",
            "Training stats for Epoch 6 Iteration 0: Loss= 0.19168753921985626, Number of mined triplets 1045\n",
            "Training stats for Epoch 6 Iteration 20: Loss= 0.2261248379945755, Number of mined triplets 799\n",
            "Training completed for the Epoch: 6\n",
            "Accuracy:  0.4650537634408602\n",
            "New highest validation accuracy, saving the embedding model\n",
            "Training started for Epoch:  7\n",
            "Training stats for Epoch 7 Iteration 0: Loss= 0.14699913561344147, Number of mined triplets 893\n",
            "Training stats for Epoch 7 Iteration 20: Loss= 0.23212331533432007, Number of mined triplets 694\n",
            "Training completed for the Epoch: 7\n",
            "Accuracy:  0.4327956989247312\n",
            "Training started for Epoch:  8\n",
            "Training stats for Epoch 8 Iteration 0: Loss= 0.18951894342899323, Number of mined triplets 967\n",
            "Training stats for Epoch 8 Iteration 20: Loss= 0.1884072721004486, Number of mined triplets 736\n",
            "Training completed for the Epoch: 8\n",
            "Accuracy:  0.553763440860215\n",
            "New highest validation accuracy, saving the embedding model\n",
            "Training started for Epoch:  9\n",
            "Training stats for Epoch 9 Iteration 0: Loss= 0.1603199690580368, Number of mined triplets 508\n",
            "Training stats for Epoch 9 Iteration 20: Loss= 0.16358783841133118, Number of mined triplets 680\n",
            "Training completed for the Epoch: 9\n",
            "Accuracy:  0.5134408602150538\n",
            "Training started for Epoch:  10\n",
            "Training stats for Epoch 10 Iteration 0: Loss= 0.1709393560886383, Number of mined triplets 705\n",
            "Training stats for Epoch 10 Iteration 20: Loss= 0.15078894793987274, Number of mined triplets 601\n",
            "Training completed for the Epoch: 10\n",
            "Accuracy:  0.5483870967741935\n",
            "Training started for Epoch:  11\n",
            "Training stats for Epoch 11 Iteration 0: Loss= 0.1600438356399536, Number of mined triplets 425\n",
            "Training stats for Epoch 11 Iteration 20: Loss= 0.1690729856491089, Number of mined triplets 795\n",
            "Training completed for the Epoch: 11\n",
            "Accuracy:  0.5188172043010753\n",
            "Training started for Epoch:  12\n",
            "Training stats for Epoch 12 Iteration 0: Loss= 0.14886316657066345, Number of mined triplets 427\n",
            "Training stats for Epoch 12 Iteration 20: Loss= 0.1788109987974167, Number of mined triplets 491\n",
            "Training completed for the Epoch: 12\n",
            "Accuracy:  0.5403225806451613\n",
            "Training started for Epoch:  13\n",
            "Training stats for Epoch 13 Iteration 0: Loss= 0.1777603179216385, Number of mined triplets 570\n",
            "Training stats for Epoch 13 Iteration 20: Loss= 0.1634501963853836, Number of mined triplets 468\n",
            "Training completed for the Epoch: 13\n",
            "Accuracy:  0.5967741935483871\n",
            "New highest validation accuracy, saving the embedding model\n",
            "Training started for Epoch:  14\n",
            "Training stats for Epoch 14 Iteration 0: Loss= 0.14810918271541595, Number of mined triplets 360\n",
            "Training stats for Epoch 14 Iteration 20: Loss= 0.18690595030784607, Number of mined triplets 527\n",
            "Training completed for the Epoch: 14\n",
            "Accuracy:  0.6586021505376344\n",
            "New highest validation accuracy, saving the embedding model\n",
            "Training started for Epoch:  15\n",
            "Training stats for Epoch 15 Iteration 0: Loss= 0.13010740280151367, Number of mined triplets 278\n",
            "Training stats for Epoch 15 Iteration 20: Loss= 0.14381207525730133, Number of mined triplets 420\n",
            "Training completed for the Epoch: 15\n",
            "Accuracy:  0.6344086021505376\n",
            "Training started for Epoch:  16\n",
            "Training stats for Epoch 16 Iteration 0: Loss= 0.13418273627758026, Number of mined triplets 314\n",
            "Training stats for Epoch 16 Iteration 20: Loss= 0.1960594654083252, Number of mined triplets 352\n",
            "Training completed for the Epoch: 16\n",
            "Accuracy:  0.5860215053763441\n",
            "Training started for Epoch:  17\n",
            "Training stats for Epoch 17 Iteration 0: Loss= 0.18161848187446594, Number of mined triplets 302\n",
            "Training stats for Epoch 17 Iteration 20: Loss= 0.1254362016916275, Number of mined triplets 298\n",
            "Training completed for the Epoch: 17\n",
            "Accuracy:  0.5510752688172043\n",
            "Training started for Epoch:  18\n",
            "Training stats for Epoch 18 Iteration 0: Loss= 0.1256333291530609, Number of mined triplets 252\n",
            "Training stats for Epoch 18 Iteration 20: Loss= 0.3092237412929535, Number of mined triplets 564\n",
            "Training completed for the Epoch: 18\n",
            "Accuracy:  0.5913978494623656\n",
            "Training started for Epoch:  19\n",
            "Training stats for Epoch 19 Iteration 0: Loss= 0.14002855122089386, Number of mined triplets 507\n",
            "Training stats for Epoch 19 Iteration 20: Loss= 0.14912830293178558, Number of mined triplets 207\n",
            "Training completed for the Epoch: 19\n",
            "Accuracy:  0.6854838709677419\n",
            "New highest validation accuracy, saving the embedding model\n",
            "Training started for Epoch:  20\n",
            "Training stats for Epoch 20 Iteration 0: Loss= 0.1679752618074417, Number of mined triplets 443\n",
            "Training stats for Epoch 20 Iteration 20: Loss= 0.16898922622203827, Number of mined triplets 320\n",
            "Training completed for the Epoch: 20\n",
            "Accuracy:  0.6532258064516129\n",
            "Training started for Epoch:  21\n",
            "Training stats for Epoch 21 Iteration 0: Loss= 0.15636494755744934, Number of mined triplets 209\n",
            "Training stats for Epoch 21 Iteration 20: Loss= 0.19087478518486023, Number of mined triplets 348\n",
            "Training completed for the Epoch: 21\n",
            "Accuracy:  0.6424731182795699\n",
            "Training started for Epoch:  22\n",
            "Training stats for Epoch 22 Iteration 0: Loss= 0.14751741290092468, Number of mined triplets 208\n",
            "Training stats for Epoch 22 Iteration 20: Loss= 0.19297365844249725, Number of mined triplets 251\n",
            "Training completed for the Epoch: 22\n",
            "Accuracy:  0.7043010752688172\n",
            "New highest validation accuracy, saving the embedding model\n",
            "Training started for Epoch:  23\n",
            "Training stats for Epoch 23 Iteration 0: Loss= 0.14649055898189545, Number of mined triplets 201\n",
            "Training stats for Epoch 23 Iteration 20: Loss= 0.10339431464672089, Number of mined triplets 137\n",
            "Training completed for the Epoch: 23\n",
            "Accuracy:  0.7043010752688172\n",
            "Training started for Epoch:  24\n",
            "Training stats for Epoch 24 Iteration 0: Loss= 0.1459379345178604, Number of mined triplets 225\n",
            "Training stats for Epoch 24 Iteration 20: Loss= 0.14741653203964233, Number of mined triplets 122\n",
            "Training completed for the Epoch: 24\n",
            "Accuracy:  0.6989247311827957\n",
            "Training started for Epoch:  25\n",
            "Training stats for Epoch 25 Iteration 0: Loss= 0.20927457511425018, Number of mined triplets 387\n",
            "Training stats for Epoch 25 Iteration 20: Loss= 0.20401358604431152, Number of mined triplets 337\n",
            "Training completed for the Epoch: 25\n",
            "Accuracy:  0.6881720430107527\n",
            "Training started for Epoch:  26\n",
            "Training stats for Epoch 26 Iteration 0: Loss= 0.12788859009742737, Number of mined triplets 273\n",
            "Training stats for Epoch 26 Iteration 20: Loss= 0.12311220914125443, Number of mined triplets 157\n",
            "Training completed for the Epoch: 26\n",
            "Accuracy:  0.6639784946236559\n",
            "Training started for Epoch:  27\n",
            "Training stats for Epoch 27 Iteration 0: Loss= 0.13642443716526031, Number of mined triplets 169\n",
            "Training stats for Epoch 27 Iteration 20: Loss= 0.13354425132274628, Number of mined triplets 212\n",
            "Training completed for the Epoch: 27\n",
            "Accuracy:  0.760752688172043\n",
            "New highest validation accuracy, saving the embedding model\n",
            "Training started for Epoch:  28\n",
            "Training stats for Epoch 28 Iteration 0: Loss= 0.20173905789852142, Number of mined triplets 271\n",
            "Training stats for Epoch 28 Iteration 20: Loss= 0.1173146441578865, Number of mined triplets 170\n",
            "Training completed for the Epoch: 28\n",
            "Accuracy:  0.7204301075268817\n",
            "Training started for Epoch:  29\n",
            "Training stats for Epoch 29 Iteration 0: Loss= 0.1461232751607895, Number of mined triplets 243\n",
            "Training stats for Epoch 29 Iteration 20: Loss= 0.18776533007621765, Number of mined triplets 346\n",
            "Training completed for the Epoch: 29\n",
            "Accuracy:  0.6854838709677419\n",
            "Training started for Epoch:  30\n",
            "Training stats for Epoch 30 Iteration 0: Loss= 0.12343879789113998, Number of mined triplets 94\n",
            "Training stats for Epoch 30 Iteration 20: Loss= 0.1267322152853012, Number of mined triplets 94\n",
            "Training completed for the Epoch: 30\n",
            "Accuracy:  0.7338709677419355\n",
            "Training started for Epoch:  31\n",
            "Training stats for Epoch 31 Iteration 0: Loss= 0.13093744218349457, Number of mined triplets 199\n",
            "Training stats for Epoch 31 Iteration 20: Loss= 0.1852160394191742, Number of mined triplets 124\n",
            "Training completed for the Epoch: 31\n",
            "Accuracy:  0.7446236559139785\n",
            "Training started for Epoch:  32\n",
            "Training stats for Epoch 32 Iteration 0: Loss= 0.14631599187850952, Number of mined triplets 152\n",
            "Training stats for Epoch 32 Iteration 20: Loss= 0.17179955542087555, Number of mined triplets 185\n",
            "Training completed for the Epoch: 32\n",
            "Accuracy:  0.7741935483870968\n",
            "New highest validation accuracy, saving the embedding model\n",
            "Training started for Epoch:  33\n",
            "Training stats for Epoch 33 Iteration 0: Loss= 0.16733895242214203, Number of mined triplets 243\n",
            "Training stats for Epoch 33 Iteration 20: Loss= 0.1448083519935608, Number of mined triplets 180\n",
            "Training completed for the Epoch: 33\n",
            "Accuracy:  0.7446236559139785\n",
            "Training started for Epoch:  34\n",
            "Training stats for Epoch 34 Iteration 0: Loss= 0.15189698338508606, Number of mined triplets 143\n",
            "Training stats for Epoch 34 Iteration 20: Loss= 0.11928224563598633, Number of mined triplets 218\n",
            "Training completed for the Epoch: 34\n",
            "Accuracy:  0.7446236559139785\n",
            "Training started for Epoch:  35\n",
            "Training stats for Epoch 35 Iteration 0: Loss= 0.16664867103099823, Number of mined triplets 299\n",
            "Training stats for Epoch 35 Iteration 20: Loss= 0.11805744469165802, Number of mined triplets 150\n",
            "Training completed for the Epoch: 35\n",
            "Accuracy:  0.7553763440860215\n",
            "Training started for Epoch:  36\n",
            "Training stats for Epoch 36 Iteration 0: Loss= 0.1454082727432251, Number of mined triplets 277\n",
            "Training stats for Epoch 36 Iteration 20: Loss= 0.09055572003126144, Number of mined triplets 91\n",
            "Training completed for the Epoch: 36\n",
            "Accuracy:  0.7688172043010753\n",
            "Training started for Epoch:  37\n",
            "Training stats for Epoch 37 Iteration 0: Loss= 0.18525086343288422, Number of mined triplets 344\n",
            "Training stats for Epoch 37 Iteration 20: Loss= 0.11483600735664368, Number of mined triplets 93\n",
            "Training completed for the Epoch: 37\n",
            "Accuracy:  0.7688172043010753\n",
            "Training started for Epoch:  38\n",
            "Training stats for Epoch 38 Iteration 0: Loss= 0.1490415781736374, Number of mined triplets 157\n",
            "Training stats for Epoch 38 Iteration 20: Loss= 0.09992477297782898, Number of mined triplets 172\n",
            "Training completed for the Epoch: 38\n",
            "Accuracy:  0.7876344086021505\n",
            "New highest validation accuracy, saving the embedding model\n",
            "Training started for Epoch:  39\n",
            "Training stats for Epoch 39 Iteration 0: Loss= 0.15545393526554108, Number of mined triplets 222\n",
            "Training stats for Epoch 39 Iteration 20: Loss= 0.10568185150623322, Number of mined triplets 84\n",
            "Training completed for the Epoch: 39\n",
            "Accuracy:  0.7795698924731183\n",
            "Training started for Epoch:  40\n",
            "Training stats for Epoch 40 Iteration 0: Loss= 0.14446206390857697, Number of mined triplets 123\n",
            "Training stats for Epoch 40 Iteration 20: Loss= 0.15459497272968292, Number of mined triplets 152\n",
            "Training completed for the Epoch: 40\n",
            "Accuracy:  0.7661290322580645\n",
            "Training started for Epoch:  41\n",
            "Training stats for Epoch 41 Iteration 0: Loss= 0.08835678547620773, Number of mined triplets 41\n",
            "Training stats for Epoch 41 Iteration 20: Loss= 0.14973916113376617, Number of mined triplets 162\n",
            "Training completed for the Epoch: 41\n",
            "Accuracy:  0.760752688172043\n",
            "Training started for Epoch:  42\n",
            "Training stats for Epoch 42 Iteration 0: Loss= 0.11704357713460922, Number of mined triplets 98\n",
            "Training stats for Epoch 42 Iteration 20: Loss= 0.10266381502151489, Number of mined triplets 65\n",
            "Training completed for the Epoch: 42\n",
            "Accuracy:  0.7661290322580645\n",
            "Training started for Epoch:  43\n",
            "Training stats for Epoch 43 Iteration 0: Loss= 0.11214768141508102, Number of mined triplets 74\n",
            "Training stats for Epoch 43 Iteration 20: Loss= 0.10772495716810226, Number of mined triplets 66\n",
            "Training completed for the Epoch: 43\n",
            "Accuracy:  0.75\n",
            "Training started for Epoch:  44\n",
            "Training stats for Epoch 44 Iteration 0: Loss= 0.16456705331802368, Number of mined triplets 111\n",
            "Training stats for Epoch 44 Iteration 20: Loss= 0.1289002001285553, Number of mined triplets 158\n",
            "Training completed for the Epoch: 44\n",
            "Accuracy:  0.7311827956989247\n",
            "Training started for Epoch:  45\n",
            "Training stats for Epoch 45 Iteration 0: Loss= 0.19234347343444824, Number of mined triplets 104\n",
            "Training stats for Epoch 45 Iteration 20: Loss= 0.13173235952854156, Number of mined triplets 162\n",
            "Training completed for the Epoch: 45\n",
            "Accuracy:  0.739247311827957\n",
            "Training started for Epoch:  46\n",
            "Training stats for Epoch 46 Iteration 0: Loss= 0.13405169546604156, Number of mined triplets 101\n",
            "Training stats for Epoch 46 Iteration 20: Loss= 0.1472226232290268, Number of mined triplets 138\n",
            "Training completed for the Epoch: 46\n",
            "Accuracy:  0.7741935483870968\n",
            "Training started for Epoch:  47\n",
            "Training stats for Epoch 47 Iteration 0: Loss= 0.16044478118419647, Number of mined triplets 72\n",
            "Training stats for Epoch 47 Iteration 20: Loss= 0.1447477787733078, Number of mined triplets 123\n",
            "Training completed for the Epoch: 47\n",
            "Accuracy:  0.793010752688172\n",
            "New highest validation accuracy, saving the embedding model\n",
            "Training started for Epoch:  48\n",
            "Training stats for Epoch 48 Iteration 0: Loss= 0.09421303868293762, Number of mined triplets 27\n",
            "Training stats for Epoch 48 Iteration 20: Loss= 0.14860254526138306, Number of mined triplets 86\n",
            "Training completed for the Epoch: 48\n",
            "Accuracy:  0.7688172043010753\n",
            "Training started for Epoch:  49\n",
            "Training stats for Epoch 49 Iteration 0: Loss= 0.13227994740009308, Number of mined triplets 120\n",
            "Training stats for Epoch 49 Iteration 20: Loss= 0.12159212678670883, Number of mined triplets 73\n",
            "Training completed for the Epoch: 49\n",
            "Accuracy:  0.803763440860215\n",
            "New highest validation accuracy, saving the embedding model\n",
            "Training started for Epoch:  50\n",
            "Training stats for Epoch 50 Iteration 0: Loss= 0.1005580797791481, Number of mined triplets 84\n",
            "Training stats for Epoch 50 Iteration 20: Loss= 0.10670178383588791, Number of mined triplets 80\n",
            "Training completed for the Epoch: 50\n",
            "Accuracy:  0.7956989247311828\n",
            "Training started for Epoch:  51\n",
            "Training stats for Epoch 51 Iteration 0: Loss= 0.12327975779771805, Number of mined triplets 55\n",
            "Training stats for Epoch 51 Iteration 20: Loss= 0.058584995567798615, Number of mined triplets 53\n",
            "Training completed for the Epoch: 51\n",
            "Accuracy:  0.7956989247311828\n",
            "Training started for Epoch:  52\n",
            "Training stats for Epoch 52 Iteration 0: Loss= 0.10264244675636292, Number of mined triplets 90\n",
            "Training stats for Epoch 52 Iteration 20: Loss= 0.10270404815673828, Number of mined triplets 54\n",
            "Training completed for the Epoch: 52\n",
            "Accuracy:  0.7849462365591398\n",
            "Training started for Epoch:  53\n",
            "Training stats for Epoch 53 Iteration 0: Loss= 0.09122518450021744, Number of mined triplets 62\n",
            "Training stats for Epoch 53 Iteration 20: Loss= 0.15685327351093292, Number of mined triplets 85\n",
            "Training completed for the Epoch: 53\n",
            "Accuracy:  0.7876344086021505\n",
            "Training started for Epoch:  54\n",
            "Training stats for Epoch 54 Iteration 0: Loss= 0.1451205164194107, Number of mined triplets 47\n",
            "Training stats for Epoch 54 Iteration 20: Loss= 0.13161352276802063, Number of mined triplets 63\n",
            "Training completed for the Epoch: 54\n",
            "Accuracy:  0.793010752688172\n",
            "Training started for Epoch:  55\n",
            "Training stats for Epoch 55 Iteration 0: Loss= 0.06790647655725479, Number of mined triplets 36\n",
            "Training stats for Epoch 55 Iteration 20: Loss= 0.13783253729343414, Number of mined triplets 49\n",
            "Training completed for the Epoch: 55\n",
            "Accuracy:  0.7849462365591398\n",
            "Training started for Epoch:  56\n",
            "Training stats for Epoch 56 Iteration 0: Loss= 0.1581328809261322, Number of mined triplets 109\n",
            "Training stats for Epoch 56 Iteration 20: Loss= 0.14013375341892242, Number of mined triplets 117\n",
            "Training completed for the Epoch: 56\n",
            "Accuracy:  0.7661290322580645\n",
            "Training started for Epoch:  57\n",
            "Training stats for Epoch 57 Iteration 0: Loss= 0.10712365806102753, Number of mined triplets 42\n",
            "Training stats for Epoch 57 Iteration 20: Loss= 0.1641836166381836, Number of mined triplets 122\n",
            "Training completed for the Epoch: 57\n",
            "Accuracy:  0.7983870967741935\n",
            "Training started for Epoch:  58\n",
            "Training stats for Epoch 58 Iteration 0: Loss= 0.09532102942466736, Number of mined triplets 37\n",
            "Training stats for Epoch 58 Iteration 20: Loss= 0.11455931514501572, Number of mined triplets 93\n",
            "Training completed for the Epoch: 58\n",
            "Accuracy:  0.7741935483870968\n",
            "Training started for Epoch:  59\n",
            "Training stats for Epoch 59 Iteration 0: Loss= 0.12286676466464996, Number of mined triplets 18\n",
            "Training stats for Epoch 59 Iteration 20: Loss= 0.09032635390758514, Number of mined triplets 44\n",
            "Training completed for the Epoch: 59\n",
            "Accuracy:  0.7634408602150538\n",
            "Training started for Epoch:  60\n",
            "Training stats for Epoch 60 Iteration 0: Loss= 0.10005652904510498, Number of mined triplets 24\n",
            "Training stats for Epoch 60 Iteration 20: Loss= 0.10735969245433807, Number of mined triplets 67\n",
            "Training completed for the Epoch: 60\n",
            "Accuracy:  0.7580645161290323\n",
            "Training started for Epoch:  61\n",
            "Training stats for Epoch 61 Iteration 0: Loss= 0.1765209436416626, Number of mined triplets 52\n",
            "Training stats for Epoch 61 Iteration 20: Loss= 0.1245170533657074, Number of mined triplets 89\n",
            "Training completed for the Epoch: 61\n",
            "Accuracy:  0.8145161290322581\n",
            "New highest validation accuracy, saving the embedding model\n",
            "Training started for Epoch:  62\n",
            "Training stats for Epoch 62 Iteration 0: Loss= 0.1488548070192337, Number of mined triplets 54\n",
            "Training stats for Epoch 62 Iteration 20: Loss= 0.07193371653556824, Number of mined triplets 31\n",
            "Training completed for the Epoch: 62\n",
            "Accuracy:  0.7983870967741935\n",
            "Training started for Epoch:  63\n",
            "Training stats for Epoch 63 Iteration 0: Loss= 0.10951060056686401, Number of mined triplets 52\n",
            "Training stats for Epoch 63 Iteration 20: Loss= 0.1778329461812973, Number of mined triplets 78\n",
            "Training completed for the Epoch: 63\n",
            "Accuracy:  0.7553763440860215\n",
            "Training started for Epoch:  64\n",
            "Training stats for Epoch 64 Iteration 0: Loss= 0.09570588171482086, Number of mined triplets 83\n",
            "Training stats for Epoch 64 Iteration 20: Loss= 0.0848153680562973, Number of mined triplets 26\n",
            "Training completed for the Epoch: 64\n",
            "Accuracy:  0.7688172043010753\n",
            "Training started for Epoch:  65\n",
            "Training stats for Epoch 65 Iteration 0: Loss= 0.09128238260746002, Number of mined triplets 34\n",
            "Training stats for Epoch 65 Iteration 20: Loss= 0.052747465670108795, Number of mined triplets 27\n",
            "Training completed for the Epoch: 65\n",
            "Accuracy:  0.8198924731182796\n",
            "New highest validation accuracy, saving the embedding model\n",
            "Training started for Epoch:  66\n",
            "Training stats for Epoch 66 Iteration 0: Loss= 0.09663832187652588, Number of mined triplets 43\n",
            "Training stats for Epoch 66 Iteration 20: Loss= 0.12570969760417938, Number of mined triplets 108\n",
            "Training completed for the Epoch: 66\n",
            "Accuracy:  0.8145161290322581\n",
            "Training started for Epoch:  67\n",
            "Training stats for Epoch 67 Iteration 0: Loss= 0.14823225140571594, Number of mined triplets 56\n",
            "Training stats for Epoch 67 Iteration 20: Loss= 0.1185627281665802, Number of mined triplets 27\n",
            "Training completed for the Epoch: 67\n",
            "Accuracy:  0.8091397849462365\n",
            "Training started for Epoch:  68\n",
            "Training stats for Epoch 68 Iteration 0: Loss= 0.10836472362279892, Number of mined triplets 37\n",
            "Training stats for Epoch 68 Iteration 20: Loss= 0.10609693080186844, Number of mined triplets 35\n",
            "Training completed for the Epoch: 68\n",
            "Accuracy:  0.7956989247311828\n",
            "Training started for Epoch:  69\n",
            "Training stats for Epoch 69 Iteration 0: Loss= 0.1088721826672554, Number of mined triplets 55\n",
            "Training stats for Epoch 69 Iteration 20: Loss= 0.11038181930780411, Number of mined triplets 27\n",
            "Training completed for the Epoch: 69\n",
            "Accuracy:  0.8064516129032258\n",
            "Training started for Epoch:  70\n",
            "Training stats for Epoch 70 Iteration 0: Loss= 0.11271935701370239, Number of mined triplets 39\n",
            "Training stats for Epoch 70 Iteration 20: Loss= 0.14618030190467834, Number of mined triplets 80\n",
            "Training completed for the Epoch: 70\n",
            "Accuracy:  0.8440860215053764\n",
            "New highest validation accuracy, saving the embedding model\n",
            "Training started for Epoch:  71\n",
            "Training stats for Epoch 71 Iteration 0: Loss= 0.11971743404865265, Number of mined triplets 71\n",
            "Training stats for Epoch 71 Iteration 20: Loss= 0.15289975702762604, Number of mined triplets 75\n",
            "Training completed for the Epoch: 71\n",
            "Accuracy:  0.8252688172043011\n",
            "Training started for Epoch:  72\n",
            "Training stats for Epoch 72 Iteration 0: Loss= 0.049004655331373215, Number of mined triplets 10\n",
            "Training stats for Epoch 72 Iteration 20: Loss= 0.11673985421657562, Number of mined triplets 15\n",
            "Training completed for the Epoch: 72\n",
            "Accuracy:  0.8225806451612904\n",
            "Training started for Epoch:  73\n",
            "Training stats for Epoch 73 Iteration 0: Loss= 0.1508481502532959, Number of mined triplets 57\n",
            "Training stats for Epoch 73 Iteration 20: Loss= 0.08476840704679489, Number of mined triplets 50\n",
            "Training completed for the Epoch: 73\n",
            "Accuracy:  0.7876344086021505\n",
            "Training started for Epoch:  74\n",
            "Training stats for Epoch 74 Iteration 0: Loss= 0.031141536310315132, Number of mined triplets 7\n",
            "Training stats for Epoch 74 Iteration 20: Loss= 0.018227361142635345, Number of mined triplets 9\n",
            "Training completed for the Epoch: 74\n",
            "Accuracy:  0.803763440860215\n",
            "Training started for Epoch:  75\n",
            "Training stats for Epoch 75 Iteration 0: Loss= 0.032979290932416916, Number of mined triplets 9\n",
            "Training stats for Epoch 75 Iteration 20: Loss= 0.14484348893165588, Number of mined triplets 60\n",
            "Training completed for the Epoch: 75\n",
            "Accuracy:  0.7634408602150538\n",
            "Training started for Epoch:  76\n",
            "Training stats for Epoch 76 Iteration 0: Loss= 0.08479169756174088, Number of mined triplets 25\n",
            "Training stats for Epoch 76 Iteration 20: Loss= 0.12437428534030914, Number of mined triplets 46\n",
            "Training completed for the Epoch: 76\n",
            "Accuracy:  0.8198924731182796\n",
            "Training started for Epoch:  77\n",
            "Training stats for Epoch 77 Iteration 0: Loss= 0.07948001474142075, Number of mined triplets 26\n",
            "Training stats for Epoch 77 Iteration 20: Loss= 0.11080987751483917, Number of mined triplets 40\n",
            "Training completed for the Epoch: 77\n",
            "Accuracy:  0.782258064516129\n",
            "Training started for Epoch:  78\n",
            "Training stats for Epoch 78 Iteration 0: Loss= 0.14160560071468353, Number of mined triplets 56\n",
            "Training stats for Epoch 78 Iteration 20: Loss= 0.1489855945110321, Number of mined triplets 50\n",
            "Training completed for the Epoch: 78\n",
            "Accuracy:  0.7956989247311828\n",
            "Training started for Epoch:  79\n",
            "Training stats for Epoch 79 Iteration 0: Loss= 0.05370337516069412, Number of mined triplets 43\n",
            "Training stats for Epoch 79 Iteration 20: Loss= 0.06084612384438515, Number of mined triplets 21\n",
            "Training completed for the Epoch: 79\n",
            "Accuracy:  0.7956989247311828\n",
            "Training started for Epoch:  80\n",
            "Training stats for Epoch 80 Iteration 0: Loss= 0.09688373655080795, Number of mined triplets 18\n",
            "Training stats for Epoch 80 Iteration 20: Loss= 0.1102948859333992, Number of mined triplets 74\n",
            "Training completed for the Epoch: 80\n",
            "Accuracy:  0.803763440860215\n"
          ],
          "name": "stdout"
        }
      ]
    },
    {
      "cell_type": "markdown",
      "metadata": {
        "id": "LV4OxqEfU-zd"
      },
      "source": [
        "Now that our embedding model is trained, we will use it to create the classifier network"
      ]
    },
    {
      "cell_type": "code",
      "metadata": {
        "id": "B5b612hIU-ze"
      },
      "source": [
        "class classifierNet(nn.Module):\n",
        "    def __init__(self, EmbeddingNet):\n",
        "        super(classifierNet, self).__init__()\n",
        "        self.embeddingLayer = EmbeddingNet\n",
        "        self.linearLayer = nn.Linear(128,256)\n",
        "        self.classifierLayer = nn.Linear(256,62)\n",
        "        self.dropout = nn.Dropout(0.5)\n",
        "\n",
        "    def forward(self, x):\n",
        "        x = self.dropout(self.embeddingLayer(x))\n",
        "        x = self.dropout(self.linearLayer(x))\n",
        "        x = self.classifierLayer(x)\n",
        "        return F.log_softmax(x, dim=1)"
      ],
      "execution_count": 31,
      "outputs": []
    },
    {
      "cell_type": "markdown",
      "metadata": {
        "id": "tOdZuQCVU-ze"
      },
      "source": [
        "Now we will create our classifier model using the embedding network with best validation accuracy and print its layers"
      ]
    },
    {
      "cell_type": "code",
      "metadata": {
        "colab": {
          "base_uri": "https://localhost:8080/"
        },
        "id": "tmBVBqJZGQtR",
        "outputId": "a1c443cb-364f-4486-bc96-793b2645ec70"
      },
      "source": [
        "bestEmbeddingNetwork = EmbeddingNetwork().to(device)\n",
        "bestEmbeddingNetwork.load_state_dict(torch.load('embeddingNetworkTask1.pt'))"
      ],
      "execution_count": 32,
      "outputs": [
        {
          "output_type": "execute_result",
          "data": {
            "text/plain": [
              "<All keys matched successfully>"
            ]
          },
          "metadata": {
            "tags": []
          },
          "execution_count": 32
        }
      ]
    },
    {
      "cell_type": "code",
      "metadata": {
        "colab": {
          "base_uri": "https://localhost:8080/"
        },
        "id": "avZkG2gWU-zf",
        "outputId": "063d91ca-53a4-4158-bed4-cf8c3563904b"
      },
      "source": [
        "classifier = classifierNet(embeddingNetwork).to(device)\n",
        "print(classifier)"
      ],
      "execution_count": 33,
      "outputs": [
        {
          "output_type": "stream",
          "text": [
            "classifierNet(\n",
            "  (embeddingLayer): EmbeddingNetwork(\n",
            "    (conv1): Sequential(\n",
            "      (0): Conv2d(1, 64, kernel_size=(7, 7), stride=(2, 2), padding=(3, 3))\n",
            "      (1): BatchNorm2d(64, eps=1e-05, momentum=0.1, affine=True, track_running_stats=True)\n",
            "      (2): LeakyReLU(negative_slope=0.001)\n",
            "      (3): MaxPool2d(kernel_size=(3, 3), stride=2, padding=(1, 1), dilation=1, ceil_mode=False)\n",
            "    )\n",
            "    (conv2): Sequential(\n",
            "      (0): Conv2d(64, 64, kernel_size=(1, 1), stride=(1, 1))\n",
            "      (1): BatchNorm2d(64, eps=1e-05, momentum=0.1, affine=True, track_running_stats=True)\n",
            "      (2): LeakyReLU(negative_slope=0.001)\n",
            "      (3): Conv2d(64, 192, kernel_size=(3, 3), stride=(1, 1), padding=(1, 1))\n",
            "      (4): BatchNorm2d(192, eps=1e-05, momentum=0.1, affine=True, track_running_stats=True)\n",
            "      (5): LeakyReLU(negative_slope=0.001)\n",
            "      (6): MaxPool2d(kernel_size=(3, 3), stride=2, padding=(1, 1), dilation=1, ceil_mode=False)\n",
            "    )\n",
            "    (conv3): Sequential(\n",
            "      (0): Conv2d(192, 192, kernel_size=(1, 1), stride=(1, 1))\n",
            "      (1): BatchNorm2d(192, eps=1e-05, momentum=0.1, affine=True, track_running_stats=True)\n",
            "      (2): LeakyReLU(negative_slope=0.001)\n",
            "      (3): Conv2d(192, 384, kernel_size=(3, 3), stride=(1, 1), padding=(1, 1))\n",
            "      (4): BatchNorm2d(384, eps=1e-05, momentum=0.1, affine=True, track_running_stats=True)\n",
            "      (5): LeakyReLU(negative_slope=0.001)\n",
            "      (6): MaxPool2d(kernel_size=(3, 3), stride=2, padding=(1, 1), dilation=1, ceil_mode=False)\n",
            "    )\n",
            "    (conv4): Sequential(\n",
            "      (0): Conv2d(384, 384, kernel_size=(1, 1), stride=(1, 1))\n",
            "      (1): BatchNorm2d(384, eps=1e-05, momentum=0.1, affine=True, track_running_stats=True)\n",
            "      (2): LeakyReLU(negative_slope=0.001)\n",
            "      (3): Conv2d(384, 256, kernel_size=(3, 3), stride=(1, 1), padding=(1, 1))\n",
            "      (4): BatchNorm2d(256, eps=1e-05, momentum=0.1, affine=True, track_running_stats=True)\n",
            "      (5): LeakyReLU(negative_slope=0.001)\n",
            "    )\n",
            "    (conv5): Sequential(\n",
            "      (0): Conv2d(256, 256, kernel_size=(1, 1), stride=(1, 1))\n",
            "      (1): BatchNorm2d(256, eps=1e-05, momentum=0.1, affine=True, track_running_stats=True)\n",
            "      (2): LeakyReLU(negative_slope=0.001)\n",
            "      (3): Conv2d(256, 256, kernel_size=(3, 3), stride=(1, 1), padding=(1, 1))\n",
            "      (4): BatchNorm2d(256, eps=1e-05, momentum=0.1, affine=True, track_running_stats=True)\n",
            "      (5): LeakyReLU(negative_slope=0.001)\n",
            "    )\n",
            "    (conv6): Sequential(\n",
            "      (0): Conv2d(256, 256, kernel_size=(1, 1), stride=(1, 1))\n",
            "      (1): BatchNorm2d(256, eps=1e-05, momentum=0.1, affine=True, track_running_stats=True)\n",
            "      (2): LeakyReLU(negative_slope=0.001)\n",
            "      (3): Conv2d(256, 256, kernel_size=(3, 3), stride=(1, 1), padding=(1, 1))\n",
            "      (4): BatchNorm2d(256, eps=1e-05, momentum=0.1, affine=True, track_running_stats=True)\n",
            "      (5): LeakyReLU(negative_slope=0.001)\n",
            "      (6): MaxPool2d(kernel_size=(3, 3), stride=2, padding=(1, 1), dilation=1, ceil_mode=False)\n",
            "      (7): Flatten(start_dim=1, end_dim=-1)\n",
            "    )\n",
            "    (fullyConnected): Sequential(\n",
            "      (0): Linear(in_features=12544, out_features=4096, bias=True)\n",
            "      (1): BatchNorm1d(4096, eps=1e-05, momentum=0.1, affine=True, track_running_stats=True)\n",
            "      (2): LeakyReLU(negative_slope=0.001)\n",
            "      (3): Linear(in_features=4096, out_features=128, bias=True)\n",
            "    )\n",
            "  )\n",
            "  (linearLayer): Linear(in_features=128, out_features=256, bias=True)\n",
            "  (classifierLayer): Linear(in_features=256, out_features=62, bias=True)\n",
            "  (dropout): Dropout(p=0.5, inplace=False)\n",
            ")\n"
          ],
          "name": "stdout"
        }
      ]
    },
    {
      "cell_type": "markdown",
      "metadata": {
        "id": "9L8w0HUTU-zf"
      },
      "source": [
        "Before we begin the training of our classifier, we shall  freeze the weights of our embedding network as we don't want to train our embedding network, we shall only be training the linear layer(s)"
      ]
    },
    {
      "cell_type": "code",
      "metadata": {
        "id": "flDKZBMTU-zf"
      },
      "source": [
        "for param in classifier.embeddingLayer.parameters():\n",
        "    param.requires_grad = False"
      ],
      "execution_count": 34,
      "outputs": []
    },
    {
      "cell_type": "markdown",
      "metadata": {
        "id": "n3UQesdgU-zg"
      },
      "source": [
        "We now define our Cross Entropy Loss function to train the classifier, the new optimizer and an accuracy function to test our model. Since our outputs from the embedding network are L2 Normalized we can keep a high learning rate."
      ]
    },
    {
      "cell_type": "code",
      "metadata": {
        "id": "8PNM5gd2U-zg"
      },
      "source": [
        "criterion = nn.CrossEntropyLoss()\n",
        "optimizer = torch.optim.Adam(classifier.parameters(), lr=0.01)\n",
        "def accuracy(output, labels):\n",
        "    _, predictions = torch.max(output, dim=1)\n",
        "    return torch.sum(predictions==labels).item()"
      ],
      "execution_count": 35,
      "outputs": []
    },
    {
      "cell_type": "markdown",
      "metadata": {
        "id": "qx3nYhWSU-zh"
      },
      "source": [
        "Now that the prerequisites for our classifier are done, we can write the training and testing steps"
      ]
    },
    {
      "cell_type": "code",
      "metadata": {
        "colab": {
          "base_uri": "https://localhost:8080/"
        },
        "id": "gInMGCl2U-zh",
        "outputId": "85c8baf8-34c4-4e66-9442-af13c2edc95f"
      },
      "source": [
        "numberOfEpochs = 20\n",
        "validAccuracyMin = 0\n",
        "validationLoss = []\n",
        "validationAccuracy = []\n",
        "trainingLoss = []\n",
        "trainingAccuracy = []\n",
        "totalSteps = len(trainLoader)\n",
        "for epoch in range(1, numberOfEpochs):\n",
        "    classifier.train()\n",
        "    runningLoss = 0.0\n",
        "    correct = 0\n",
        "    total = 0\n",
        "    print(\"Training started for Epoch: \",epoch)\n",
        "    for batchIndex, (data, target) in enumerate(trainLoader):\n",
        "        data, target = data.to(device), target.to(device)\n",
        "        optimizer.zero_grad()\n",
        "        outputs = classifier(data)\n",
        "        loss = criterion(outputs,target)\n",
        "        loss.backward()\n",
        "        optimizer.step()\n",
        "        runningLoss += loss.item()\n",
        "        _, pred = torch.max(outputs, dim=1)\n",
        "        correct += torch.sum(pred==target).item()\n",
        "        total += target.size(0)\n",
        "        if (batchIndex)%10 ==0:\n",
        "            print(\"Epoch [{}/{}] Step [{}/{}] Loss: {:.4f}\".format(epoch,numberOfEpochs,batchIndex,totalSteps,loss.item()))\n",
        "    trainingAccuracy.append(100*correct/total)\n",
        "    trainingLoss.append(runningLoss/totalSteps)\n",
        "    print(\"Training Accuracy: \",(100*correct/total))\n",
        "    batchLoss = 0\n",
        "    totalV = 0\n",
        "    correctV = 0\n",
        "    with torch.no_grad():\n",
        "        classifier.eval()\n",
        "        for dataV, targetV in (validationLoader):\n",
        "            dataV, targetV = dataV.to(device), targetV.to(device)\n",
        "            outputV = classifier(dataV)\n",
        "            lossV = criterion(outputV,targetV)\n",
        "            batchLoss += lossV.item()\n",
        "            _, predV = torch.max(outputV, dim=1)\n",
        "            correctV += torch.sum(predV==targetV).item()\n",
        "            totalV += targetV.size(0)\n",
        "        validationAccuracy.append(100*correctV/totalV)\n",
        "        validationLoss.append(batchLoss/len(validationLoader))\n",
        "        print(\"Validation Accuracy: \",(100*correctV/totalV))\n",
        "        if (100*correctV/totalV)>validAccuracyMin:\n",
        "            validAccuracyMin = 100*correctV/totalV\n",
        "            print(\"Validation accuracy improved, network improvement detected, saving network\")\n",
        "            torch.save(classifier.state_dict(), \"classifierNetworkTask1.pt\")\n",
        "\n",
        "    classifier.train()\n",
        "                "
      ],
      "execution_count": 36,
      "outputs": [
        {
          "output_type": "stream",
          "text": [
            "Training started for Epoch:  1\n",
            "Epoch [1/20] Step [0/33] Loss: 4.1071\n",
            "Epoch [1/20] Step [10/33] Loss: 2.9069\n",
            "Epoch [1/20] Step [20/33] Loss: 0.9931\n",
            "Epoch [1/20] Step [30/33] Loss: 0.6292\n",
            "Training Accuracy:  63.56736242884251\n",
            "Validation Accuracy:  79.56989247311827\n",
            "Validation accuracy improved, network improvement detected, saving network\n",
            "Training started for Epoch:  2\n",
            "Epoch [2/20] Step [0/33] Loss: 0.2549\n",
            "Epoch [2/20] Step [10/33] Loss: 0.2007\n",
            "Epoch [2/20] Step [20/33] Loss: 0.2955\n",
            "Epoch [2/20] Step [30/33] Loss: 0.2846\n",
            "Training Accuracy:  90.84440227703985\n",
            "Validation Accuracy:  79.56989247311827\n",
            "Training started for Epoch:  3\n",
            "Epoch [3/20] Step [0/33] Loss: 0.2184\n",
            "Epoch [3/20] Step [10/33] Loss: 0.1534\n",
            "Epoch [3/20] Step [20/33] Loss: 0.2437\n",
            "Epoch [3/20] Step [30/33] Loss: 0.2471\n",
            "Training Accuracy:  91.46110056925997\n",
            "Validation Accuracy:  80.10752688172043\n",
            "Validation accuracy improved, network improvement detected, saving network\n",
            "Training started for Epoch:  4\n",
            "Epoch [4/20] Step [0/33] Loss: 0.3361\n",
            "Epoch [4/20] Step [10/33] Loss: 0.2040\n",
            "Epoch [4/20] Step [20/33] Loss: 0.4655\n",
            "Epoch [4/20] Step [30/33] Loss: 0.3597\n",
            "Training Accuracy:  89.89563567362428\n",
            "Validation Accuracy:  80.64516129032258\n",
            "Validation accuracy improved, network improvement detected, saving network\n",
            "Training started for Epoch:  5\n",
            "Epoch [5/20] Step [0/33] Loss: 0.2755\n",
            "Epoch [5/20] Step [10/33] Loss: 0.1201\n",
            "Epoch [5/20] Step [20/33] Loss: 0.3217\n",
            "Epoch [5/20] Step [30/33] Loss: 0.1903\n",
            "Training Accuracy:  90.98671726755218\n",
            "Validation Accuracy:  79.3010752688172\n",
            "Training started for Epoch:  6\n",
            "Epoch [6/20] Step [0/33] Loss: 0.2517\n",
            "Epoch [6/20] Step [10/33] Loss: 0.4461\n",
            "Epoch [6/20] Step [20/33] Loss: 0.2583\n",
            "Epoch [6/20] Step [30/33] Loss: 0.5005\n",
            "Training Accuracy:  90.27514231499052\n",
            "Validation Accuracy:  77.95698924731182\n",
            "Training started for Epoch:  7\n",
            "Epoch [7/20] Step [0/33] Loss: 0.1969\n",
            "Epoch [7/20] Step [10/33] Loss: 0.1883\n",
            "Epoch [7/20] Step [20/33] Loss: 0.4977\n",
            "Epoch [7/20] Step [30/33] Loss: 0.3621\n",
            "Training Accuracy:  90.84440227703985\n",
            "Validation Accuracy:  79.83870967741936\n",
            "Training started for Epoch:  8\n",
            "Epoch [8/20] Step [0/33] Loss: 0.3624\n",
            "Epoch [8/20] Step [10/33] Loss: 0.1769\n",
            "Epoch [8/20] Step [20/33] Loss: 0.2769\n",
            "Epoch [8/20] Step [30/33] Loss: 0.2679\n",
            "Training Accuracy:  91.03415559772296\n",
            "Validation Accuracy:  81.45161290322581\n",
            "Validation accuracy improved, network improvement detected, saving network\n",
            "Training started for Epoch:  9\n",
            "Epoch [9/20] Step [0/33] Loss: 0.2272\n",
            "Epoch [9/20] Step [10/33] Loss: 0.2333\n",
            "Epoch [9/20] Step [20/33] Loss: 0.3648\n",
            "Epoch [9/20] Step [30/33] Loss: 0.3122\n",
            "Training Accuracy:  91.41366223908918\n",
            "Validation Accuracy:  81.98924731182795\n",
            "Validation accuracy improved, network improvement detected, saving network\n",
            "Training started for Epoch:  10\n",
            "Epoch [10/20] Step [0/33] Loss: 0.1133\n",
            "Epoch [10/20] Step [10/33] Loss: 0.2620\n",
            "Epoch [10/20] Step [20/33] Loss: 0.2432\n",
            "Epoch [10/20] Step [30/33] Loss: 0.1768\n",
            "Training Accuracy:  91.17647058823529\n",
            "Validation Accuracy:  80.91397849462365\n",
            "Training started for Epoch:  11\n",
            "Epoch [11/20] Step [0/33] Loss: 0.1902\n",
            "Epoch [11/20] Step [10/33] Loss: 0.2208\n",
            "Epoch [11/20] Step [20/33] Loss: 0.3226\n",
            "Epoch [11/20] Step [30/33] Loss: 0.2443\n",
            "Training Accuracy:  91.65085388994308\n",
            "Validation Accuracy:  81.98924731182795\n",
            "Training started for Epoch:  12\n",
            "Epoch [12/20] Step [0/33] Loss: 0.2601\n",
            "Epoch [12/20] Step [10/33] Loss: 0.1721\n",
            "Epoch [12/20] Step [20/33] Loss: 0.8015\n",
            "Epoch [12/20] Step [30/33] Loss: 0.4730\n",
            "Training Accuracy:  90.18026565464896\n",
            "Validation Accuracy:  81.98924731182795\n",
            "Training started for Epoch:  13\n",
            "Epoch [13/20] Step [0/33] Loss: 0.2852\n",
            "Epoch [13/20] Step [10/33] Loss: 0.3975\n",
            "Epoch [13/20] Step [20/33] Loss: 0.8412\n",
            "Epoch [13/20] Step [30/33] Loss: 0.5275\n",
            "Training Accuracy:  90.74952561669829\n",
            "Validation Accuracy:  78.76344086021506\n",
            "Training started for Epoch:  14\n",
            "Epoch [14/20] Step [0/33] Loss: 0.4508\n",
            "Epoch [14/20] Step [10/33] Loss: 0.2403\n",
            "Epoch [14/20] Step [20/33] Loss: 0.1468\n",
            "Epoch [14/20] Step [30/33] Loss: 0.2277\n",
            "Training Accuracy:  90.74952561669829\n",
            "Validation Accuracy:  80.3763440860215\n",
            "Training started for Epoch:  15\n",
            "Epoch [15/20] Step [0/33] Loss: 0.3561\n",
            "Epoch [15/20] Step [10/33] Loss: 0.1648\n",
            "Epoch [15/20] Step [20/33] Loss: 0.1242\n",
            "Epoch [15/20] Step [30/33] Loss: 0.1935\n",
            "Training Accuracy:  90.37001897533207\n",
            "Validation Accuracy:  79.83870967741936\n",
            "Training started for Epoch:  16\n",
            "Epoch [16/20] Step [0/33] Loss: 0.3989\n",
            "Epoch [16/20] Step [10/33] Loss: 0.4487\n",
            "Epoch [16/20] Step [20/33] Loss: 0.2500\n",
            "Epoch [16/20] Step [30/33] Loss: 0.3210\n",
            "Training Accuracy:  90.9392789373814\n",
            "Validation Accuracy:  79.56989247311827\n",
            "Training started for Epoch:  17\n",
            "Epoch [17/20] Step [0/33] Loss: 0.2148\n",
            "Epoch [17/20] Step [10/33] Loss: 0.1064\n",
            "Epoch [17/20] Step [20/33] Loss: 0.6504\n",
            "Epoch [17/20] Step [30/33] Loss: 0.3504\n",
            "Training Accuracy:  90.98671726755218\n",
            "Validation Accuracy:  79.56989247311827\n",
            "Training started for Epoch:  18\n",
            "Epoch [18/20] Step [0/33] Loss: 0.2559\n",
            "Epoch [18/20] Step [10/33] Loss: 0.6663\n",
            "Epoch [18/20] Step [20/33] Loss: 0.5136\n",
            "Epoch [18/20] Step [30/33] Loss: 0.8535\n",
            "Training Accuracy:  89.61100569259962\n",
            "Validation Accuracy:  81.18279569892474\n",
            "Training started for Epoch:  19\n",
            "Epoch [19/20] Step [0/33] Loss: 0.2314\n",
            "Epoch [19/20] Step [10/33] Loss: 0.3515\n",
            "Epoch [19/20] Step [20/33] Loss: 0.2646\n",
            "Epoch [19/20] Step [30/33] Loss: 0.3577\n",
            "Training Accuracy:  91.08159392789373\n",
            "Validation Accuracy:  81.98924731182795\n"
          ],
          "name": "stdout"
        }
      ]
    },
    {
      "cell_type": "markdown",
      "metadata": {
        "id": "cIstoQPHU-zi"
      },
      "source": [
        "Now that the model is trained, we can see the training and validation plots"
      ]
    },
    {
      "cell_type": "code",
      "metadata": {
        "colab": {
          "base_uri": "https://localhost:8080/",
          "height": 607
        },
        "id": "_Lm8t-bhU-zj",
        "outputId": "a901148a-4cac-4ea9-c49d-a5b33474a80e"
      },
      "source": [
        "fig = plt.figure(figsize=(20,10))\n",
        "plt.title(\"Train-Validation Loss Plot\")\n",
        "plt.plot(trainingLoss, label='training loss')\n",
        "plt.plot(validationLoss, label='validation loss')\n",
        "plt.xlabel('Number of epochs')\n",
        "plt.ylabel('Loss')\n",
        "plt.legend(loc='best')"
      ],
      "execution_count": 37,
      "outputs": [
        {
          "output_type": "execute_result",
          "data": {
            "text/plain": [
              "<matplotlib.legend.Legend at 0x7f0e20432410>"
            ]
          },
          "metadata": {
            "tags": []
          },
          "execution_count": 37
        },
        {
          "output_type": "display_data",
          "data": {
            "image/png": "[encoded data removed]",
            "text/plain": [
              "<Figure size 1440x720 with 1 Axes>"
            ]
          },
          "metadata": {
            "tags": [],
            "needs_background": "light"
          }
        }
      ]
    },
    {
      "cell_type": "code",
      "metadata": {
        "colab": {
          "base_uri": "https://localhost:8080/",
          "height": 611
        },
        "id": "I-St94_XU-zk",
        "outputId": "9b446f96-eb04-477e-a1ed-ff011a028819"
      },
      "source": [
        "fig = plt.figure(figsize=(20,10))\n",
        "plt.title(\"Train-Validation Accuracy Plot\")\n",
        "plt.plot(trainingAccuracy, label='training accuracy')\n",
        "plt.plot(validationAccuracy, label='validation accuracy')\n",
        "plt.xlabel('Number of epochs')\n",
        "plt.ylabel('Accuracy')\n",
        "plt.legend(loc='best')"
      ],
      "execution_count": 38,
      "outputs": [
        {
          "output_type": "execute_result",
          "data": {
            "text/plain": [
              "<matplotlib.legend.Legend at 0x7f0e2037aed0>"
            ]
          },
          "metadata": {
            "tags": []
          },
          "execution_count": 38
        },
        {
          "output_type": "display_data",
          "data": {
            "image/png": "[encoded data removed]",
            "text/plain": [
              "<Figure size 1440x720 with 1 Axes>"
            ]
          },
          "metadata": {
            "tags": [],
            "needs_background": "light"
          }
        }
      ]
    }
  ]
}