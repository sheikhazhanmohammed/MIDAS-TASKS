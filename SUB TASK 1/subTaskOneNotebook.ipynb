{
  "nbformat": 4,
  "nbformat_minor": 0,
  "metadata": {
    "colab": {
      "name": "trainer.ipynb",
      "provenance": [],
      "collapsed_sections": [],
      "toc_visible": true
    },
    "kernelspec": {
      "display_name": "Python 3",
      "language": "python",
      "name": "python3"
    },
    "language_info": {
      "codemirror_mode": {
        "name": "ipython",
        "version": 3
      },
      "file_extension": ".py",
      "mimetype": "text/x-python",
      "name": "python",
      "nbconvert_exporter": "python",
      "pygments_lexer": "ipython3",
      "version": "3.8.5"
    },
    "accelerator": "GPU"
  },
  "cells": [
    {
      "cell_type": "markdown",
      "metadata": {
        "id": "j2fx-O9BjFGn"
      },
      "source": [
        "Installing pre-requisites"
      ]
    },
    {
      "cell_type": "code",
      "metadata": {
        "colab": {
          "base_uri": "https://localhost:8080/"
        },
        "id": "C8-vKx-hVAQm",
        "outputId": "9ae95597-0084-4792-9153-a6ab5e199c8c"
      },
      "source": [
        "!pip install pytorch-metric-learning\n",
        "!pip install faiss-gpu"
      ],
      "execution_count": 1,
      "outputs": [
        {
          "output_type": "stream",
          "text": [
            "Collecting pytorch-metric-learning\n",
            "\u001b[?25l  Downloading https://files.pythonhosted.org/packages/3e/ba/8e6c380f3b7b34e6dafe2392f5c79275f2245588a7dc0b690fc344491eed/pytorch_metric_learning-0.9.98-py3-none-any.whl (102kB)\n",
            "\r\u001b[K     |███▏                            | 10kB 21.8MB/s eta 0:00:01\r\u001b[K     |██████▍                         | 20kB 29.7MB/s eta 0:00:01\r\u001b[K     |█████████▋                      | 30kB 23.7MB/s eta 0:00:01\r\u001b[K     |████████████▉                   | 40kB 27.0MB/s eta 0:00:01\r\u001b[K     |████████████████                | 51kB 26.1MB/s eta 0:00:01\r\u001b[K     |███████████████████▏            | 61kB 28.7MB/s eta 0:00:01\r\u001b[K     |██████████████████████▍         | 71kB 19.2MB/s eta 0:00:01\r\u001b[K     |█████████████████████████▋      | 81kB 20.2MB/s eta 0:00:01\r\u001b[K     |████████████████████████████▉   | 92kB 19.1MB/s eta 0:00:01\r\u001b[K     |████████████████████████████████| 102kB 8.9MB/s \n",
            "\u001b[?25hRequirement already satisfied: numpy in /usr/local/lib/python3.7/dist-packages (from pytorch-metric-learning) (1.19.5)\n",
            "Requirement already satisfied: scikit-learn in /usr/local/lib/python3.7/dist-packages (from pytorch-metric-learning) (0.22.2.post1)\n",
            "Requirement already satisfied: torch>=1.6.0 in /usr/local/lib/python3.7/dist-packages (from pytorch-metric-learning) (1.8.1+cu101)\n",
            "Requirement already satisfied: torchvision in /usr/local/lib/python3.7/dist-packages (from pytorch-metric-learning) (0.9.1+cu101)\n",
            "Requirement already satisfied: tqdm in /usr/local/lib/python3.7/dist-packages (from pytorch-metric-learning) (4.41.1)\n",
            "Requirement already satisfied: joblib>=0.11 in /usr/local/lib/python3.7/dist-packages (from scikit-learn->pytorch-metric-learning) (1.0.1)\n",
            "Requirement already satisfied: scipy>=0.17.0 in /usr/local/lib/python3.7/dist-packages (from scikit-learn->pytorch-metric-learning) (1.4.1)\n",
            "Requirement already satisfied: typing-extensions in /usr/local/lib/python3.7/dist-packages (from torch>=1.6.0->pytorch-metric-learning) (3.7.4.3)\n",
            "Requirement already satisfied: pillow>=4.1.1 in /usr/local/lib/python3.7/dist-packages (from torchvision->pytorch-metric-learning) (7.1.2)\n",
            "Installing collected packages: pytorch-metric-learning\n",
            "Successfully installed pytorch-metric-learning-0.9.98\n",
            "Collecting faiss-gpu\n",
            "\u001b[?25l  Downloading https://files.pythonhosted.org/packages/5d/36/383911b8edf8c29cb7e9e8aee4e6b69b0f36c52237e3a06ce64a9551ef22/faiss_gpu-1.7.0-cp37-cp37m-manylinux2014_x86_64.whl (89.4MB)\n",
            "\u001b[K     |████████████████████████████████| 89.4MB 37kB/s \n",
            "\u001b[?25hInstalling collected packages: faiss-gpu\n",
            "Successfully installed faiss-gpu-1.7.0\n"
          ],
          "name": "stdout"
        }
      ]
    },
    {
      "cell_type": "code",
      "metadata": {
        "colab": {
          "base_uri": "https://localhost:8080/"
        },
        "id": "hOGD8APbVUL4",
        "outputId": "b0123fbc-edea-42a1-a245-c3112ae52c9f"
      },
      "source": [
        "from google.colab import drive\n",
        "drive.mount('/content/drive')"
      ],
      "execution_count": 2,
      "outputs": [
        {
          "output_type": "stream",
          "text": [
            "Mounted at /content/drive\n"
          ],
          "name": "stdout"
        }
      ]
    },
    {
      "cell_type": "markdown",
      "metadata": {
        "id": "iRs-P-VsU-zC"
      },
      "source": [
        "## Task 1\n"
      ]
    },
    {
      "cell_type": "markdown",
      "metadata": {
        "id": "jhAiRp1nU-zG"
      },
      "source": [
        "The notebook is divided into 3 parts:\n",
        "- In the first part we import the images and create the dataframe\n",
        "- In the second part we define our embedding network and train it on the given images\n",
        "- In the last part we use the embedding network to create a classifier and use it to classify the given images"
      ]
    },
    {
      "cell_type": "markdown",
      "metadata": {
        "id": "tuxspIyXU-zH"
      },
      "source": [
        "## Part 1: Data import and dataframe creation"
      ]
    },
    {
      "cell_type": "markdown",
      "metadata": {
        "id": "kFqIxU-XU-zI"
      },
      "source": [
        "Importing important libraries for the section"
      ]
    },
    {
      "cell_type": "code",
      "metadata": {
        "id": "DO6Z427EU-zJ"
      },
      "source": [
        "import numpy as np\n",
        "import pandas as pd\n",
        "import os\n",
        "from PIL import Image\n",
        "import matplotlib.pyplot as plt\n",
        "from sklearn.preprocessing import LabelEncoder\n",
        "import torch\n",
        "from torch.utils.data import Dataset\n",
        "import torchvision.transforms as transforms\n",
        "from torch.utils.data.sampler import SubsetRandomSampler"
      ],
      "execution_count": 3,
      "outputs": []
    },
    {
      "cell_type": "markdown",
      "metadata": {
        "id": "p3RTP6dTU-zK"
      },
      "source": [
        "Rather than importing all the images together, we shall create a dataframe with Image path and respective label \"string type\", and then encode the labels \"numeral type\". This makes the execution faster by only importing selected images at a time."
      ]
    },
    {
      "cell_type": "code",
      "metadata": {
        "id": "x8Ax7FPljNw5"
      },
      "source": [
        "#to replicate the results just replace the path below with the path to your train folder\n",
        "pathToDataset = '/content/drive/MyDrive/MIDAS/TASK 1/train/'"
      ],
      "execution_count": 4,
      "outputs": []
    },
    {
      "cell_type": "code",
      "metadata": {
        "colab": {
          "base_uri": "https://localhost:8080/",
          "height": 195
        },
        "id": "4cjXRRsuU-zL",
        "outputId": "746e0019-a575-4602-aad3-fba0b7bce2ca"
      },
      "source": [
        "imagePath = []\n",
        "labels = []\n",
        "for folder in os.listdir(pathToDataset):\n",
        "    for images in os.listdir(os.path.join(pathToDataset,folder)):\n",
        "        image = os.path.join(pathToDataset,folder,images)\n",
        "        imagePath.append(image)\n",
        "        labels.append(folder)\n",
        "data = {'Images':imagePath, 'Labels':labels}\n",
        "data = pd.DataFrame(data)\n",
        "data.head()"
      ],
      "execution_count": 5,
      "outputs": [
        {
          "output_type": "execute_result",
          "data": {
            "text/html": [
              "<div>\n",
              "<style scoped>\n",
              "    .dataframe tbody tr th:only-of-type {\n",
              "        vertical-align: middle;\n",
              "    }\n",
              "\n",
              "    .dataframe tbody tr th {\n",
              "        vertical-align: top;\n",
              "    }\n",
              "\n",
              "    .dataframe thead th {\n",
              "        text-align: right;\n",
              "    }\n",
              "</style>\n",
              "<table border=\"1\" class=\"dataframe\">\n",
              "  <thead>\n",
              "    <tr style=\"text-align: right;\">\n",
              "      <th></th>\n",
              "      <th>Images</th>\n",
              "      <th>Labels</th>\n",
              "    </tr>\n",
              "  </thead>\n",
              "  <tbody>\n",
              "    <tr>\n",
              "      <th>0</th>\n",
              "      <td>/content/drive/MyDrive/MIDAS/TASK 1/train/Samp...</td>\n",
              "      <td>Sample006</td>\n",
              "    </tr>\n",
              "    <tr>\n",
              "      <th>1</th>\n",
              "      <td>/content/drive/MyDrive/MIDAS/TASK 1/train/Samp...</td>\n",
              "      <td>Sample006</td>\n",
              "    </tr>\n",
              "    <tr>\n",
              "      <th>2</th>\n",
              "      <td>/content/drive/MyDrive/MIDAS/TASK 1/train/Samp...</td>\n",
              "      <td>Sample006</td>\n",
              "    </tr>\n",
              "    <tr>\n",
              "      <th>3</th>\n",
              "      <td>/content/drive/MyDrive/MIDAS/TASK 1/train/Samp...</td>\n",
              "      <td>Sample006</td>\n",
              "    </tr>\n",
              "    <tr>\n",
              "      <th>4</th>\n",
              "      <td>/content/drive/MyDrive/MIDAS/TASK 1/train/Samp...</td>\n",
              "      <td>Sample006</td>\n",
              "    </tr>\n",
              "  </tbody>\n",
              "</table>\n",
              "</div>"
            ],
            "text/plain": [
              "                                              Images     Labels\n",
              "0  /content/drive/MyDrive/MIDAS/TASK 1/train/Samp...  Sample006\n",
              "1  /content/drive/MyDrive/MIDAS/TASK 1/train/Samp...  Sample006\n",
              "2  /content/drive/MyDrive/MIDAS/TASK 1/train/Samp...  Sample006\n",
              "3  /content/drive/MyDrive/MIDAS/TASK 1/train/Samp...  Sample006\n",
              "4  /content/drive/MyDrive/MIDAS/TASK 1/train/Samp...  Sample006"
            ]
          },
          "metadata": {
            "tags": []
          },
          "execution_count": 5
        }
      ]
    },
    {
      "cell_type": "markdown",
      "metadata": {
        "id": "oNyJ9jSdU-zM"
      },
      "source": [
        "Now that  we have the Image path and their respective labels, we shall encode these labels to their numerical counterparts for our deep learning model."
      ]
    },
    {
      "cell_type": "code",
      "metadata": {
        "colab": {
          "base_uri": "https://localhost:8080/",
          "height": 195
        },
        "id": "6WJ8HXKgU-zN",
        "outputId": "49ee0f59-aea7-4281-e1aa-3fad54e518eb"
      },
      "source": [
        "labelEncoder = LabelEncoder()\n",
        "data['Encoded Labels'] = labelEncoder.fit_transform(data['Labels'])\n",
        "data.head()"
      ],
      "execution_count": 6,
      "outputs": [
        {
          "output_type": "execute_result",
          "data": {
            "text/html": [
              "<div>\n",
              "<style scoped>\n",
              "    .dataframe tbody tr th:only-of-type {\n",
              "        vertical-align: middle;\n",
              "    }\n",
              "\n",
              "    .dataframe tbody tr th {\n",
              "        vertical-align: top;\n",
              "    }\n",
              "\n",
              "    .dataframe thead th {\n",
              "        text-align: right;\n",
              "    }\n",
              "</style>\n",
              "<table border=\"1\" class=\"dataframe\">\n",
              "  <thead>\n",
              "    <tr style=\"text-align: right;\">\n",
              "      <th></th>\n",
              "      <th>Images</th>\n",
              "      <th>Labels</th>\n",
              "      <th>Encoded Labels</th>\n",
              "    </tr>\n",
              "  </thead>\n",
              "  <tbody>\n",
              "    <tr>\n",
              "      <th>0</th>\n",
              "      <td>/content/drive/MyDrive/MIDAS/TASK 1/train/Samp...</td>\n",
              "      <td>Sample006</td>\n",
              "      <td>5</td>\n",
              "    </tr>\n",
              "    <tr>\n",
              "      <th>1</th>\n",
              "      <td>/content/drive/MyDrive/MIDAS/TASK 1/train/Samp...</td>\n",
              "      <td>Sample006</td>\n",
              "      <td>5</td>\n",
              "    </tr>\n",
              "    <tr>\n",
              "      <th>2</th>\n",
              "      <td>/content/drive/MyDrive/MIDAS/TASK 1/train/Samp...</td>\n",
              "      <td>Sample006</td>\n",
              "      <td>5</td>\n",
              "    </tr>\n",
              "    <tr>\n",
              "      <th>3</th>\n",
              "      <td>/content/drive/MyDrive/MIDAS/TASK 1/train/Samp...</td>\n",
              "      <td>Sample006</td>\n",
              "      <td>5</td>\n",
              "    </tr>\n",
              "    <tr>\n",
              "      <th>4</th>\n",
              "      <td>/content/drive/MyDrive/MIDAS/TASK 1/train/Samp...</td>\n",
              "      <td>Sample006</td>\n",
              "      <td>5</td>\n",
              "    </tr>\n",
              "  </tbody>\n",
              "</table>\n",
              "</div>"
            ],
            "text/plain": [
              "                                              Images     Labels  Encoded Labels\n",
              "0  /content/drive/MyDrive/MIDAS/TASK 1/train/Samp...  Sample006               5\n",
              "1  /content/drive/MyDrive/MIDAS/TASK 1/train/Samp...  Sample006               5\n",
              "2  /content/drive/MyDrive/MIDAS/TASK 1/train/Samp...  Sample006               5\n",
              "3  /content/drive/MyDrive/MIDAS/TASK 1/train/Samp...  Sample006               5\n",
              "4  /content/drive/MyDrive/MIDAS/TASK 1/train/Samp...  Sample006               5"
            ]
          },
          "metadata": {
            "tags": []
          },
          "execution_count": 6
        }
      ]
    },
    {
      "cell_type": "code",
      "metadata": {
        "colab": {
          "base_uri": "https://localhost:8080/",
          "height": 195
        },
        "id": "v8NFXhv7gX53",
        "outputId": "a2875807-16f0-4b9f-ba10-ad7d6918ee5e"
      },
      "source": [
        "data.tail()"
      ],
      "execution_count": 7,
      "outputs": [
        {
          "output_type": "execute_result",
          "data": {
            "text/html": [
              "<div>\n",
              "<style scoped>\n",
              "    .dataframe tbody tr th:only-of-type {\n",
              "        vertical-align: middle;\n",
              "    }\n",
              "\n",
              "    .dataframe tbody tr th {\n",
              "        vertical-align: top;\n",
              "    }\n",
              "\n",
              "    .dataframe thead th {\n",
              "        text-align: right;\n",
              "    }\n",
              "</style>\n",
              "<table border=\"1\" class=\"dataframe\">\n",
              "  <thead>\n",
              "    <tr style=\"text-align: right;\">\n",
              "      <th></th>\n",
              "      <th>Images</th>\n",
              "      <th>Labels</th>\n",
              "      <th>Encoded Labels</th>\n",
              "    </tr>\n",
              "  </thead>\n",
              "  <tbody>\n",
              "    <tr>\n",
              "      <th>2475</th>\n",
              "      <td>/content/drive/MyDrive/MIDAS/TASK 1/train/Samp...</td>\n",
              "      <td>Sample059</td>\n",
              "      <td>58</td>\n",
              "    </tr>\n",
              "    <tr>\n",
              "      <th>2476</th>\n",
              "      <td>/content/drive/MyDrive/MIDAS/TASK 1/train/Samp...</td>\n",
              "      <td>Sample059</td>\n",
              "      <td>58</td>\n",
              "    </tr>\n",
              "    <tr>\n",
              "      <th>2477</th>\n",
              "      <td>/content/drive/MyDrive/MIDAS/TASK 1/train/Samp...</td>\n",
              "      <td>Sample059</td>\n",
              "      <td>58</td>\n",
              "    </tr>\n",
              "    <tr>\n",
              "      <th>2478</th>\n",
              "      <td>/content/drive/MyDrive/MIDAS/TASK 1/train/Samp...</td>\n",
              "      <td>Sample059</td>\n",
              "      <td>58</td>\n",
              "    </tr>\n",
              "    <tr>\n",
              "      <th>2479</th>\n",
              "      <td>/content/drive/MyDrive/MIDAS/TASK 1/train/Samp...</td>\n",
              "      <td>Sample059</td>\n",
              "      <td>58</td>\n",
              "    </tr>\n",
              "  </tbody>\n",
              "</table>\n",
              "</div>"
            ],
            "text/plain": [
              "                                                 Images  ... Encoded Labels\n",
              "2475  /content/drive/MyDrive/MIDAS/TASK 1/train/Samp...  ...             58\n",
              "2476  /content/drive/MyDrive/MIDAS/TASK 1/train/Samp...  ...             58\n",
              "2477  /content/drive/MyDrive/MIDAS/TASK 1/train/Samp...  ...             58\n",
              "2478  /content/drive/MyDrive/MIDAS/TASK 1/train/Samp...  ...             58\n",
              "2479  /content/drive/MyDrive/MIDAS/TASK 1/train/Samp...  ...             58\n",
              "\n",
              "[5 rows x 3 columns]"
            ]
          },
          "metadata": {
            "tags": []
          },
          "execution_count": 7
        }
      ]
    },
    {
      "cell_type": "markdown",
      "metadata": {
        "id": "p2kEn3TlU-zO"
      },
      "source": [
        "We now create the training and validation splits of the images."
      ]
    },
    {
      "cell_type": "code",
      "metadata": {
        "id": "g1L4HeNkU-zP"
      },
      "source": [
        "batchSize = 128\n",
        "validationSplit = 0.15\n",
        "shuffleDataset = True\n",
        "randomSeed = 17"
      ],
      "execution_count": 8,
      "outputs": []
    },
    {
      "cell_type": "code",
      "metadata": {
        "id": "JHuKGx7PU-zP"
      },
      "source": [
        "datasetSize = len(data)\n",
        "indices = list(range(datasetSize))\n",
        "split = int(np.floor(validationSplit*datasetSize))\n",
        "if shuffleDataset:\n",
        "    np.random.seed(randomSeed)\n",
        "    np.random.shuffle(indices)\n",
        "trainIndices, validationIndices = indices[split:], indices[:split]"
      ],
      "execution_count": 9,
      "outputs": []
    },
    {
      "cell_type": "code",
      "metadata": {
        "id": "I2Ycd2b9U-zQ"
      },
      "source": [
        "trainSampler = SubsetRandomSampler(trainIndices)\n",
        "validationSampler = SubsetRandomSampler(validationIndices)"
      ],
      "execution_count": 10,
      "outputs": []
    },
    {
      "cell_type": "code",
      "metadata": {
        "id": "auPHJxZuU-zQ"
      },
      "source": [
        "class CustomDataset(Dataset):\n",
        "    def __init__(self, imageData, imagePath, transform=None):\n",
        "        self.imagePath = imagePath\n",
        "        self.imageData = imageData\n",
        "        self.transform = transform\n",
        "    def __len__(self):\n",
        "        return len(self.imageData)\n",
        "    def __getitem__(self, index):\n",
        "        imageName = os.path.join(self.imagePath, self.imageData.loc[index, 'Labels'],self.imageData.loc[index,'Images'])\n",
        "        image = Image.open(imageName).convert('L')\n",
        "        image = image.resize((32,32))\n",
        "        label = torch.tensor(self.imageData.loc[index, 'Encoded Labels'])\n",
        "        if self.transform is not None:\n",
        "            image = self.transform(image)\n",
        "        return image,label"
      ],
      "execution_count": 11,
      "outputs": []
    },
    {
      "cell_type": "markdown",
      "metadata": {
        "id": "W_o5jtpDU-zR"
      },
      "source": [
        "We now create  the custom dataset using all the images"
      ]
    },
    {
      "cell_type": "code",
      "metadata": {
        "id": "hYPLQmJaV4X5"
      },
      "source": [
        "transform = transforms.Compose(\n",
        "    [transforms.Resize(220),\n",
        "     transforms.ToTensor(),\n",
        "     transforms.Normalize(mean=[0.5], std=[0.5])])"
      ],
      "execution_count": 12,
      "outputs": []
    },
    {
      "cell_type": "code",
      "metadata": {
        "id": "OIRFfFf7U-zS"
      },
      "source": [
        "dataset = CustomDataset(data,pathToDataset,transform)"
      ],
      "execution_count": 13,
      "outputs": []
    },
    {
      "cell_type": "markdown",
      "metadata": {
        "id": "egCqfIg-U-zS"
      },
      "source": [
        "We create train and validation loaders that will load batches of images for training and validation using the indices we created above"
      ]
    },
    {
      "cell_type": "code",
      "metadata": {
        "id": "NHnx_LdsU-zT"
      },
      "source": [
        "trainLoader = torch.utils.data.DataLoader(dataset, batch_size = batchSize, sampler = trainSampler)\n",
        "validationLoader = torch.utils.data.DataLoader(dataset, batch_size = batchSize, sampler = validationSampler)"
      ],
      "execution_count": 14,
      "outputs": []
    },
    {
      "cell_type": "markdown",
      "metadata": {
        "id": "gKgPMN2bU-zT"
      },
      "source": [
        "To visualize the images, we  first need to unormalize  them, this is performed in the function below"
      ]
    },
    {
      "cell_type": "code",
      "metadata": {
        "id": "JJd1DOKtU-zU"
      },
      "source": [
        "def  displayImage(image):\n",
        "    image = image/2 + 0.5\n",
        "    image = image.numpy()\n",
        "    image = image.reshape(220,220)\n",
        "    return image"
      ],
      "execution_count": 15,
      "outputs": []
    },
    {
      "cell_type": "markdown",
      "metadata": {
        "id": "7WRgUXUaU-zU"
      },
      "source": [
        "We now visualize some of our training images"
      ]
    },
    {
      "cell_type": "code",
      "metadata": {
        "colab": {
          "base_uri": "https://localhost:8080/",
          "height": 832
        },
        "id": "jW2LH3TAU-zV",
        "outputId": "ff525cda-3aa9-45ef-e176-45665b389db2"
      },
      "source": [
        "dataIterator = iter(trainLoader)\n",
        "images, labels = dataIterator.next()\n",
        "figure, axis = plt.subplots(3,5, figsize=(16,16))\n",
        "for i, ax in enumerate(axis.flat):\n",
        "    with torch.no_grad():\n",
        "        image, label = images[i], labels[i]\n",
        "        ax.imshow(displayImage(image))\n",
        "        ax.set(title=f\"{label.item()}\")"
      ],
      "execution_count": 16,
      "outputs": [
        {
          "output_type": "display_data",
          "data": {
            "image/png": "[encoded data removed]",
            "text/plain": [
              "<Figure size 1152x1152 with 15 Axes>"
            ]
          },
          "metadata": {
            "tags": [],
            "needs_background": "light"
          }
        }
      ]
    },
    {
      "cell_type": "markdown",
      "metadata": {
        "id": "GLGopImoU-zW"
      },
      "source": [
        "## Part 2: Embedding Network and its training"
      ]
    },
    {
      "cell_type": "markdown",
      "metadata": {
        "id": "7gvwPAm7U-zW"
      },
      "source": [
        "Importing important libraries for the section"
      ]
    },
    {
      "cell_type": "code",
      "metadata": {
        "id": "7hhs5SxCU-zW"
      },
      "source": [
        "#the pytorch metric learning library comes with inbuilt methods for triplet mining and computing triplet losses between anchor, positive class and negative class\n",
        "from pytorch_metric_learning import losses, miners\n",
        "from pytorch_metric_learning.distances import CosineSimilarity\n",
        "from pytorch_metric_learning.reducers import ThresholdReducer\n",
        "from pytorch_metric_learning.regularizers import LpRegularizer\n",
        "\n",
        "from sklearn.neighbors import KNeighborsClassifier\n",
        "from sklearn.metrics import accuracy_score\n",
        "\n",
        "import torch\n",
        "import torch.nn as nn\n",
        "import torch.nn.functional as F\n",
        "import torchvision.models as models"
      ],
      "execution_count": 17,
      "outputs": []
    },
    {
      "cell_type": "code",
      "metadata": {
        "colab": {
          "base_uri": "https://localhost:8080/"
        },
        "id": "v5rfF-tcGz_W",
        "outputId": "89cdebfa-9e6a-43a3-875f-8a214fa3a31c"
      },
      "source": [
        "device = torch.device(\"cuda:0\" if torch.cuda.is_available() else \"cpu\")\n",
        "print(\"Training the model on: \",device)"
      ],
      "execution_count": 18,
      "outputs": [
        {
          "output_type": "stream",
          "text": [
            "Training the model on:  cuda:0\n"
          ],
          "name": "stdout"
        }
      ]
    },
    {
      "cell_type": "markdown",
      "metadata": {
        "id": "Oec-CPPwU-zX"
      },
      "source": [
        "We now define our embedding network, the network is based on ZFNet the Zeilur and Fergus Neural Network with a few modifications."
      ]
    },
    {
      "cell_type": "code",
      "metadata": {
        "id": "cLMMediuo1jr"
      },
      "source": [
        "class EmbeddingNetwork(nn.Module):\n",
        "    def __init__(self):\n",
        "        super(EmbeddingNetwork, self).__init__()\n",
        "        self.conv1 = nn.Sequential(\n",
        "            nn.Conv2d(1, 64, (7,7), stride=(2,2), padding=(3,3)),\n",
        "            nn.BatchNorm2d(64),\n",
        "            nn.LeakyReLU(0.001),\n",
        "            nn.MaxPool2d((3, 3), 2, padding=(1,1))\n",
        "        )\n",
        "        self.conv2 = nn.Sequential(\n",
        "            nn.Conv2d(64,64,(1,1), stride=(1,1)),\n",
        "            nn.BatchNorm2d(64),\n",
        "            nn.LeakyReLU(0.001),\n",
        "            nn.Conv2d(64,192, (3,3), stride=(1,1), padding=(1,1)),\n",
        "            nn.BatchNorm2d(192),\n",
        "            nn.LeakyReLU(0.001),\n",
        "            nn.MaxPool2d((3,3),2, padding=(1,1))\n",
        "        )\n",
        "        self.conv3 = nn.Sequential(\n",
        "            nn.Conv2d(192,192,(1,1), stride=(1,1)),\n",
        "            nn.BatchNorm2d(192),\n",
        "            nn.LeakyReLU(0.001),\n",
        "            nn.Conv2d(192,384,(3,3), stride=(1,1), padding=(1,1)),\n",
        "            nn.BatchNorm2d(384),\n",
        "            nn.LeakyReLU(0.001),\n",
        "            nn.MaxPool2d((3,3), 2, padding=(1,1))\n",
        "            )\n",
        "        self.conv4 = nn.Sequential(\n",
        "            nn.Conv2d(384,384,(1,1), stride=(1,1)),\n",
        "            nn.BatchNorm2d(384),\n",
        "            nn.LeakyReLU(0.001),\n",
        "            nn.Conv2d(384,256,(3,3), stride=(1,1), padding=(1,1)),\n",
        "            nn.BatchNorm2d(256),\n",
        "            nn.LeakyReLU(0.001)\n",
        "        )\n",
        "        self.conv5 = nn.Sequential(\n",
        "            nn.Conv2d(256,256,(1,1), stride=(1,1)),\n",
        "            nn.BatchNorm2d(256),\n",
        "            nn.LeakyReLU(0.001),\n",
        "            nn.Conv2d(256,256,(3,3), stride=(1,1), padding=(1,1)),\n",
        "            nn.BatchNorm2d(256),\n",
        "            nn.LeakyReLU(0.001)\n",
        "        )\n",
        "        self.conv6 = nn.Sequential(\n",
        "            nn.Conv2d(256,256,(1,1), stride=(1,1)),\n",
        "            nn.BatchNorm2d(256),\n",
        "            nn.LeakyReLU(0.001),\n",
        "            nn.Conv2d(256,256,(3,3), stride=(1,1), padding=(1,1)),\n",
        "            nn.BatchNorm2d(256),\n",
        "            nn.LeakyReLU(0.001),\n",
        "            nn.MaxPool2d((3,3),2, padding=(1,1)),\n",
        "            nn.Flatten()\n",
        "        )\n",
        "        self.fullyConnected = nn.Sequential(\n",
        "            nn.Linear(7*7*256,32*128),\n",
        "            nn.BatchNorm1d(32*128),\n",
        "            nn.LeakyReLU(0.001),\n",
        "            nn.Linear(32*128,128)\n",
        "        )\n",
        "    def forward(self,x):\n",
        "      x = self.conv1(x)\n",
        "      x = self.conv2(x)\n",
        "      x = self.conv3(x)\n",
        "      x = self.conv4(x)\n",
        "      x = self.conv5(x)\n",
        "      x = self.conv6(x)\n",
        "      x = self.fullyConnected(x)\n",
        "      return torch.nn.functional.normalize(x, p=2, dim=-1)"
      ],
      "execution_count": 19,
      "outputs": []
    },
    {
      "cell_type": "markdown",
      "metadata": {
        "id": "wzKy2UmkU-zZ"
      },
      "source": [
        "We shall now create the embedding model and print its layers"
      ]
    },
    {
      "cell_type": "code",
      "metadata": {
        "colab": {
          "base_uri": "https://localhost:8080/"
        },
        "id": "7-ipwFJqU-za",
        "outputId": "4c7a64de-69ab-41b8-e839-703167d120a2"
      },
      "source": [
        "embeddingNetwork = EmbeddingNetwork().to(device)\n",
        "print(embeddingNetwork)"
      ],
      "execution_count": 20,
      "outputs": [
        {
          "output_type": "stream",
          "text": [
            "EmbeddingNetwork(\n",
            "  (conv1): Sequential(\n",
            "    (0): Conv2d(1, 64, kernel_size=(7, 7), stride=(2, 2), padding=(3, 3))\n",
            "    (1): BatchNorm2d(64, eps=1e-05, momentum=0.1, affine=True, track_running_stats=True)\n",
            "    (2): LeakyReLU(negative_slope=0.001)\n",
            "    (3): MaxPool2d(kernel_size=(3, 3), stride=2, padding=(1, 1), dilation=1, ceil_mode=False)\n",
            "  )\n",
            "  (conv2): Sequential(\n",
            "    (0): Conv2d(64, 64, kernel_size=(1, 1), stride=(1, 1))\n",
            "    (1): BatchNorm2d(64, eps=1e-05, momentum=0.1, affine=True, track_running_stats=True)\n",
            "    (2): LeakyReLU(negative_slope=0.001)\n",
            "    (3): Conv2d(64, 192, kernel_size=(3, 3), stride=(1, 1), padding=(1, 1))\n",
            "    (4): BatchNorm2d(192, eps=1e-05, momentum=0.1, affine=True, track_running_stats=True)\n",
            "    (5): LeakyReLU(negative_slope=0.001)\n",
            "    (6): MaxPool2d(kernel_size=(3, 3), stride=2, padding=(1, 1), dilation=1, ceil_mode=False)\n",
            "  )\n",
            "  (conv3): Sequential(\n",
            "    (0): Conv2d(192, 192, kernel_size=(1, 1), stride=(1, 1))\n",
            "    (1): BatchNorm2d(192, eps=1e-05, momentum=0.1, affine=True, track_running_stats=True)\n",
            "    (2): LeakyReLU(negative_slope=0.001)\n",
            "    (3): Conv2d(192, 384, kernel_size=(3, 3), stride=(1, 1), padding=(1, 1))\n",
            "    (4): BatchNorm2d(384, eps=1e-05, momentum=0.1, affine=True, track_running_stats=True)\n",
            "    (5): LeakyReLU(negative_slope=0.001)\n",
            "    (6): MaxPool2d(kernel_size=(3, 3), stride=2, padding=(1, 1), dilation=1, ceil_mode=False)\n",
            "  )\n",
            "  (conv4): Sequential(\n",
            "    (0): Conv2d(384, 384, kernel_size=(1, 1), stride=(1, 1))\n",
            "    (1): BatchNorm2d(384, eps=1e-05, momentum=0.1, affine=True, track_running_stats=True)\n",
            "    (2): LeakyReLU(negative_slope=0.001)\n",
            "    (3): Conv2d(384, 256, kernel_size=(3, 3), stride=(1, 1), padding=(1, 1))\n",
            "    (4): BatchNorm2d(256, eps=1e-05, momentum=0.1, affine=True, track_running_stats=True)\n",
            "    (5): LeakyReLU(negative_slope=0.001)\n",
            "  )\n",
            "  (conv5): Sequential(\n",
            "    (0): Conv2d(256, 256, kernel_size=(1, 1), stride=(1, 1))\n",
            "    (1): BatchNorm2d(256, eps=1e-05, momentum=0.1, affine=True, track_running_stats=True)\n",
            "    (2): LeakyReLU(negative_slope=0.001)\n",
            "    (3): Conv2d(256, 256, kernel_size=(3, 3), stride=(1, 1), padding=(1, 1))\n",
            "    (4): BatchNorm2d(256, eps=1e-05, momentum=0.1, affine=True, track_running_stats=True)\n",
            "    (5): LeakyReLU(negative_slope=0.001)\n",
            "  )\n",
            "  (conv6): Sequential(\n",
            "    (0): Conv2d(256, 256, kernel_size=(1, 1), stride=(1, 1))\n",
            "    (1): BatchNorm2d(256, eps=1e-05, momentum=0.1, affine=True, track_running_stats=True)\n",
            "    (2): LeakyReLU(negative_slope=0.001)\n",
            "    (3): Conv2d(256, 256, kernel_size=(3, 3), stride=(1, 1), padding=(1, 1))\n",
            "    (4): BatchNorm2d(256, eps=1e-05, momentum=0.1, affine=True, track_running_stats=True)\n",
            "    (5): LeakyReLU(negative_slope=0.001)\n",
            "    (6): MaxPool2d(kernel_size=(3, 3), stride=2, padding=(1, 1), dilation=1, ceil_mode=False)\n",
            "    (7): Flatten(start_dim=1, end_dim=-1)\n",
            "  )\n",
            "  (fullyConnected): Sequential(\n",
            "    (0): Linear(in_features=12544, out_features=4096, bias=True)\n",
            "    (1): BatchNorm1d(4096, eps=1e-05, momentum=0.1, affine=True, track_running_stats=True)\n",
            "    (2): LeakyReLU(negative_slope=0.001)\n",
            "    (3): Linear(in_features=4096, out_features=128, bias=True)\n",
            "  )\n",
            ")\n"
          ],
          "name": "stdout"
        }
      ]
    },
    {
      "cell_type": "markdown",
      "metadata": {
        "id": "iUvteZ4SU-za"
      },
      "source": [
        "The train function below  takes this Embedding model along with the training loaded, the triplet miner and the triplet loss function to train the embedding network for a single epoch"
      ]
    },
    {
      "cell_type": "code",
      "metadata": {
        "id": "DkF49Y6tU-zb"
      },
      "source": [
        "def train(model, lossFunction, miningFunction, device, trainLoader, optimizer, epoch):\n",
        "    print(\"Training started for Epoch: \",epoch)\n",
        "    model.train()\n",
        "    for batchIndex, (data, labels) in enumerate(trainLoader):\n",
        "        data, labels = data.to(device), labels.to(device)\n",
        "        optimizer.zero_grad()\n",
        "        embeddings = model(data)\n",
        "        hardPairs = miningFunction(embeddings, labels)\n",
        "        loss = lossFunction(embeddings, labels, hardPairs)\n",
        "        loss.backward()\n",
        "        optimizer.step()\n",
        "        if batchIndex%20==0:\n",
        "            print(\"Training stats for Epoch {} Iteration {}: Loss= {}, Number of mined triplets {}\".format(epoch, batchIndex, loss, miningFunction.num_triplets))"
      ],
      "execution_count": 21,
      "outputs": []
    },
    {
      "cell_type": "markdown",
      "metadata": {
        "id": "hr-885tQU-zb"
      },
      "source": [
        "We now define the loss function, triplet miner, optimizer, and other important hyperparamters we will be using to trai the model"
      ]
    },
    {
      "cell_type": "code",
      "metadata": {
        "id": "qidHvrCGU-zc"
      },
      "source": [
        "#distance this tells the model how to calculate the distance between the  generated embeddings\n",
        "distance = CosineSimilarity()\n",
        "reducer = ThresholdReducer(low=0.0)\n",
        "lossFunction = losses.TripletMarginLoss(margin = 0.2, distance = distance, reducer = reducer)\n",
        "miningFunction = miners.TripletMarginMiner(margin = 0.2, distance = distance, type_of_triplets = \"semi-hard\")\n",
        "optimizer = torch.optim.Adam(embeddingNetwork.parameters(), lr=0.05)"
      ],
      "execution_count": 22,
      "outputs": []
    },
    {
      "cell_type": "markdown",
      "metadata": {
        "id": "GpQAbnQc00tg"
      },
      "source": [
        "The function below tests the embedding model using a simple KNN classifier and saves the weights for the best embedding model depending on the validation accuracy of the classifier. These embedding weights will be used later to create our classifier."
      ]
    },
    {
      "cell_type": "code",
      "metadata": {
        "id": "GqYOK4MURxft"
      },
      "source": [
        "def tester(maxValidationAccuracy):\n",
        "  trainEmbeddings = []\n",
        "  trainLabels = []\n",
        "  validationEmbeddings = []\n",
        "  validationLabels = []\n",
        "  with torch.no_grad():\n",
        "    embeddingNetwork.eval()\n",
        "    for (dataTr, labelTr) in (trainLoader):\n",
        "      dataTr, labelTr = dataTr.to(device), labelTr.to(device)\n",
        "      embeddingTr = embeddingNetwork(dataTr)\n",
        "      trainEmbeddings.append(embeddingTr.cpu().detach().numpy())\n",
        "      trainLabels.append(labelTr.cpu().detach().numpy())\n",
        "    for (dataTe, labelTe) in (validationLoader):\n",
        "      dataTe, labelTe = dataTe.to(device), labelTe.to(device)\n",
        "      embeddingsTe = embeddingNetwork(dataTe)\n",
        "      validationEmbeddings.append(embeddingsTe.cpu().detach().numpy())\n",
        "      validationLabels.append(labelTe.cpu().detach().numpy())\n",
        "  trainEmbeddings1 = []\n",
        "  trainLabels1 = []\n",
        "  validationEmbeddings1 = []\n",
        "  validationLabels1 = []\n",
        "  for bat in trainEmbeddings:\n",
        "    for exm in bat:\n",
        "      trainEmbeddings1.append(exm)\n",
        "  for bat in trainLabels:\n",
        "    for exm in bat:\n",
        "      trainLabels1.append(exm)\n",
        "  for bat in validationEmbeddings:\n",
        "    for exm in bat:\n",
        "      validationEmbeddings1.append(exm)\n",
        "  for bat in validationLabels:\n",
        "    for exm in bat:\n",
        "      validationLabels1.append(exm)\n",
        "  neigh = KNeighborsClassifier(n_neighbors=13)\n",
        "  neigh.fit(trainEmbeddings1, trainLabels1)\n",
        "  prediction = neigh.predict(validationEmbeddings1)\n",
        "  currentAccuracy = accuracy_score(validationLabels1,prediction)\n",
        "  print(\"Accuracy: \",currentAccuracy)\n",
        "  if currentAccuracy > maxValidationAccuracy:\n",
        "    maxValidationAccuracy = currentAccuracy\n",
        "    print(\"New highest validation accuracy, saving the embedding model\")\n",
        "    torch.save(embeddingNetwork.state_dict(), \"embeddingNetworkTask1.pt\")\n",
        "  return maxValidationAccuracy"
      ],
      "execution_count": 23,
      "outputs": []
    },
    {
      "cell_type": "markdown",
      "metadata": {
        "id": "5IYwGHQhU-zc"
      },
      "source": [
        "The snippet below uses the above function to train the embedding model for 80 epochs or around 2000 iterations, while this is only about 2/5th of the total interations used in FaceNet, I had to cut the training short due to time shortage."
      ]
    },
    {
      "cell_type": "code",
      "metadata": {
        "colab": {
          "base_uri": "https://localhost:8080/"
        },
        "id": "z3m0DeBGU-zd",
        "outputId": "177596a2-5b08-49f4-a898-f9dc98f7d27c"
      },
      "source": [
        "maxValidationAccuracyEmbedding = 0\n",
        "for epoch in range(1, 81):\n",
        "    train(embeddingNetwork, lossFunction, miningFunction, device, trainLoader, optimizer, epoch)\n",
        "    print(\"Training completed for the Epoch:\", epoch)\n",
        "    maxValidationAccuracyEmbedding = tester(maxValidationAccuracyEmbedding)"
      ],
      "execution_count": 24,
      "outputs": [
        {
          "output_type": "stream",
          "text": [
            "Training started for Epoch:  1\n",
            "Training stats for Epoch 1 Iteration 0: Loss= 0.1719743013381958, Number of mined triplets 23935\n",
            "Training completed for the Epoch: 1\n",
            "Accuracy:  0.1478494623655914\n",
            "New highest validation accuracy, saving the embedding model\n",
            "Training started for Epoch:  2\n",
            "Training stats for Epoch 2 Iteration 0: Loss= 0.20043489336967468, Number of mined triplets 18343\n",
            "Training completed for the Epoch: 2\n",
            "Accuracy:  0.15591397849462366\n",
            "New highest validation accuracy, saving the embedding model\n",
            "Training started for Epoch:  3\n",
            "Training stats for Epoch 3 Iteration 0: Loss= 0.1959235519170761, Number of mined triplets 13187\n",
            "Training completed for the Epoch: 3\n",
            "Accuracy:  0.25\n",
            "New highest validation accuracy, saving the embedding model\n",
            "Training started for Epoch:  4\n",
            "Training stats for Epoch 4 Iteration 0: Loss= 0.18232952058315277, Number of mined triplets 10326\n",
            "Training completed for the Epoch: 4\n",
            "Accuracy:  0.3118279569892473\n",
            "New highest validation accuracy, saving the embedding model\n",
            "Training started for Epoch:  5\n",
            "Training stats for Epoch 5 Iteration 0: Loss= 0.176581472158432, Number of mined triplets 10184\n",
            "Training completed for the Epoch: 5\n",
            "Accuracy:  0.3951612903225806\n",
            "New highest validation accuracy, saving the embedding model\n",
            "Training started for Epoch:  6\n",
            "Training stats for Epoch 6 Iteration 0: Loss= 0.18119224905967712, Number of mined triplets 9867\n",
            "Training completed for the Epoch: 6\n",
            "Accuracy:  0.44623655913978494\n",
            "New highest validation accuracy, saving the embedding model\n",
            "Training started for Epoch:  7\n",
            "Training stats for Epoch 7 Iteration 0: Loss= 0.1677064746618271, Number of mined triplets 6138\n",
            "Training completed for the Epoch: 7\n",
            "Accuracy:  0.4650537634408602\n",
            "New highest validation accuracy, saving the embedding model\n",
            "Training started for Epoch:  8\n",
            "Training stats for Epoch 8 Iteration 0: Loss= 0.17844519019126892, Number of mined triplets 5763\n",
            "Training completed for the Epoch: 8\n",
            "Accuracy:  0.49193548387096775\n",
            "New highest validation accuracy, saving the embedding model\n",
            "Training started for Epoch:  9\n",
            "Training stats for Epoch 9 Iteration 0: Loss= 0.17642179131507874, Number of mined triplets 5727\n",
            "Training completed for the Epoch: 9\n",
            "Accuracy:  0.5645161290322581\n",
            "New highest validation accuracy, saving the embedding model\n",
            "Training started for Epoch:  10\n",
            "Training stats for Epoch 10 Iteration 0: Loss= 0.17159128189086914, Number of mined triplets 5240\n",
            "Training completed for the Epoch: 10\n",
            "Accuracy:  0.5295698924731183\n",
            "Training started for Epoch:  11\n",
            "Training stats for Epoch 11 Iteration 0: Loss= 0.17254364490509033, Number of mined triplets 3603\n",
            "Training completed for the Epoch: 11\n",
            "Accuracy:  0.5349462365591398\n",
            "Training started for Epoch:  12\n",
            "Training stats for Epoch 12 Iteration 0: Loss= 0.1714363992214203, Number of mined triplets 3958\n",
            "Training completed for the Epoch: 12\n",
            "Accuracy:  0.6236559139784946\n",
            "New highest validation accuracy, saving the embedding model\n",
            "Training started for Epoch:  13\n",
            "Training stats for Epoch 13 Iteration 0: Loss= 0.19641736149787903, Number of mined triplets 4197\n",
            "Training completed for the Epoch: 13\n",
            "Accuracy:  0.5779569892473119\n",
            "Training started for Epoch:  14\n",
            "Training stats for Epoch 14 Iteration 0: Loss= 0.14715218544006348, Number of mined triplets 3645\n",
            "Training completed for the Epoch: 14\n",
            "Accuracy:  0.6854838709677419\n",
            "New highest validation accuracy, saving the embedding model\n",
            "Training started for Epoch:  15\n",
            "Training stats for Epoch 15 Iteration 0: Loss= 0.17746463418006897, Number of mined triplets 3079\n",
            "Training completed for the Epoch: 15\n",
            "Accuracy:  0.6747311827956989\n",
            "Training started for Epoch:  16\n",
            "Training stats for Epoch 16 Iteration 0: Loss= 0.15510323643684387, Number of mined triplets 3253\n",
            "Training completed for the Epoch: 16\n",
            "Accuracy:  0.6317204301075269\n",
            "Training started for Epoch:  17\n",
            "Training stats for Epoch 17 Iteration 0: Loss= 0.1526114046573639, Number of mined triplets 2627\n",
            "Training completed for the Epoch: 17\n",
            "Accuracy:  0.6881720430107527\n",
            "New highest validation accuracy, saving the embedding model\n",
            "Training started for Epoch:  18\n",
            "Training stats for Epoch 18 Iteration 0: Loss= 0.14597108960151672, Number of mined triplets 2101\n",
            "Training completed for the Epoch: 18\n",
            "Accuracy:  0.6827956989247311\n",
            "Training started for Epoch:  19\n",
            "Training stats for Epoch 19 Iteration 0: Loss= 0.14855119585990906, Number of mined triplets 2193\n",
            "Training completed for the Epoch: 19\n",
            "Accuracy:  0.6370967741935484\n",
            "Training started for Epoch:  20\n",
            "Training stats for Epoch 20 Iteration 0: Loss= 0.15729032456874847, Number of mined triplets 2523\n",
            "Training completed for the Epoch: 20\n",
            "Accuracy:  0.5403225806451613\n",
            "Training started for Epoch:  21\n",
            "Training stats for Epoch 21 Iteration 0: Loss= 0.13039731979370117, Number of mined triplets 1906\n",
            "Training completed for the Epoch: 21\n",
            "Accuracy:  0.6021505376344086\n",
            "Training started for Epoch:  22\n",
            "Training stats for Epoch 22 Iteration 0: Loss= 0.1464059203863144, Number of mined triplets 1924\n",
            "Training completed for the Epoch: 22\n",
            "Accuracy:  0.6747311827956989\n",
            "Training started for Epoch:  23\n",
            "Training stats for Epoch 23 Iteration 0: Loss= 0.11343143880367279, Number of mined triplets 1245\n",
            "Training completed for the Epoch: 23\n",
            "Accuracy:  0.728494623655914\n",
            "New highest validation accuracy, saving the embedding model\n",
            "Training started for Epoch:  24\n",
            "Training stats for Epoch 24 Iteration 0: Loss= 0.12788264453411102, Number of mined triplets 1409\n",
            "Training completed for the Epoch: 24\n",
            "Accuracy:  0.7258064516129032\n",
            "Training started for Epoch:  25\n",
            "Training stats for Epoch 25 Iteration 0: Loss= 0.14530403912067413, Number of mined triplets 1416\n",
            "Training completed for the Epoch: 25\n",
            "Accuracy:  0.7446236559139785\n",
            "New highest validation accuracy, saving the embedding model\n",
            "Training started for Epoch:  26\n",
            "Training stats for Epoch 26 Iteration 0: Loss= 0.12043589353561401, Number of mined triplets 1069\n",
            "Training completed for the Epoch: 26\n",
            "Accuracy:  0.6639784946236559\n",
            "Training started for Epoch:  27\n",
            "Training stats for Epoch 27 Iteration 0: Loss= 0.12637217342853546, Number of mined triplets 1141\n",
            "Training completed for the Epoch: 27\n",
            "Accuracy:  0.7446236559139785\n",
            "Training started for Epoch:  28\n",
            "Training stats for Epoch 28 Iteration 0: Loss= 0.12127631157636642, Number of mined triplets 834\n",
            "Training completed for the Epoch: 28\n",
            "Accuracy:  0.7365591397849462\n",
            "Training started for Epoch:  29\n",
            "Training stats for Epoch 29 Iteration 0: Loss= 0.12053602933883667, Number of mined triplets 868\n",
            "Training completed for the Epoch: 29\n",
            "Accuracy:  0.739247311827957\n",
            "Training started for Epoch:  30\n",
            "Training stats for Epoch 30 Iteration 0: Loss= 0.12391743063926697, Number of mined triplets 724\n",
            "Training completed for the Epoch: 30\n",
            "Accuracy:  0.7795698924731183\n",
            "New highest validation accuracy, saving the embedding model\n",
            "Training started for Epoch:  31\n",
            "Training stats for Epoch 31 Iteration 0: Loss= 0.1341090202331543, Number of mined triplets 1379\n",
            "Training completed for the Epoch: 31\n",
            "Accuracy:  0.7338709677419355\n",
            "Training started for Epoch:  32\n",
            "Training stats for Epoch 32 Iteration 0: Loss= 0.1315954327583313, Number of mined triplets 1115\n",
            "Training completed for the Epoch: 32\n",
            "Accuracy:  0.7688172043010753\n",
            "Training started for Epoch:  33\n",
            "Training stats for Epoch 33 Iteration 0: Loss= 0.12412868440151215, Number of mined triplets 953\n",
            "Training completed for the Epoch: 33\n",
            "Accuracy:  0.7876344086021505\n",
            "New highest validation accuracy, saving the embedding model\n",
            "Training started for Epoch:  34\n",
            "Training stats for Epoch 34 Iteration 0: Loss= 0.11850788444280624, Number of mined triplets 839\n",
            "Training completed for the Epoch: 34\n",
            "Accuracy:  0.7258064516129032\n",
            "Training started for Epoch:  35\n",
            "Training stats for Epoch 35 Iteration 0: Loss= 0.12157431244850159, Number of mined triplets 821\n",
            "Training completed for the Epoch: 35\n",
            "Accuracy:  0.8145161290322581\n",
            "New highest validation accuracy, saving the embedding model\n",
            "Training started for Epoch:  36\n",
            "Training stats for Epoch 36 Iteration 0: Loss= 0.13323889672756195, Number of mined triplets 567\n",
            "Training completed for the Epoch: 36\n",
            "Accuracy:  0.7204301075268817\n",
            "Training started for Epoch:  37\n",
            "Training stats for Epoch 37 Iteration 0: Loss= 0.13041888177394867, Number of mined triplets 698\n",
            "Training completed for the Epoch: 37\n",
            "Accuracy:  0.7526881720430108\n",
            "Training started for Epoch:  38\n",
            "Training stats for Epoch 38 Iteration 0: Loss= 0.12495051324367523, Number of mined triplets 486\n",
            "Training completed for the Epoch: 38\n",
            "Accuracy:  0.782258064516129\n",
            "Training started for Epoch:  39\n",
            "Training stats for Epoch 39 Iteration 0: Loss= 0.10211177915334702, Number of mined triplets 513\n",
            "Training completed for the Epoch: 39\n",
            "Accuracy:  0.782258064516129\n",
            "Training started for Epoch:  40\n",
            "Training stats for Epoch 40 Iteration 0: Loss= 0.11762017756700516, Number of mined triplets 644\n",
            "Training completed for the Epoch: 40\n",
            "Accuracy:  0.739247311827957\n",
            "Training started for Epoch:  41\n",
            "Training stats for Epoch 41 Iteration 0: Loss= 0.10183706879615784, Number of mined triplets 370\n",
            "Training completed for the Epoch: 41\n",
            "Accuracy:  0.793010752688172\n",
            "Training started for Epoch:  42\n",
            "Training stats for Epoch 42 Iteration 0: Loss= 0.11629152297973633, Number of mined triplets 572\n",
            "Training completed for the Epoch: 42\n",
            "Accuracy:  0.717741935483871\n",
            "Training started for Epoch:  43\n",
            "Training stats for Epoch 43 Iteration 0: Loss= 0.11612453311681747, Number of mined triplets 500\n",
            "Training completed for the Epoch: 43\n",
            "Accuracy:  0.7016129032258065\n",
            "Training started for Epoch:  44\n",
            "Training stats for Epoch 44 Iteration 0: Loss= 0.10182654857635498, Number of mined triplets 432\n",
            "Training completed for the Epoch: 44\n",
            "Accuracy:  0.7688172043010753\n",
            "Training started for Epoch:  45\n",
            "Training stats for Epoch 45 Iteration 0: Loss= 0.09178000688552856, Number of mined triplets 332\n",
            "Training completed for the Epoch: 45\n",
            "Accuracy:  0.7903225806451613\n",
            "Training started for Epoch:  46\n",
            "Training stats for Epoch 46 Iteration 0: Loss= 0.11731472611427307, Number of mined triplets 336\n",
            "Training completed for the Epoch: 46\n",
            "Accuracy:  0.7795698924731183\n",
            "Training started for Epoch:  47\n",
            "Training stats for Epoch 47 Iteration 0: Loss= 0.11739853769540787, Number of mined triplets 427\n",
            "Training completed for the Epoch: 47\n",
            "Accuracy:  0.8198924731182796\n",
            "New highest validation accuracy, saving the embedding model\n",
            "Training started for Epoch:  48\n",
            "Training stats for Epoch 48 Iteration 0: Loss= 0.09875326603651047, Number of mined triplets 378\n",
            "Training completed for the Epoch: 48\n",
            "Accuracy:  0.7768817204301075\n",
            "Training started for Epoch:  49\n",
            "Training stats for Epoch 49 Iteration 0: Loss= 0.09714625775814056, Number of mined triplets 400\n",
            "Training completed for the Epoch: 49\n",
            "Accuracy:  0.8279569892473119\n",
            "New highest validation accuracy, saving the embedding model\n",
            "Training started for Epoch:  50\n",
            "Training stats for Epoch 50 Iteration 0: Loss= 0.1259341835975647, Number of mined triplets 350\n",
            "Training completed for the Epoch: 50\n",
            "Accuracy:  0.8064516129032258\n",
            "Training started for Epoch:  51\n",
            "Training stats for Epoch 51 Iteration 0: Loss= 0.13084454834461212, Number of mined triplets 232\n",
            "Training completed for the Epoch: 51\n",
            "Accuracy:  0.7204301075268817\n",
            "Training started for Epoch:  52\n",
            "Training stats for Epoch 52 Iteration 0: Loss= 0.14008431136608124, Number of mined triplets 568\n",
            "Training completed for the Epoch: 52\n",
            "Accuracy:  0.8064516129032258\n",
            "Training started for Epoch:  53\n",
            "Training stats for Epoch 53 Iteration 0: Loss= 0.15018987655639648, Number of mined triplets 291\n",
            "Training completed for the Epoch: 53\n",
            "Accuracy:  0.7876344086021505\n",
            "Training started for Epoch:  54\n",
            "Training stats for Epoch 54 Iteration 0: Loss= 0.1106172651052475, Number of mined triplets 323\n",
            "Training completed for the Epoch: 54\n",
            "Accuracy:  0.8010752688172043\n",
            "Training started for Epoch:  55\n",
            "Training stats for Epoch 55 Iteration 0: Loss= 0.11553220450878143, Number of mined triplets 419\n",
            "Training completed for the Epoch: 55\n",
            "Accuracy:  0.7634408602150538\n",
            "Training started for Epoch:  56\n",
            "Training stats for Epoch 56 Iteration 0: Loss= 0.13854539394378662, Number of mined triplets 417\n",
            "Training completed for the Epoch: 56\n",
            "Accuracy:  0.8172043010752689\n",
            "Training started for Epoch:  57\n",
            "Training stats for Epoch 57 Iteration 0: Loss= 0.12366156280040741, Number of mined triplets 201\n",
            "Training completed for the Epoch: 57\n",
            "Accuracy:  0.7661290322580645\n",
            "Training started for Epoch:  58\n",
            "Training stats for Epoch 58 Iteration 0: Loss= 0.10283919423818588, Number of mined triplets 352\n",
            "Training completed for the Epoch: 58\n",
            "Accuracy:  0.8064516129032258\n",
            "Training started for Epoch:  59\n",
            "Training stats for Epoch 59 Iteration 0: Loss= 0.1304071843624115, Number of mined triplets 433\n",
            "Training completed for the Epoch: 59\n",
            "Accuracy:  0.8091397849462365\n",
            "Training started for Epoch:  60\n",
            "Training stats for Epoch 60 Iteration 0: Loss= 0.10655242204666138, Number of mined triplets 247\n",
            "Training completed for the Epoch: 60\n",
            "Accuracy:  0.7768817204301075\n",
            "Training started for Epoch:  61\n",
            "Training stats for Epoch 61 Iteration 0: Loss= 0.09577446430921555, Number of mined triplets 201\n",
            "Training completed for the Epoch: 61\n",
            "Accuracy:  0.7768817204301075\n",
            "Training started for Epoch:  62\n",
            "Training stats for Epoch 62 Iteration 0: Loss= 0.08864181488752365, Number of mined triplets 100\n",
            "Training completed for the Epoch: 62\n",
            "Accuracy:  0.7768817204301075\n",
            "Training started for Epoch:  63\n",
            "Training stats for Epoch 63 Iteration 0: Loss= 0.08199158310890198, Number of mined triplets 310\n",
            "Training completed for the Epoch: 63\n",
            "Accuracy:  0.7876344086021505\n",
            "Training started for Epoch:  64\n",
            "Training stats for Epoch 64 Iteration 0: Loss= 0.12001955509185791, Number of mined triplets 397\n",
            "Training completed for the Epoch: 64\n",
            "Accuracy:  0.803763440860215\n",
            "Training started for Epoch:  65\n",
            "Training stats for Epoch 65 Iteration 0: Loss= 0.1271437108516693, Number of mined triplets 314\n",
            "Training completed for the Epoch: 65\n",
            "Accuracy:  0.793010752688172\n",
            "Training started for Epoch:  66\n",
            "Training stats for Epoch 66 Iteration 0: Loss= 0.10774204134941101, Number of mined triplets 165\n",
            "Training completed for the Epoch: 66\n",
            "Accuracy:  0.8091397849462365\n",
            "Training started for Epoch:  67\n",
            "Training stats for Epoch 67 Iteration 0: Loss= 0.12287587672472, Number of mined triplets 211\n",
            "Training completed for the Epoch: 67\n",
            "Accuracy:  0.8010752688172043\n",
            "Training started for Epoch:  68\n",
            "Training stats for Epoch 68 Iteration 0: Loss= 0.06377735733985901, Number of mined triplets 64\n",
            "Training completed for the Epoch: 68\n",
            "Accuracy:  0.8252688172043011\n",
            "Training started for Epoch:  69\n",
            "Training stats for Epoch 69 Iteration 0: Loss= 0.15532159805297852, Number of mined triplets 274\n",
            "Training completed for the Epoch: 69\n",
            "Accuracy:  0.793010752688172\n",
            "Training started for Epoch:  70\n",
            "Training stats for Epoch 70 Iteration 0: Loss= 0.10746460407972336, Number of mined triplets 141\n",
            "Training completed for the Epoch: 70\n",
            "Accuracy:  0.7983870967741935\n",
            "Training started for Epoch:  71\n",
            "Training stats for Epoch 71 Iteration 0: Loss= 0.09634948521852493, Number of mined triplets 218\n",
            "Training completed for the Epoch: 71\n",
            "Accuracy:  0.7956989247311828\n",
            "Training started for Epoch:  72\n",
            "Training stats for Epoch 72 Iteration 0: Loss= 0.10514240711927414, Number of mined triplets 206\n",
            "Training completed for the Epoch: 72\n",
            "Accuracy:  0.793010752688172\n",
            "Training started for Epoch:  73\n",
            "Training stats for Epoch 73 Iteration 0: Loss= 0.0944843590259552, Number of mined triplets 124\n",
            "Training completed for the Epoch: 73\n",
            "Accuracy:  0.8172043010752689\n",
            "Training started for Epoch:  74\n",
            "Training stats for Epoch 74 Iteration 0: Loss= 0.07100941240787506, Number of mined triplets 83\n",
            "Training completed for the Epoch: 74\n",
            "Accuracy:  0.7849462365591398\n",
            "Training started for Epoch:  75\n",
            "Training stats for Epoch 75 Iteration 0: Loss= 0.10816105455160141, Number of mined triplets 184\n",
            "Training completed for the Epoch: 75\n",
            "Accuracy:  0.7849462365591398\n",
            "Training started for Epoch:  76\n",
            "Training stats for Epoch 76 Iteration 0: Loss= 0.13997049629688263, Number of mined triplets 129\n",
            "Training completed for the Epoch: 76\n",
            "Accuracy:  0.7741935483870968\n",
            "Training started for Epoch:  77\n",
            "Training stats for Epoch 77 Iteration 0: Loss= 0.07425375282764435, Number of mined triplets 69\n",
            "Training completed for the Epoch: 77\n",
            "Accuracy:  0.7661290322580645\n",
            "Training started for Epoch:  78\n",
            "Training stats for Epoch 78 Iteration 0: Loss= 0.1260019838809967, Number of mined triplets 133\n",
            "Training completed for the Epoch: 78\n",
            "Accuracy:  0.7903225806451613\n",
            "Training started for Epoch:  79\n",
            "Training stats for Epoch 79 Iteration 0: Loss= 0.09763585776090622, Number of mined triplets 163\n",
            "Training completed for the Epoch: 79\n",
            "Accuracy:  0.7661290322580645\n",
            "Training started for Epoch:  80\n",
            "Training stats for Epoch 80 Iteration 0: Loss= 0.1117633581161499, Number of mined triplets 123\n",
            "Training completed for the Epoch: 80\n",
            "Accuracy:  0.7876344086021505\n"
          ],
          "name": "stdout"
        }
      ]
    },
    {
      "cell_type": "markdown",
      "metadata": {
        "id": "BUh0FPeMYDv6"
      },
      "source": [
        "## Part 3: Training the Classifier"
      ]
    },
    {
      "cell_type": "markdown",
      "metadata": {
        "id": "LV4OxqEfU-zd"
      },
      "source": [
        "Now that our embedding model is trained, we will use it to create the classifier network"
      ]
    },
    {
      "cell_type": "code",
      "metadata": {
        "id": "B5b612hIU-ze"
      },
      "source": [
        "class classifierNet(nn.Module):\n",
        "    def __init__(self, EmbeddingNet):\n",
        "        super(classifierNet, self).__init__()\n",
        "        self.embeddingLayer = EmbeddingNet\n",
        "        self.linearLayer = nn.Sequential(nn.Linear(128, 64), nn.ReLU())\n",
        "        self.classifierLayer = nn.Linear(64,62)\n",
        "        self.dropout = nn.Dropout(0.5)\n",
        "\n",
        "    def forward(self, x):\n",
        "        x = self.dropout(self.embeddingLayer(x))\n",
        "        x = self.dropout(self.linearLayer(x))\n",
        "        x = self.classifierLayer(x)\n",
        "        return F.log_softmax(x, dim=1)"
      ],
      "execution_count": 25,
      "outputs": []
    },
    {
      "cell_type": "markdown",
      "metadata": {
        "id": "tOdZuQCVU-ze"
      },
      "source": [
        "Now we will create our classifier model using the embedding network with best validation accuracy and print its layers"
      ]
    },
    {
      "cell_type": "code",
      "metadata": {
        "colab": {
          "base_uri": "https://localhost:8080/"
        },
        "id": "tmBVBqJZGQtR",
        "outputId": "4a04e8f6-70f2-4be3-e2aa-d4418257c62f"
      },
      "source": [
        "bestEmbeddingNetwork = EmbeddingNetwork().to(device)\n",
        "bestEmbeddingNetwork.load_state_dict(torch.load('embeddingNetworkTask1.pt'))"
      ],
      "execution_count": 26,
      "outputs": [
        {
          "output_type": "execute_result",
          "data": {
            "text/plain": [
              "<All keys matched successfully>"
            ]
          },
          "metadata": {
            "tags": []
          },
          "execution_count": 26
        }
      ]
    },
    {
      "cell_type": "code",
      "metadata": {
        "colab": {
          "base_uri": "https://localhost:8080/"
        },
        "id": "avZkG2gWU-zf",
        "outputId": "30698f07-e477-4d53-98d1-7a628e2831d4"
      },
      "source": [
        "classifier = classifierNet(embeddingNetwork).to(device)\n",
        "print(classifier)"
      ],
      "execution_count": 27,
      "outputs": [
        {
          "output_type": "stream",
          "text": [
            "classifierNet(\n",
            "  (embeddingLayer): EmbeddingNetwork(\n",
            "    (conv1): Sequential(\n",
            "      (0): Conv2d(1, 64, kernel_size=(7, 7), stride=(2, 2), padding=(3, 3))\n",
            "      (1): BatchNorm2d(64, eps=1e-05, momentum=0.1, affine=True, track_running_stats=True)\n",
            "      (2): LeakyReLU(negative_slope=0.001)\n",
            "      (3): MaxPool2d(kernel_size=(3, 3), stride=2, padding=(1, 1), dilation=1, ceil_mode=False)\n",
            "    )\n",
            "    (conv2): Sequential(\n",
            "      (0): Conv2d(64, 64, kernel_size=(1, 1), stride=(1, 1))\n",
            "      (1): BatchNorm2d(64, eps=1e-05, momentum=0.1, affine=True, track_running_stats=True)\n",
            "      (2): LeakyReLU(negative_slope=0.001)\n",
            "      (3): Conv2d(64, 192, kernel_size=(3, 3), stride=(1, 1), padding=(1, 1))\n",
            "      (4): BatchNorm2d(192, eps=1e-05, momentum=0.1, affine=True, track_running_stats=True)\n",
            "      (5): LeakyReLU(negative_slope=0.001)\n",
            "      (6): MaxPool2d(kernel_size=(3, 3), stride=2, padding=(1, 1), dilation=1, ceil_mode=False)\n",
            "    )\n",
            "    (conv3): Sequential(\n",
            "      (0): Conv2d(192, 192, kernel_size=(1, 1), stride=(1, 1))\n",
            "      (1): BatchNorm2d(192, eps=1e-05, momentum=0.1, affine=True, track_running_stats=True)\n",
            "      (2): LeakyReLU(negative_slope=0.001)\n",
            "      (3): Conv2d(192, 384, kernel_size=(3, 3), stride=(1, 1), padding=(1, 1))\n",
            "      (4): BatchNorm2d(384, eps=1e-05, momentum=0.1, affine=True, track_running_stats=True)\n",
            "      (5): LeakyReLU(negative_slope=0.001)\n",
            "      (6): MaxPool2d(kernel_size=(3, 3), stride=2, padding=(1, 1), dilation=1, ceil_mode=False)\n",
            "    )\n",
            "    (conv4): Sequential(\n",
            "      (0): Conv2d(384, 384, kernel_size=(1, 1), stride=(1, 1))\n",
            "      (1): BatchNorm2d(384, eps=1e-05, momentum=0.1, affine=True, track_running_stats=True)\n",
            "      (2): LeakyReLU(negative_slope=0.001)\n",
            "      (3): Conv2d(384, 256, kernel_size=(3, 3), stride=(1, 1), padding=(1, 1))\n",
            "      (4): BatchNorm2d(256, eps=1e-05, momentum=0.1, affine=True, track_running_stats=True)\n",
            "      (5): LeakyReLU(negative_slope=0.001)\n",
            "    )\n",
            "    (conv5): Sequential(\n",
            "      (0): Conv2d(256, 256, kernel_size=(1, 1), stride=(1, 1))\n",
            "      (1): BatchNorm2d(256, eps=1e-05, momentum=0.1, affine=True, track_running_stats=True)\n",
            "      (2): LeakyReLU(negative_slope=0.001)\n",
            "      (3): Conv2d(256, 256, kernel_size=(3, 3), stride=(1, 1), padding=(1, 1))\n",
            "      (4): BatchNorm2d(256, eps=1e-05, momentum=0.1, affine=True, track_running_stats=True)\n",
            "      (5): LeakyReLU(negative_slope=0.001)\n",
            "    )\n",
            "    (conv6): Sequential(\n",
            "      (0): Conv2d(256, 256, kernel_size=(1, 1), stride=(1, 1))\n",
            "      (1): BatchNorm2d(256, eps=1e-05, momentum=0.1, affine=True, track_running_stats=True)\n",
            "      (2): LeakyReLU(negative_slope=0.001)\n",
            "      (3): Conv2d(256, 256, kernel_size=(3, 3), stride=(1, 1), padding=(1, 1))\n",
            "      (4): BatchNorm2d(256, eps=1e-05, momentum=0.1, affine=True, track_running_stats=True)\n",
            "      (5): LeakyReLU(negative_slope=0.001)\n",
            "      (6): MaxPool2d(kernel_size=(3, 3), stride=2, padding=(1, 1), dilation=1, ceil_mode=False)\n",
            "      (7): Flatten(start_dim=1, end_dim=-1)\n",
            "    )\n",
            "    (fullyConnected): Sequential(\n",
            "      (0): Linear(in_features=12544, out_features=4096, bias=True)\n",
            "      (1): BatchNorm1d(4096, eps=1e-05, momentum=0.1, affine=True, track_running_stats=True)\n",
            "      (2): LeakyReLU(negative_slope=0.001)\n",
            "      (3): Linear(in_features=4096, out_features=128, bias=True)\n",
            "    )\n",
            "  )\n",
            "  (linearLayer): Sequential(\n",
            "    (0): Linear(in_features=128, out_features=64, bias=True)\n",
            "    (1): ReLU()\n",
            "  )\n",
            "  (classifierLayer): Linear(in_features=64, out_features=62, bias=True)\n",
            "  (dropout): Dropout(p=0.5, inplace=False)\n",
            ")\n"
          ],
          "name": "stdout"
        }
      ]
    },
    {
      "cell_type": "markdown",
      "metadata": {
        "id": "9L8w0HUTU-zf"
      },
      "source": [
        "Before we begin the training of our classifier, we shall  freeze the weights of our embedding network as we don't want to train our embedding network, we shall only be training the linear layer(s)"
      ]
    },
    {
      "cell_type": "code",
      "metadata": {
        "id": "flDKZBMTU-zf"
      },
      "source": [
        "for param in classifier.embeddingLayer.parameters():\n",
        "    param.requires_grad = False"
      ],
      "execution_count": 28,
      "outputs": []
    },
    {
      "cell_type": "markdown",
      "metadata": {
        "id": "n3UQesdgU-zg"
      },
      "source": [
        "We now define our Cross Entropy Loss function to train the classifier, the new optimizer and an accuracy function to test our model. Since our outputs from the embedding network are L2 Normalized we can keep a high learning rate."
      ]
    },
    {
      "cell_type": "code",
      "metadata": {
        "id": "8PNM5gd2U-zg"
      },
      "source": [
        "criterion = nn.NLLLoss()\n",
        "optimizer = torch.optim.Adam(classifier.parameters(), lr=0.01)\n",
        "def accuracy(output, labels):\n",
        "    _, predictions = torch.max(output, dim=1)\n",
        "    return torch.sum(predictions==labels).item()"
      ],
      "execution_count": 29,
      "outputs": []
    },
    {
      "cell_type": "markdown",
      "metadata": {
        "id": "qx3nYhWSU-zh"
      },
      "source": [
        "Now that the prerequisites for our classifier are done, we can write the training and testing steps"
      ]
    },
    {
      "cell_type": "code",
      "metadata": {
        "colab": {
          "base_uri": "https://localhost:8080/"
        },
        "id": "gInMGCl2U-zh",
        "outputId": "3d8b063e-7d14-4c63-a93f-981f8ece4ebb"
      },
      "source": [
        "numberOfEpochs = 20\n",
        "validAccuracyMin = 0\n",
        "validationLoss = []\n",
        "validationAccuracy = []\n",
        "trainingLoss = []\n",
        "trainingAccuracy = []\n",
        "totalSteps = len(trainLoader)\n",
        "for epoch in range(1, numberOfEpochs):\n",
        "    classifier.train()\n",
        "    runningLoss = 0.0\n",
        "    correct = 0\n",
        "    total = 0\n",
        "    print(\"Training started for Epoch: \",epoch)\n",
        "    for batchIndex, (data, target) in enumerate(trainLoader):\n",
        "        data, target = data.to(device), target.to(device)\n",
        "        optimizer.zero_grad()\n",
        "        outputs = classifier(data)\n",
        "        loss = criterion(outputs,target)\n",
        "        loss.backward()\n",
        "        optimizer.step()\n",
        "        runningLoss += loss.item()\n",
        "        _, pred = torch.max(outputs, dim=1)\n",
        "        correct += torch.sum(pred==target).item()\n",
        "        total += target.size(0)\n",
        "        if (batchIndex)%10 ==0:\n",
        "            print(\"Epoch [{}/{}] Step [{}/{}] Loss: {:.4f}\".format(epoch,numberOfEpochs,batchIndex,totalSteps,loss.item()))\n",
        "    trainingAccuracy.append(100*correct/total)\n",
        "    trainingLoss.append(runningLoss/totalSteps)\n",
        "    print(\"Training Accuracy: \",(100*correct/total))\n",
        "    batchLoss = 0\n",
        "    totalV = 0\n",
        "    correctV = 0\n",
        "    with torch.no_grad():\n",
        "        classifier.eval()\n",
        "        for dataV, targetV in (validationLoader):\n",
        "            dataV, targetV = dataV.to(device), targetV.to(device)\n",
        "            outputV = classifier(dataV)\n",
        "            lossV = criterion(outputV,targetV)\n",
        "            batchLoss += lossV.item()\n",
        "            _, predV = torch.max(outputV, dim=1)\n",
        "            correctV += torch.sum(predV==targetV).item()\n",
        "            totalV += targetV.size(0)\n",
        "        validationAccuracy.append(100*correctV/totalV)\n",
        "        validationLoss.append(batchLoss/len(validationLoader))\n",
        "        print(\"Validation Accuracy: \",(100*correctV/totalV))\n",
        "        if (100*correctV/totalV)>validAccuracyMin:\n",
        "            validAccuracyMin = 100*correctV/totalV\n",
        "            print(\"Validation accuracy improved, network improvement detected, saving network\")\n",
        "            torch.save(classifier.state_dict(), \"classifierNetworkTask1.pt\")\n",
        "\n",
        "    classifier.train()\n",
        "                "
      ],
      "execution_count": 30,
      "outputs": [
        {
          "output_type": "stream",
          "text": [
            "Training started for Epoch:  1\n",
            "Epoch [1/20] Step [0/17] Loss: 4.1162\n",
            "Epoch [1/20] Step [10/17] Loss: 3.8026\n",
            "Training Accuracy:  16.03415559772296\n",
            "Validation Accuracy:  55.10752688172043\n",
            "Validation accuracy improved, network improvement detected, saving network\n",
            "Training started for Epoch:  2\n",
            "Epoch [2/20] Step [0/17] Loss: 3.2544\n",
            "Epoch [2/20] Step [10/17] Loss: 2.0851\n",
            "Training Accuracy:  58.8235294117647\n",
            "Validation Accuracy:  75.80645161290323\n",
            "Validation accuracy improved, network improvement detected, saving network\n",
            "Training started for Epoch:  3\n",
            "Epoch [3/20] Step [0/17] Loss: 1.3255\n",
            "Epoch [3/20] Step [10/17] Loss: 0.9339\n",
            "Training Accuracy:  78.8899430740038\n",
            "Validation Accuracy:  78.2258064516129\n",
            "Validation accuracy improved, network improvement detected, saving network\n",
            "Training started for Epoch:  4\n",
            "Epoch [4/20] Step [0/17] Loss: 0.7026\n",
            "Epoch [4/20] Step [10/17] Loss: 0.5443\n",
            "Training Accuracy:  83.82352941176471\n",
            "Validation Accuracy:  81.18279569892474\n",
            "Validation accuracy improved, network improvement detected, saving network\n",
            "Training started for Epoch:  5\n",
            "Epoch [5/20] Step [0/17] Loss: 0.5027\n",
            "Epoch [5/20] Step [10/17] Loss: 0.6125\n",
            "Training Accuracy:  85.29411764705883\n",
            "Validation Accuracy:  80.64516129032258\n",
            "Training started for Epoch:  6\n",
            "Epoch [6/20] Step [0/17] Loss: 0.5168\n",
            "Epoch [6/20] Step [10/17] Loss: 0.3651\n",
            "Training Accuracy:  86.4326375711575\n",
            "Validation Accuracy:  79.3010752688172\n",
            "Training started for Epoch:  7\n",
            "Epoch [7/20] Step [0/17] Loss: 0.3409\n",
            "Epoch [7/20] Step [10/17] Loss: 0.3283\n",
            "Training Accuracy:  87.33396584440227\n",
            "Validation Accuracy:  79.83870967741936\n",
            "Training started for Epoch:  8\n",
            "Epoch [8/20] Step [0/17] Loss: 0.3833\n",
            "Epoch [8/20] Step [10/17] Loss: 0.3625\n",
            "Training Accuracy:  88.75711574952561\n",
            "Validation Accuracy:  79.83870967741936\n",
            "Training started for Epoch:  9\n",
            "Epoch [9/20] Step [0/17] Loss: 0.5193\n",
            "Epoch [9/20] Step [10/17] Loss: 0.3979\n",
            "Training Accuracy:  89.42125237191651\n",
            "Validation Accuracy:  81.18279569892474\n",
            "Training started for Epoch:  10\n",
            "Epoch [10/20] Step [0/17] Loss: 0.3173\n",
            "Epoch [10/20] Step [10/17] Loss: 0.2998\n",
            "Training Accuracy:  89.89563567362428\n",
            "Validation Accuracy:  79.83870967741936\n",
            "Training started for Epoch:  11\n",
            "Epoch [11/20] Step [0/17] Loss: 0.3305\n",
            "Epoch [11/20] Step [10/17] Loss: 0.3220\n",
            "Training Accuracy:  89.08918406072107\n",
            "Validation Accuracy:  80.3763440860215\n",
            "Training started for Epoch:  12\n",
            "Epoch [12/20] Step [0/17] Loss: 0.3160\n",
            "Epoch [12/20] Step [10/17] Loss: 0.4481\n",
            "Training Accuracy:  90.55977229601518\n",
            "Validation Accuracy:  79.83870967741936\n",
            "Training started for Epoch:  13\n",
            "Epoch [13/20] Step [0/17] Loss: 0.2540\n",
            "Epoch [13/20] Step [10/17] Loss: 0.2970\n",
            "Training Accuracy:  91.3662239089184\n",
            "Validation Accuracy:  80.91397849462365\n",
            "Training started for Epoch:  14\n",
            "Epoch [14/20] Step [0/17] Loss: 0.2841\n",
            "Epoch [14/20] Step [10/17] Loss: 0.4103\n",
            "Training Accuracy:  90.98671726755218\n",
            "Validation Accuracy:  80.10752688172043\n",
            "Training started for Epoch:  15\n",
            "Epoch [15/20] Step [0/17] Loss: 0.2603\n",
            "Epoch [15/20] Step [10/17] Loss: 0.3713\n",
            "Training Accuracy:  89.46869070208729\n",
            "Validation Accuracy:  81.45161290322581\n",
            "Validation accuracy improved, network improvement detected, saving network\n",
            "Training started for Epoch:  16\n",
            "Epoch [16/20] Step [0/17] Loss: 0.2545\n",
            "Epoch [16/20] Step [10/17] Loss: 0.3052\n",
            "Training Accuracy:  91.03415559772296\n",
            "Validation Accuracy:  81.72043010752688\n",
            "Validation accuracy improved, network improvement detected, saving network\n",
            "Training started for Epoch:  17\n",
            "Epoch [17/20] Step [0/17] Loss: 0.2729\n",
            "Epoch [17/20] Step [10/17] Loss: 0.2627\n",
            "Training Accuracy:  91.65085388994308\n",
            "Validation Accuracy:  80.3763440860215\n",
            "Training started for Epoch:  18\n",
            "Epoch [18/20] Step [0/17] Loss: 0.2791\n",
            "Epoch [18/20] Step [10/17] Loss: 0.2666\n",
            "Training Accuracy:  90.22770398481974\n",
            "Validation Accuracy:  81.72043010752688\n",
            "Training started for Epoch:  19\n",
            "Epoch [19/20] Step [0/17] Loss: 0.3823\n",
            "Epoch [19/20] Step [10/17] Loss: 0.4586\n",
            "Training Accuracy:  91.46110056925997\n",
            "Validation Accuracy:  81.45161290322581\n"
          ],
          "name": "stdout"
        }
      ]
    },
    {
      "cell_type": "markdown",
      "metadata": {
        "id": "cIstoQPHU-zi"
      },
      "source": [
        "Now that the model is trained, we can see the training and validation plots"
      ]
    },
    {
      "cell_type": "code",
      "metadata": {
        "colab": {
          "base_uri": "https://localhost:8080/",
          "height": 610
        },
        "id": "_Lm8t-bhU-zj",
        "outputId": "40c2629a-c796-411d-e292-6dafeff40a9e"
      },
      "source": [
        "fig = plt.figure(figsize=(20,10))\n",
        "plt.title(\"Train-Validation Loss Plot\")\n",
        "plt.plot(trainingLoss, label='training loss')\n",
        "plt.plot(validationLoss, label='validation loss')\n",
        "plt.xlabel('Number of epochs')\n",
        "plt.ylabel('Loss')\n",
        "plt.legend(loc='best')"
      ],
      "execution_count": 31,
      "outputs": [
        {
          "output_type": "execute_result",
          "data": {
            "text/plain": [
              "<matplotlib.legend.Legend at 0x7fd5a8cb1810>"
            ]
          },
          "metadata": {
            "tags": []
          },
          "execution_count": 31
        },
        {
          "output_type": "display_data",
          "data": {
            "image/png": "[encoded data removed]",
            "text/plain": [
              "<Figure size 1440x720 with 1 Axes>"
            ]
          },
          "metadata": {
            "tags": [],
            "needs_background": "light"
          }
        }
      ]
    },
    {
      "cell_type": "code",
      "metadata": {
        "colab": {
          "base_uri": "https://localhost:8080/",
          "height": 611
        },
        "id": "I-St94_XU-zk",
        "outputId": "56ab7ebd-de7a-4660-c91c-5f7b8731dfc7"
      },
      "source": [
        "fig = plt.figure(figsize=(20,10))\n",
        "plt.title(\"Train-Validation Accuracy Plot\")\n",
        "plt.plot(trainingAccuracy, label='training accuracy')\n",
        "plt.plot(validationAccuracy, label='validation accuracy')\n",
        "plt.xlabel('Number of epochs')\n",
        "plt.ylabel('Accuracy')\n",
        "plt.legend(loc='best')"
      ],
      "execution_count": 32,
      "outputs": [
        {
          "output_type": "execute_result",
          "data": {
            "text/plain": [
              "<matplotlib.legend.Legend at 0x7fd5a0112b50>"
            ]
          },
          "metadata": {
            "tags": []
          },
          "execution_count": 32
        },
        {
          "output_type": "display_data",
          "data": {
            "image/png": "[encoded data removed]",
            "text/plain": [
              "<Figure size 1440x720 with 1 Axes>"
            ]
          },
          "metadata": {
            "tags": [],
            "needs_background": "light"
          }
        }
      ]
    }
  ]
}